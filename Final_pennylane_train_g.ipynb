{
  "nbformat": 4,
  "nbformat_minor": 0,
  "metadata": {
    "colab": {
      "provenance": []
    },
    "kernelspec": {
      "name": "python3",
      "display_name": "Python 3"
    },
    "language_info": {
      "name": "python"
    }
  },
  "cells": [
    {
      "cell_type": "code",
      "execution_count": null,
      "metadata": {
        "colab": {
          "base_uri": "https://localhost:8080/"
        },
        "id": "AfNsTlzm6i8K",
        "outputId": "6daea94f-635a-4163-b7d1-05fa95262217"
      },
      "outputs": [
        {
          "output_type": "stream",
          "name": "stdout",
          "text": [
            "Collecting pennylane\n",
            "  Downloading PennyLane-0.37.0-py3-none-any.whl.metadata (9.3 kB)\n",
            "Requirement already satisfied: numpy<2.0 in /usr/local/lib/python3.10/dist-packages (from pennylane) (1.26.4)\n",
            "Requirement already satisfied: scipy in /usr/local/lib/python3.10/dist-packages (from pennylane) (1.13.1)\n",
            "Requirement already satisfied: networkx in /usr/local/lib/python3.10/dist-packages (from pennylane) (3.3)\n",
            "Collecting rustworkx (from pennylane)\n",
            "  Downloading rustworkx-0.15.1-cp38-abi3-manylinux_2_17_x86_64.manylinux2014_x86_64.whl.metadata (9.9 kB)\n",
            "Requirement already satisfied: autograd in /usr/local/lib/python3.10/dist-packages (from pennylane) (1.6.2)\n",
            "Requirement already satisfied: toml in /usr/local/lib/python3.10/dist-packages (from pennylane) (0.10.2)\n",
            "Collecting appdirs (from pennylane)\n",
            "  Downloading appdirs-1.4.4-py2.py3-none-any.whl.metadata (9.0 kB)\n",
            "Collecting semantic-version>=2.7 (from pennylane)\n",
            "  Downloading semantic_version-2.10.0-py2.py3-none-any.whl.metadata (9.7 kB)\n",
            "Collecting autoray>=0.6.11 (from pennylane)\n",
            "  Downloading autoray-0.6.12-py3-none-any.whl.metadata (5.7 kB)\n",
            "Requirement already satisfied: cachetools in /usr/local/lib/python3.10/dist-packages (from pennylane) (5.4.0)\n",
            "Collecting pennylane-lightning>=0.37 (from pennylane)\n",
            "  Downloading PennyLane_Lightning-0.37.0-cp310-cp310-manylinux_2_28_x86_64.whl.metadata (23 kB)\n",
            "Requirement already satisfied: requests in /usr/local/lib/python3.10/dist-packages (from pennylane) (2.32.3)\n",
            "Requirement already satisfied: typing-extensions in /usr/local/lib/python3.10/dist-packages (from pennylane) (4.12.2)\n",
            "Requirement already satisfied: packaging in /usr/local/lib/python3.10/dist-packages (from pennylane) (24.1)\n",
            "Requirement already satisfied: future>=0.15.2 in /usr/local/lib/python3.10/dist-packages (from autograd->pennylane) (1.0.0)\n",
            "Requirement already satisfied: charset-normalizer<4,>=2 in /usr/local/lib/python3.10/dist-packages (from requests->pennylane) (3.3.2)\n",
            "Requirement already satisfied: idna<4,>=2.5 in /usr/local/lib/python3.10/dist-packages (from requests->pennylane) (3.7)\n",
            "Requirement already satisfied: urllib3<3,>=1.21.1 in /usr/local/lib/python3.10/dist-packages (from requests->pennylane) (2.0.7)\n",
            "Requirement already satisfied: certifi>=2017.4.17 in /usr/local/lib/python3.10/dist-packages (from requests->pennylane) (2024.7.4)\n",
            "Downloading PennyLane-0.37.0-py3-none-any.whl (1.8 MB)\n",
            "\u001b[2K   \u001b[90m━━━━━━━━━━━━━━━━━━━━━━━━━━━━━━━━━━━━━━━━\u001b[0m \u001b[32m1.8/1.8 MB\u001b[0m \u001b[31m19.4 MB/s\u001b[0m eta \u001b[36m0:00:00\u001b[0m\n",
            "\u001b[?25hDownloading autoray-0.6.12-py3-none-any.whl (50 kB)\n",
            "\u001b[2K   \u001b[90m━━━━━━━━━━━━━━━━━━━━━━━━━━━━━━━━━━━━━━━━\u001b[0m \u001b[32m51.0/51.0 kB\u001b[0m \u001b[31m1.9 MB/s\u001b[0m eta \u001b[36m0:00:00\u001b[0m\n",
            "\u001b[?25hDownloading PennyLane_Lightning-0.37.0-cp310-cp310-manylinux_2_28_x86_64.whl (15.5 MB)\n",
            "\u001b[2K   \u001b[90m━━━━━━━━━━━━━━━━━━━━━━━━━━━━━━━━━━━━━━━━\u001b[0m \u001b[32m15.5/15.5 MB\u001b[0m \u001b[31m44.3 MB/s\u001b[0m eta \u001b[36m0:00:00\u001b[0m\n",
            "\u001b[?25hDownloading semantic_version-2.10.0-py2.py3-none-any.whl (15 kB)\n",
            "Downloading appdirs-1.4.4-py2.py3-none-any.whl (9.6 kB)\n",
            "Downloading rustworkx-0.15.1-cp38-abi3-manylinux_2_17_x86_64.manylinux2014_x86_64.whl (2.0 MB)\n",
            "\u001b[2K   \u001b[90m━━━━━━━━━━━━━━━━━━━━━━━━━━━━━━━━━━━━━━━━\u001b[0m \u001b[32m2.0/2.0 MB\u001b[0m \u001b[31m30.0 MB/s\u001b[0m eta \u001b[36m0:00:00\u001b[0m\n",
            "\u001b[?25hInstalling collected packages: appdirs, semantic-version, rustworkx, autoray, pennylane-lightning, pennylane\n",
            "Successfully installed appdirs-1.4.4 autoray-0.6.12 pennylane-0.37.0 pennylane-lightning-0.37.0 rustworkx-0.15.1 semantic-version-2.10.0\n",
            "Cloning into 'pennylane-lightning'...\n",
            "remote: Enumerating objects: 29304, done.\u001b[K\n",
            "remote: Counting objects: 100% (3525/3525), done.\u001b[K\n",
            "remote: Compressing objects: 100% (1120/1120), done.\u001b[K\n",
            "remote: Total 29304 (delta 2783), reused 3041 (delta 2405), pack-reused 25779\u001b[K\n",
            "Receiving objects: 100% (29304/29304), 8.40 MiB | 13.09 MiB/s, done.\n",
            "Resolving deltas: 100% (22868/22868), done.\n"
          ]
        }
      ],
      "source": [
        "!pip install pennylane\n",
        "!git clone https://github.com/PennyLaneAI/pennylane-lightning.git"
      ]
    },
    {
      "cell_type": "code",
      "source": [
        "import os\n",
        "os.chdir(\"pennylane-lightning\")\n",
        "!pip install -r requirements.txt\n",
        "!PL_BACKEND=\"lightning_qubit\" pip install -e . -vv"
      ],
      "metadata": {
        "colab": {
          "base_uri": "https://localhost:8080/"
        },
        "id": "tCPiN-249R1e",
        "outputId": "67fecec5-177d-4b46-99a0-9f6e6c17de17"
      },
      "execution_count": null,
      "outputs": [
        {
          "output_type": "stream",
          "name": "stdout",
          "text": [
            "Collecting ninja (from -r requirements.txt (line 1))\n",
            "  Downloading ninja-1.11.1.1-py2.py3-none-manylinux1_x86_64.manylinux_2_5_x86_64.whl.metadata (5.3 kB)\n",
            "Collecting flaky (from -r requirements.txt (line 2))\n",
            "  Downloading flaky-3.8.1-py2.py3-none-any.whl.metadata (7.4 kB)\n",
            "Requirement already satisfied: pennylane>=0.34 in /usr/local/lib/python3.10/dist-packages (from -r requirements.txt (line 3)) (0.37.0)\n",
            "Collecting pybind11 (from -r requirements.txt (line 4))\n",
            "  Downloading pybind11-2.13.1-py3-none-any.whl.metadata (9.5 kB)\n",
            "Collecting pytest~=8.0.0 (from -r requirements.txt (line 5))\n",
            "  Downloading pytest-8.0.2-py3-none-any.whl.metadata (7.7 kB)\n",
            "Collecting pytest-cov (from -r requirements.txt (line 6))\n",
            "  Downloading pytest_cov-5.0.0-py3-none-any.whl.metadata (27 kB)\n",
            "Collecting pytest-mock (from -r requirements.txt (line 7))\n",
            "  Downloading pytest_mock-3.14.0-py3-none-any.whl.metadata (3.8 kB)\n",
            "Requirement already satisfied: scipy in /usr/local/lib/python3.10/dist-packages (from -r requirements.txt (line 8)) (1.13.1)\n",
            "Collecting pytest-xdist (from -r requirements.txt (line 9))\n",
            "  Downloading pytest_xdist-3.6.1-py3-none-any.whl.metadata (4.3 kB)\n",
            "Requirement already satisfied: numpy<2.0 in /usr/local/lib/python3.10/dist-packages (from pennylane>=0.34->-r requirements.txt (line 3)) (1.26.4)\n",
            "Requirement already satisfied: networkx in /usr/local/lib/python3.10/dist-packages (from pennylane>=0.34->-r requirements.txt (line 3)) (3.3)\n",
            "Requirement already satisfied: rustworkx in /usr/local/lib/python3.10/dist-packages (from pennylane>=0.34->-r requirements.txt (line 3)) (0.15.1)\n",
            "Requirement already satisfied: autograd in /usr/local/lib/python3.10/dist-packages (from pennylane>=0.34->-r requirements.txt (line 3)) (1.6.2)\n",
            "Requirement already satisfied: toml in /usr/local/lib/python3.10/dist-packages (from pennylane>=0.34->-r requirements.txt (line 3)) (0.10.2)\n",
            "Requirement already satisfied: appdirs in /usr/local/lib/python3.10/dist-packages (from pennylane>=0.34->-r requirements.txt (line 3)) (1.4.4)\n",
            "Requirement already satisfied: semantic-version>=2.7 in /usr/local/lib/python3.10/dist-packages (from pennylane>=0.34->-r requirements.txt (line 3)) (2.10.0)\n",
            "Requirement already satisfied: autoray>=0.6.11 in /usr/local/lib/python3.10/dist-packages (from pennylane>=0.34->-r requirements.txt (line 3)) (0.6.12)\n",
            "Requirement already satisfied: cachetools in /usr/local/lib/python3.10/dist-packages (from pennylane>=0.34->-r requirements.txt (line 3)) (5.4.0)\n",
            "Requirement already satisfied: pennylane-lightning>=0.37 in /usr/local/lib/python3.10/dist-packages (from pennylane>=0.34->-r requirements.txt (line 3)) (0.37.0)\n",
            "Requirement already satisfied: requests in /usr/local/lib/python3.10/dist-packages (from pennylane>=0.34->-r requirements.txt (line 3)) (2.32.3)\n",
            "Requirement already satisfied: typing-extensions in /usr/local/lib/python3.10/dist-packages (from pennylane>=0.34->-r requirements.txt (line 3)) (4.12.2)\n",
            "Requirement already satisfied: packaging in /usr/local/lib/python3.10/dist-packages (from pennylane>=0.34->-r requirements.txt (line 3)) (24.1)\n",
            "Requirement already satisfied: iniconfig in /usr/local/lib/python3.10/dist-packages (from pytest~=8.0.0->-r requirements.txt (line 5)) (2.0.0)\n",
            "Requirement already satisfied: pluggy<2.0,>=1.3.0 in /usr/local/lib/python3.10/dist-packages (from pytest~=8.0.0->-r requirements.txt (line 5)) (1.5.0)\n",
            "Requirement already satisfied: exceptiongroup>=1.0.0rc8 in /usr/local/lib/python3.10/dist-packages (from pytest~=8.0.0->-r requirements.txt (line 5)) (1.2.2)\n",
            "Requirement already satisfied: tomli>=1.0.0 in /usr/local/lib/python3.10/dist-packages (from pytest~=8.0.0->-r requirements.txt (line 5)) (2.0.1)\n",
            "Collecting coverage>=5.2.1 (from coverage[toml]>=5.2.1->pytest-cov->-r requirements.txt (line 6))\n",
            "  Downloading coverage-7.6.1-cp310-cp310-manylinux_2_5_x86_64.manylinux1_x86_64.manylinux_2_17_x86_64.manylinux2014_x86_64.whl.metadata (8.3 kB)\n",
            "Collecting execnet>=2.1 (from pytest-xdist->-r requirements.txt (line 9))\n",
            "  Downloading execnet-2.1.1-py3-none-any.whl.metadata (2.9 kB)\n",
            "Requirement already satisfied: future>=0.15.2 in /usr/local/lib/python3.10/dist-packages (from autograd->pennylane>=0.34->-r requirements.txt (line 3)) (1.0.0)\n",
            "Requirement already satisfied: charset-normalizer<4,>=2 in /usr/local/lib/python3.10/dist-packages (from requests->pennylane>=0.34->-r requirements.txt (line 3)) (3.3.2)\n",
            "Requirement already satisfied: idna<4,>=2.5 in /usr/local/lib/python3.10/dist-packages (from requests->pennylane>=0.34->-r requirements.txt (line 3)) (3.7)\n",
            "Requirement already satisfied: urllib3<3,>=1.21.1 in /usr/local/lib/python3.10/dist-packages (from requests->pennylane>=0.34->-r requirements.txt (line 3)) (2.0.7)\n",
            "Requirement already satisfied: certifi>=2017.4.17 in /usr/local/lib/python3.10/dist-packages (from requests->pennylane>=0.34->-r requirements.txt (line 3)) (2024.7.4)\n",
            "Downloading ninja-1.11.1.1-py2.py3-none-manylinux1_x86_64.manylinux_2_5_x86_64.whl (307 kB)\n",
            "\u001b[2K   \u001b[90m━━━━━━━━━━━━━━━━━━━━━━━━━━━━━━━━━━━━━━━━\u001b[0m \u001b[32m307.2/307.2 kB\u001b[0m \u001b[31m5.6 MB/s\u001b[0m eta \u001b[36m0:00:00\u001b[0m\n",
            "\u001b[?25hDownloading flaky-3.8.1-py2.py3-none-any.whl (19 kB)\n",
            "Downloading pybind11-2.13.1-py3-none-any.whl (238 kB)\n",
            "\u001b[2K   \u001b[90m━━━━━━━━━━━━━━━━━━━━━━━━━━━━━━━━━━━━━━━━\u001b[0m \u001b[32m238.8/238.8 kB\u001b[0m \u001b[31m13.2 MB/s\u001b[0m eta \u001b[36m0:00:00\u001b[0m\n",
            "\u001b[?25hDownloading pytest-8.0.2-py3-none-any.whl (333 kB)\n",
            "\u001b[2K   \u001b[90m━━━━━━━━━━━━━━━━━━━━━━━━━━━━━━━━━━━━━━━━\u001b[0m \u001b[32m334.0/334.0 kB\u001b[0m \u001b[31m15.8 MB/s\u001b[0m eta \u001b[36m0:00:00\u001b[0m\n",
            "\u001b[?25hDownloading pytest_cov-5.0.0-py3-none-any.whl (21 kB)\n",
            "Downloading pytest_mock-3.14.0-py3-none-any.whl (9.9 kB)\n",
            "Downloading pytest_xdist-3.6.1-py3-none-any.whl (46 kB)\n",
            "\u001b[2K   \u001b[90m━━━━━━━━━━━━━━━━━━━━━━━━━━━━━━━━━━━━━━━━\u001b[0m \u001b[32m46.1/46.1 kB\u001b[0m \u001b[31m2.0 MB/s\u001b[0m eta \u001b[36m0:00:00\u001b[0m\n",
            "\u001b[?25hDownloading coverage-7.6.1-cp310-cp310-manylinux_2_5_x86_64.manylinux1_x86_64.manylinux_2_17_x86_64.manylinux2014_x86_64.whl (234 kB)\n",
            "\u001b[2K   \u001b[90m━━━━━━━━━━━━━━━━━━━━━━━━━━━━━━━━━━━━━━━━\u001b[0m \u001b[32m234.7/234.7 kB\u001b[0m \u001b[31m11.4 MB/s\u001b[0m eta \u001b[36m0:00:00\u001b[0m\n",
            "\u001b[?25hDownloading execnet-2.1.1-py3-none-any.whl (40 kB)\n",
            "\u001b[2K   \u001b[90m━━━━━━━━━━━━━━━━━━━━━━━━━━━━━━━━━━━━━━━━\u001b[0m \u001b[32m40.6/40.6 kB\u001b[0m \u001b[31m2.0 MB/s\u001b[0m eta \u001b[36m0:00:00\u001b[0m\n",
            "\u001b[?25hInstalling collected packages: ninja, pytest, pybind11, flaky, execnet, coverage, pytest-xdist, pytest-mock, pytest-cov\n",
            "  Attempting uninstall: pytest\n",
            "    Found existing installation: pytest 7.4.4\n",
            "    Uninstalling pytest-7.4.4:\n",
            "      Successfully uninstalled pytest-7.4.4\n",
            "Successfully installed coverage-7.6.1 execnet-2.1.1 flaky-3.8.1 ninja-1.11.1.1 pybind11-2.13.1 pytest-8.0.2 pytest-cov-5.0.0 pytest-mock-3.14.0 pytest-xdist-3.6.1\n",
            "Using pip 24.1.2 from /usr/local/lib/python3.10/dist-packages/pip (python 3.10)\n",
            "Non-user install because site-packages writeable\n",
            "Created temporary directory: /tmp/pip-build-tracker-l8i8ojet\n",
            "Initialized build tracking at /tmp/pip-build-tracker-l8i8ojet\n",
            "Created build tracker: /tmp/pip-build-tracker-l8i8ojet\n",
            "Entered build tracker: /tmp/pip-build-tracker-l8i8ojet\n",
            "Created temporary directory: /tmp/pip-install-ec5q2avp\n",
            "Created temporary directory: /tmp/pip-ephem-wheel-cache-rwi5_hxt\n",
            "Obtaining file:///content/pennylane-lightning\n",
            "  Added file:///content/pennylane-lightning to build tracker '/tmp/pip-build-tracker-l8i8ojet'\n",
            "  Running setup.py (path:/content/pennylane-lightning/setup.py) egg_info for package from file:///content/pennylane-lightning\n",
            "  Created temporary directory: /tmp/pip-pip-egg-info-ybz_l8_y\n",
            "  Running command python setup.py egg_info\n",
            "  /usr/local/lib/python3.10/dist-packages/setuptools/dist.py:300: InformationOnly: Normalizing '0.38.0-dev26' to '0.38.0.dev26'\n",
            "    self.metadata.version = self._normalize_version(self.metadata.version)\n",
            "  running egg_info\n",
            "  creating /tmp/pip-pip-egg-info-ybz_l8_y/PennyLane_Lightning.egg-info\n",
            "  writing /tmp/pip-pip-egg-info-ybz_l8_y/PennyLane_Lightning.egg-info/PKG-INFO\n",
            "  writing dependency_links to /tmp/pip-pip-egg-info-ybz_l8_y/PennyLane_Lightning.egg-info/dependency_links.txt\n",
            "  writing entry points to /tmp/pip-pip-egg-info-ybz_l8_y/PennyLane_Lightning.egg-info/entry_points.txt\n",
            "  writing requirements to /tmp/pip-pip-egg-info-ybz_l8_y/PennyLane_Lightning.egg-info/requires.txt\n",
            "  writing top-level names to /tmp/pip-pip-egg-info-ybz_l8_y/PennyLane_Lightning.egg-info/top_level.txt\n",
            "  writing manifest file '/tmp/pip-pip-egg-info-ybz_l8_y/PennyLane_Lightning.egg-info/SOURCES.txt'\n",
            "  reading manifest file '/tmp/pip-pip-egg-info-ybz_l8_y/PennyLane_Lightning.egg-info/SOURCES.txt'\n",
            "  reading manifest template 'MANIFEST.in'\n",
            "  warning: no files found matching 'pennylane_lightning/lightning_qpu/lightning_gpu.toml'\n",
            "  adding license file 'LICENSE'\n",
            "  writing manifest file '/tmp/pip-pip-egg-info-ybz_l8_y/PennyLane_Lightning.egg-info/SOURCES.txt'\n",
            "  Preparing metadata (setup.py) ... \u001b[?25l\u001b[?25hdone\n",
            "  Source in /content/pennylane-lightning has version 0.38.0.dev26, which satisfies requirement PennyLane_Lightning==0.38.0.dev26 from file:///content/pennylane-lightning\n",
            "  Removed PennyLane_Lightning==0.38.0.dev26 from file:///content/pennylane-lightning from build tracker '/tmp/pip-build-tracker-l8i8ojet'\n",
            "Requirement already satisfied: pennylane>=0.36 in /usr/local/lib/python3.10/dist-packages (from PennyLane_Lightning==0.38.0.dev26) (0.37.0)\n",
            "Requirement already satisfied: numpy<2.0 in /usr/local/lib/python3.10/dist-packages (from pennylane>=0.36->PennyLane_Lightning==0.38.0.dev26) (1.26.4)\n",
            "Requirement already satisfied: scipy in /usr/local/lib/python3.10/dist-packages (from pennylane>=0.36->PennyLane_Lightning==0.38.0.dev26) (1.13.1)\n",
            "Requirement already satisfied: networkx in /usr/local/lib/python3.10/dist-packages (from pennylane>=0.36->PennyLane_Lightning==0.38.0.dev26) (3.3)\n",
            "Requirement already satisfied: rustworkx in /usr/local/lib/python3.10/dist-packages (from pennylane>=0.36->PennyLane_Lightning==0.38.0.dev26) (0.15.1)\n",
            "Requirement already satisfied: autograd in /usr/local/lib/python3.10/dist-packages (from pennylane>=0.36->PennyLane_Lightning==0.38.0.dev26) (1.6.2)\n",
            "Requirement already satisfied: toml in /usr/local/lib/python3.10/dist-packages (from pennylane>=0.36->PennyLane_Lightning==0.38.0.dev26) (0.10.2)\n",
            "Requirement already satisfied: appdirs in /usr/local/lib/python3.10/dist-packages (from pennylane>=0.36->PennyLane_Lightning==0.38.0.dev26) (1.4.4)\n",
            "Requirement already satisfied: semantic-version>=2.7 in /usr/local/lib/python3.10/dist-packages (from pennylane>=0.36->PennyLane_Lightning==0.38.0.dev26) (2.10.0)\n",
            "Requirement already satisfied: autoray>=0.6.11 in /usr/local/lib/python3.10/dist-packages (from pennylane>=0.36->PennyLane_Lightning==0.38.0.dev26) (0.6.12)\n",
            "Requirement already satisfied: cachetools in /usr/local/lib/python3.10/dist-packages (from pennylane>=0.36->PennyLane_Lightning==0.38.0.dev26) (5.4.0)\n",
            "Requirement already satisfied: requests in /usr/local/lib/python3.10/dist-packages (from pennylane>=0.36->PennyLane_Lightning==0.38.0.dev26) (2.32.3)\n",
            "Requirement already satisfied: typing-extensions in /usr/local/lib/python3.10/dist-packages (from pennylane>=0.36->PennyLane_Lightning==0.38.0.dev26) (4.12.2)\n",
            "Requirement already satisfied: packaging in /usr/local/lib/python3.10/dist-packages (from pennylane>=0.36->PennyLane_Lightning==0.38.0.dev26) (24.1)\n",
            "Requirement already satisfied: future>=0.15.2 in /usr/local/lib/python3.10/dist-packages (from autograd->pennylane>=0.36->PennyLane_Lightning==0.38.0.dev26) (1.0.0)\n",
            "Requirement already satisfied: charset-normalizer<4,>=2 in /usr/local/lib/python3.10/dist-packages (from requests->pennylane>=0.36->PennyLane_Lightning==0.38.0.dev26) (3.3.2)\n",
            "Requirement already satisfied: idna<4,>=2.5 in /usr/local/lib/python3.10/dist-packages (from requests->pennylane>=0.36->PennyLane_Lightning==0.38.0.dev26) (3.7)\n",
            "Requirement already satisfied: urllib3<3,>=1.21.1 in /usr/local/lib/python3.10/dist-packages (from requests->pennylane>=0.36->PennyLane_Lightning==0.38.0.dev26) (2.0.7)\n",
            "Requirement already satisfied: certifi>=2017.4.17 in /usr/local/lib/python3.10/dist-packages (from requests->pennylane>=0.36->PennyLane_Lightning==0.38.0.dev26) (2024.7.4)\n",
            "Created temporary directory: /tmp/pip-unpack-ll53cgfu\n",
            "Installing collected packages: PennyLane_Lightning\n",
            "  Attempting uninstall: PennyLane_Lightning\n",
            "    Found existing installation: PennyLane_Lightning 0.37.0\n",
            "    Uninstalling PennyLane_Lightning-0.37.0:\n",
            "      Created temporary directory: /usr/local/lib/python3.10/dist-packages/~ennyLane_Lightning-0.37.0.dist-info\n",
            "      Removing file or directory /usr/local/lib/python3.10/dist-packages/PennyLane_Lightning-0.37.0.dist-info/\n",
            "      Created temporary directory: /usr/local/lib/python3.10/dist-packages/~ennyLane_Lightning.libs\n",
            "      Removing file or directory /usr/local/lib/python3.10/dist-packages/PennyLane_Lightning.libs/\n",
            "      Created temporary directory: /usr/local/lib/python3.10/dist-packages/~ennylane_lightning\n",
            "      Removing file or directory /usr/local/lib/python3.10/dist-packages/pennylane_lightning/\n",
            "      Successfully uninstalled PennyLane_Lightning-0.37.0\n",
            "  Running setup.py develop for PennyLane_Lightning\n",
            "    Running command python setup.py develop\n",
            "    /usr/local/lib/python3.10/dist-packages/setuptools/dist.py:300: InformationOnly: Normalizing '0.38.0-dev26' to '0.38.0.dev26'\n",
            "      self.metadata.version = self._normalize_version(self.metadata.version)\n",
            "    running develop\n",
            "    /usr/local/lib/python3.10/dist-packages/setuptools/command/develop.py:42: EasyInstallDeprecationWarning: easy_install command is deprecated.\n",
            "    !!\n",
            "\n",
            "            ********************************************************************************\n",
            "            Please avoid running ``setup.py`` and ``easy_install``.\n",
            "            Instead, use pypa/build, pypa/installer or other\n",
            "            standards-based tools.\n",
            "\n",
            "            See https://github.com/pypa/setuptools/issues/917 for details.\n",
            "            ********************************************************************************\n",
            "\n",
            "    !!\n",
            "      easy_install.initialize_options(self)\n",
            "    /usr/local/lib/python3.10/dist-packages/setuptools/_distutils/cmd.py:66: SetuptoolsDeprecationWarning: setup.py install is deprecated.\n",
            "    !!\n",
            "\n",
            "            ********************************************************************************\n",
            "            Please avoid running ``setup.py`` directly.\n",
            "            Instead, use pypa/build, pypa/installer or other\n",
            "            standards-based tools.\n",
            "\n",
            "            See https://blog.ganssle.io/articles/2021/10/setup-py-deprecated.html for details.\n",
            "            ********************************************************************************\n",
            "\n",
            "    !!\n",
            "      self.initialize_options()\n",
            "    running egg_info\n",
            "    creating PennyLane_Lightning.egg-info\n",
            "    writing PennyLane_Lightning.egg-info/PKG-INFO\n",
            "    writing dependency_links to PennyLane_Lightning.egg-info/dependency_links.txt\n",
            "    writing entry points to PennyLane_Lightning.egg-info/entry_points.txt\n",
            "    writing requirements to PennyLane_Lightning.egg-info/requires.txt\n",
            "    writing top-level names to PennyLane_Lightning.egg-info/top_level.txt\n",
            "    writing manifest file 'PennyLane_Lightning.egg-info/SOURCES.txt'\n",
            "    reading manifest file 'PennyLane_Lightning.egg-info/SOURCES.txt'\n",
            "    reading manifest template 'MANIFEST.in'\n",
            "    warning: no files found matching 'pennylane_lightning/lightning_qpu/lightning_gpu.toml'\n",
            "    adding license file 'LICENSE'\n",
            "    writing manifest file 'PennyLane_Lightning.egg-info/SOURCES.txt'\n",
            "    running build_ext\n",
            "    ░█░░░▀█▀░█▀▀░█░█░▀█▀░█▀█░▀█▀░█▀█░█▀▀░\n",
            "    ░█░░░░█░░█░█░█▀█░░█░░█░█░░█░░█░█░█░█░\n",
            "    ░▀▀▀░▀▀▀░▀▀▀░▀░▀░░▀░░▀░▀░▀▀▀░▀░▀░▀▀▀░\n",
            "\n",
            "    -- The CXX compiler identification is GNU 11.4.0\n",
            "    -- Detecting CXX compiler ABI info\n",
            "    -- Detecting CXX compiler ABI info - done\n",
            "    -- Check for working CXX compiler: /usr/bin/c++ - skipped\n",
            "    -- Detecting CXX compile features\n",
            "    -- Detecting CXX compile features - done\n",
            "    -- pennylane_lightning version 0.38.0-dev26\n",
            "    -- Found OpenMP_CXX: -fopenmp (found version \"4.5\")\n",
            "    -- Found OpenMP: TRUE (found version \"4.5\")\n",
            "    -- PL_BACKEND: lightning_qubit\n",
            "    -- ENABLE_WARNINGS is OFF.\n",
            "    -- ENABLE_OPENMP is ON.\n",
            "    -- Found OpenMP_CXX: -fopenmp (found version \"4.5\")\n",
            "    -- ENABLE AVX for X64 on UNIX compatible system.\n",
            "    -- Found Python: /usr/local/bin/python (found version \"3.10.12\") found components: Interpreter Development Development.Module Development.Embed\n",
            "    -- pybind11 v2.11.1\n",
            "    -- Performing Test HAS_FLTO\n",
            "    -- Performing Test HAS_FLTO - Success\n",
            "    Python site-packages directory: /usr/local/lib/python3.10/dist-packages\n",
            "    -- The C compiler identification is GNU 11.4.0\n",
            "    -- Detecting C compiler ABI info\n",
            "    -- Detecting C compiler ABI info - done\n",
            "    -- Check for working C compiler: /usr/bin/cc - skipped\n",
            "    -- Detecting C compile features\n",
            "    -- Detecting C compile features - done\n",
            "    ░█░░░▀█▀░█▀▀░█░█░▀█▀░█▀█░▀█▀░█▀█░█▀▀░░░░▄▀▄░█░█░█▀▄░▀█▀░▀█▀\n",
            "    ░█░░░░█░░█░█░█▀█░░█░░█░█░░█░░█░█░█░█░░░░█\\█░█░█░█▀▄░░█░░░█░\n",
            "    ░▀▀▀░▀▀▀░▀▀▀░▀░▀░░▀░░▀░▀░▀▀▀░▀░▀░▀▀▀░▀░░░▀\\░▀▀▀░▀▀░░▀▀▀░░▀░\n",
            "\n",
            "    -- ENABLE_BLAS is OFF.\n",
            "    -- OpenMP-parallelized kernels: OFF.\n",
            "    -- AVX streaming operations: OFF.\n",
            "    -- Compiling for x86. Enable AVX2/AVX512 kernels (runtime enabled).\n",
            "    -- ENABLE_PYTHON is ON.\n",
            "    -- Configuring done (7.4s)\n",
            "    -- Generating done (0.3s)\n",
            "    CMake Warning:\n",
            "      Manually-specified variables were not used by the project:\n",
            "\n",
            "        PYTHON_EXECUTABLE\n",
            "\n",
            "\n",
            "    -- Build files have been written to: /content/pennylane-lightning/build_lightning_qubit\n",
            "    Change Dir: '/content/pennylane-lightning/build_lightning_qubit'\n",
            "\n",
            "    Run Build Command(s): /usr/local/bin/ninja -v\n",
            "    [1/25] /usr/bin/c++  -I/content/pennylane-lightning/pennylane_lightning/core/src/simulators/lightning_qubit -I/content/pennylane-lightning/pennylane_lightning/core/src/simulators/base -I/content/pennylane-lightning/pennylane_lightning/core/src/utils -I/content/pennylane-lightning/pennylane_lightning/core/src/simulators/lightning_qubit/utils -I/content/pennylane-lightning/pennylane_lightning/core/src/gates -I/content/pennylane-lightning/pennylane_lightning/core/src/simulators/lightning_qubit/gates -O2 -g -DNDEBUG -std=gnu++20 -fPIC -fwrapv -fno-plt -pipe -DPL_USE_OMP=1 -mavx -D_ENABLE_PLQUBIT=1 -fopenmp -MD -MT pennylane_lightning/core/src/simulators/lightning_qubit/CMakeFiles/lightning_qubit.dir/StateVectorLQubitRaw.cpp.o -MF pennylane_lightning/core/src/simulators/lightning_qubit/CMakeFiles/lightning_qubit.dir/StateVectorLQubitRaw.cpp.o.d -o pennylane_lightning/core/src/simulators/lightning_qubit/CMakeFiles/lightning_qubit.dir/StateVectorLQubitRaw.cpp.o -c /content/pennylane-lightning/pennylane_lightning/core/src/simulators/lightning_qubit/StateVectorLQubitRaw.cpp\n",
            "    [2/25] /usr/bin/c++  -I/content/pennylane-lightning/pennylane_lightning/core/src/simulators/lightning_qubit -I/content/pennylane-lightning/pennylane_lightning/core/src/simulators/base -I/content/pennylane-lightning/pennylane_lightning/core/src/utils -I/content/pennylane-lightning/pennylane_lightning/core/src/simulators/lightning_qubit/utils -I/content/pennylane-lightning/pennylane_lightning/core/src/gates -I/content/pennylane-lightning/pennylane_lightning/core/src/simulators/lightning_qubit/gates -O2 -g -DNDEBUG -std=gnu++20 -fPIC -fwrapv -fno-plt -pipe -DPL_USE_OMP=1 -mavx -D_ENABLE_PLQUBIT=1 -fopenmp -MD -MT pennylane_lightning/core/src/simulators/lightning_qubit/CMakeFiles/lightning_qubit.dir/StateVectorLQubitManaged.cpp.o -MF pennylane_lightning/core/src/simulators/lightning_qubit/CMakeFiles/lightning_qubit.dir/StateVectorLQubitManaged.cpp.o.d -o pennylane_lightning/core/src/simulators/lightning_qubit/CMakeFiles/lightning_qubit.dir/StateVectorLQubitManaged.cpp.o -c /content/pennylane-lightning/pennylane_lightning/core/src/simulators/lightning_qubit/StateVectorLQubitManaged.cpp\n",
            "    [3/25] /usr/bin/c++  -I/content/pennylane-lightning/pennylane_lightning/core/src/gates -I/content/pennylane-lightning/pennylane_lightning/core/src/utils -I/content/pennylane-lightning/pennylane_lightning/core/src/simulators/lightning_qubit/gates -I/content/pennylane-lightning/pennylane_lightning/core/src/simulators/lightning_qubit/utils -O2 -g -DNDEBUG -std=gnu++20 -fPIC -fwrapv -fno-plt -pipe -DPL_USE_OMP=1 -mavx -D_ENABLE_PLQUBIT=1 -fopenmp -MD -MT pennylane_lightning/core/src/simulators/lightning_qubit/gates/CMakeFiles/lq_gates_kernel_map.dir/KernelMap_X64.cpp.o -MF pennylane_lightning/core/src/simulators/lightning_qubit/gates/CMakeFiles/lq_gates_kernel_map.dir/KernelMap_X64.cpp.o.d -o pennylane_lightning/core/src/simulators/lightning_qubit/gates/CMakeFiles/lq_gates_kernel_map.dir/KernelMap_X64.cpp.o -c /content/pennylane-lightning/pennylane_lightning/core/src/simulators/lightning_qubit/gates/KernelMap_X64.cpp\n",
            "    [4/25] /usr/bin/c++  -I/content/pennylane-lightning/pennylane_lightning/core/src/gates -I/content/pennylane-lightning/pennylane_lightning/core/src/utils -I/content/pennylane-lightning/pennylane_lightning/core/src/simulators/lightning_qubit/gates -I/content/pennylane-lightning/pennylane_lightning/core/src/simulators/lightning_qubit/utils -O2 -g -DNDEBUG -std=gnu++20 -fPIC -fwrapv -fno-plt -pipe -DPL_USE_OMP=1 -mavx -D_ENABLE_PLQUBIT=1 -fopenmp -MD -MT pennylane_lightning/core/src/simulators/lightning_qubit/gates/CMakeFiles/lq_gates_kernel_map.dir/AssignKernelMap_AVX2.cpp.o -MF pennylane_lightning/core/src/simulators/lightning_qubit/gates/CMakeFiles/lq_gates_kernel_map.dir/AssignKernelMap_AVX2.cpp.o.d -o pennylane_lightning/core/src/simulators/lightning_qubit/gates/CMakeFiles/lq_gates_kernel_map.dir/AssignKernelMap_AVX2.cpp.o -c /content/pennylane-lightning/pennylane_lightning/core/src/simulators/lightning_qubit/gates/AssignKernelMap_AVX2.cpp\n",
            "    [5/25] /usr/bin/c++  -I/content/pennylane-lightning/pennylane_lightning/core/src/gates -I/content/pennylane-lightning/pennylane_lightning/core/src/utils -I/content/pennylane-lightning/pennylane_lightning/core/src/simulators/lightning_qubit/gates -I/content/pennylane-lightning/pennylane_lightning/core/src/simulators/lightning_qubit/utils -O2 -g -DNDEBUG -std=gnu++20 -fPIC -fwrapv -fno-plt -pipe -DPL_USE_OMP=1 -mavx -D_ENABLE_PLQUBIT=1 -fopenmp -MD -MT pennylane_lightning/core/src/simulators/lightning_qubit/gates/CMakeFiles/lq_gates_kernel_map.dir/AssignKernelMap_AVX512.cpp.o -MF pennylane_lightning/core/src/simulators/lightning_qubit/gates/CMakeFiles/lq_gates_kernel_map.dir/AssignKernelMap_AVX512.cpp.o.d -o pennylane_lightning/core/src/simulators/lightning_qubit/gates/CMakeFiles/lq_gates_kernel_map.dir/AssignKernelMap_AVX512.cpp.o -c /content/pennylane-lightning/pennylane_lightning/core/src/simulators/lightning_qubit/gates/AssignKernelMap_AVX512.cpp\n",
            "    [6/25] /usr/bin/c++  -I/content/pennylane-lightning/pennylane_lightning/core/src/simulators/lightning_qubit/utils -I/content/pennylane-lightning/pennylane_lightning/core/src/utils -I/content/pennylane-lightning/pennylane_lightning/core/src/algorithms -I/content/pennylane-lightning/pennylane_lightning/core/src/observables -I/content/pennylane-lightning/pennylane_lightning/core/src/simulators/lightning_qubit -I/content/pennylane-lightning/pennylane_lightning/core/src/simulators/base -I/content/pennylane-lightning/pennylane_lightning/core/src/gates -I/content/pennylane-lightning/pennylane_lightning/core/src/simulators/lightning_qubit/gates -O2 -g -DNDEBUG -std=gnu++20 -fwrapv -fno-plt -pipe -DPL_USE_OMP=1 -mavx -D_ENABLE_PLQUBIT=1 -fopenmp -MD -MT pennylane_lightning/core/src/simulators/lightning_qubit/algorithms/CMakeFiles/lightning_qubit_algorithms.dir/AlgorithmsLQubit.cpp.o -MF pennylane_lightning/core/src/simulators/lightning_qubit/algorithms/CMakeFiles/lightning_qubit_algorithms.dir/AlgorithmsLQubit.cpp.o.d -o pennylane_lightning/core/src/simulators/lightning_qubit/algorithms/CMakeFiles/lightning_qubit_algorithms.dir/AlgorithmsLQubit.cpp.o -c /content/pennylane-lightning/pennylane_lightning/core/src/simulators/lightning_qubit/algorithms/AlgorithmsLQubit.cpp\n",
            "    [7/25] /usr/bin/c++  -I/content/pennylane-lightning/pennylane_lightning/core/src/gates -I/content/pennylane-lightning/pennylane_lightning/core/src/utils -I/content/pennylane-lightning/pennylane_lightning/core/src/simulators/lightning_qubit/gates -I/content/pennylane-lightning/pennylane_lightning/core/src/simulators/lightning_qubit/utils -O2 -g -DNDEBUG -std=gnu++20 -fPIC -fwrapv -fno-plt -pipe -DPL_USE_OMP=1 -mavx -D_ENABLE_PLQUBIT=1 -fopenmp -MD -MT pennylane_lightning/core/src/simulators/lightning_qubit/gates/CMakeFiles/lq_gates_kernel_map.dir/AssignKernelMap_Default.cpp.o -MF pennylane_lightning/core/src/simulators/lightning_qubit/gates/CMakeFiles/lq_gates_kernel_map.dir/AssignKernelMap_Default.cpp.o.d -o pennylane_lightning/core/src/simulators/lightning_qubit/gates/CMakeFiles/lq_gates_kernel_map.dir/AssignKernelMap_Default.cpp.o -c /content/pennylane-lightning/pennylane_lightning/core/src/simulators/lightning_qubit/gates/AssignKernelMap_Default.cpp\n",
            "    [8/25] /usr/bin/c++  -I/content/pennylane-lightning/pennylane_lightning/core/src/simulators/lightning_qubit/gates -I/content/pennylane-lightning/pennylane_lightning/core/src/gates -I/content/pennylane-lightning/pennylane_lightning/core/src/utils -I/content/pennylane-lightning/pennylane_lightning/core/src/simulators/lightning_qubit/utils -O2 -g -DNDEBUG -std=gnu++20 -fPIC -mavx2 -mfma -fopenmp -fwrapv -fno-plt -pipe -DPL_USE_OMP=1 -mavx -D_ENABLE_PLQUBIT=1 -MD -MT pennylane_lightning/core/src/simulators/lightning_qubit/gates/CMakeFiles/lq_gates_register_kernels_avx2.dir/RegisterKernels_AVX2.cpp.o -MF pennylane_lightning/core/src/simulators/lightning_qubit/gates/CMakeFiles/lq_gates_register_kernels_avx2.dir/RegisterKernels_AVX2.cpp.o.d -o pennylane_lightning/core/src/simulators/lightning_qubit/gates/CMakeFiles/lq_gates_register_kernels_avx2.dir/RegisterKernels_AVX2.cpp.o -c /content/pennylane-lightning/pennylane_lightning/core/src/simulators/lightning_qubit/gates/RegisterKernels_AVX2.cpp\n",
            "    [9/25] /usr/bin/c++ -DVERSION_INFO=0.38.0-dev26 -Dlightning_qubit_ops_EXPORTS -I/content/pennylane-lightning/pennylane_lightning/core/src/observables -I/content/pennylane-lightning/pennylane_lightning/core/src/utils -I/content/pennylane-lightning/pennylane_lightning/core/src/algorithms -I/content/pennylane-lightning/pennylane_lightning/core/src/simulators/lightning_qubit -I/content/pennylane-lightning/pennylane_lightning/core/src/simulators/base -I/content/pennylane-lightning/pennylane_lightning/core/src/simulators/lightning_qubit/utils -I/content/pennylane-lightning/pennylane_lightning/core/src/gates -I/content/pennylane-lightning/pennylane_lightning/core/src/simulators/lightning_qubit/gates -I/content/pennylane-lightning/pennylane_lightning/core/src/simulators/lightning_qubit/observables -I/content/pennylane-lightning/pennylane_lightning/core/src/simulators/lightning_qubit/bindings -I/content/pennylane-lightning/pennylane_lightning/core/src/bindings -I/content/pennylane-lightning/pennylane_lightning/core/src/simulators/lightning_qubit/measurements -I/content/pennylane-lightning/pennylane_lightning/core/src/measurements -I/content/pennylane-lightning/pennylane_lightning/core/src/simulators/lightning_qubit/algorithms -isystem /usr/include/python3.10 -isystem /content/pennylane-lightning/build_lightning_qubit/_deps/pybind11-src/include -O2 -g -DNDEBUG -std=gnu++20 -fPIC -fvisibility=hidden -fwrapv -fno-plt -pipe -DPL_USE_OMP=1 -mavx -D_ENABLE_PLQUBIT=1 -fopenmp -MD -MT CMakeFiles/lightning_qubit_ops.dir/pennylane_lightning/core/src/bindings/Bindings.cpp.o -MF CMakeFiles/lightning_qubit_ops.dir/pennylane_lightning/core/src/bindings/Bindings.cpp.o.d -o CMakeFiles/lightning_qubit_ops.dir/pennylane_lightning/core/src/bindings/Bindings.cpp.o -c /content/pennylane-lightning/pennylane_lightning/core/src/bindings/Bindings.cpp\n",
            "    [10/25] /usr/bin/c++  -I/content/pennylane-lightning/pennylane_lightning/core/src/simulators/lightning_qubit/gates -I/content/pennylane-lightning/pennylane_lightning/core/src/gates -I/content/pennylane-lightning/pennylane_lightning/core/src/utils -I/content/pennylane-lightning/pennylane_lightning/core/src/simulators/lightning_qubit/utils -O2 -g -DNDEBUG -std=gnu++20 -fPIC -mavx512f -fopenmp -fwrapv -fno-plt -pipe -DPL_USE_OMP=1 -mavx -D_ENABLE_PLQUBIT=1 -MD -MT pennylane_lightning/core/src/simulators/lightning_qubit/gates/CMakeFiles/lq_gates_register_kernels_avx512.dir/RegisterKernels_AVX512.cpp.o -MF pennylane_lightning/core/src/simulators/lightning_qubit/gates/CMakeFiles/lq_gates_register_kernels_avx512.dir/RegisterKernels_AVX512.cpp.o.d -o pennylane_lightning/core/src/simulators/lightning_qubit/gates/CMakeFiles/lq_gates_register_kernels_avx512.dir/RegisterKernels_AVX512.cpp.o -c /content/pennylane-lightning/pennylane_lightning/core/src/simulators/lightning_qubit/gates/RegisterKernels_AVX512.cpp\n",
            "    [11/25] /usr/bin/c++  -I/content/pennylane-lightning/pennylane_lightning/core/src/simulators/lightning_qubit/gates -I/content/pennylane-lightning/pennylane_lightning/core/src/gates -I/content/pennylane-lightning/pennylane_lightning/core/src/utils -I/content/pennylane-lightning/pennylane_lightning/core/src/simulators/lightning_qubit/utils -O2 -g -DNDEBUG -std=gnu++20 -fPIC -fopenmp -fwrapv -fno-plt -pipe -DPL_USE_OMP=1 -mavx -D_ENABLE_PLQUBIT=1 -MD -MT pennylane_lightning/core/src/simulators/lightning_qubit/gates/CMakeFiles/lq_gates_register_kernels_x64.dir/cpu_kernels/GateImplementationsPI.cpp.o -MF pennylane_lightning/core/src/simulators/lightning_qubit/gates/CMakeFiles/lq_gates_register_kernels_x64.dir/cpu_kernels/GateImplementationsPI.cpp.o.d -o pennylane_lightning/core/src/simulators/lightning_qubit/gates/CMakeFiles/lq_gates_register_kernels_x64.dir/cpu_kernels/GateImplementationsPI.cpp.o -c /content/pennylane-lightning/pennylane_lightning/core/src/simulators/lightning_qubit/gates/cpu_kernels/GateImplementationsPI.cpp\n",
            "    [12/25] /usr/bin/c++  -I/content/pennylane-lightning/pennylane_lightning/core/src/simulators/lightning_qubit/gates -I/content/pennylane-lightning/pennylane_lightning/core/src/gates -I/content/pennylane-lightning/pennylane_lightning/core/src/utils -I/content/pennylane-lightning/pennylane_lightning/core/src/simulators/lightning_qubit/utils -O2 -g -DNDEBUG -std=gnu++20 -fPIC -fopenmp -fwrapv -fno-plt -pipe -DPL_USE_OMP=1 -mavx -D_ENABLE_PLQUBIT=1 -MD -MT pennylane_lightning/core/src/simulators/lightning_qubit/gates/CMakeFiles/lq_gates_register_kernels_x64.dir/GateIndices.cpp.o -MF pennylane_lightning/core/src/simulators/lightning_qubit/gates/CMakeFiles/lq_gates_register_kernels_x64.dir/GateIndices.cpp.o.d -o pennylane_lightning/core/src/simulators/lightning_qubit/gates/CMakeFiles/lq_gates_register_kernels_x64.dir/GateIndices.cpp.o -c /content/pennylane-lightning/pennylane_lightning/core/src/simulators/lightning_qubit/gates/GateIndices.cpp\n",
            "    [13/25] /usr/bin/c++  -I/content/pennylane-lightning/pennylane_lightning/core/src/simulators/lightning_qubit/gates -I/content/pennylane-lightning/pennylane_lightning/core/src/gates -I/content/pennylane-lightning/pennylane_lightning/core/src/utils -I/content/pennylane-lightning/pennylane_lightning/core/src/simulators/lightning_qubit/utils -O2 -g -DNDEBUG -std=gnu++20 -fPIC -fopenmp -fwrapv -fno-plt -pipe -DPL_USE_OMP=1 -mavx -D_ENABLE_PLQUBIT=1 -MD -MT pennylane_lightning/core/src/simulators/lightning_qubit/gates/CMakeFiles/lq_gates_register_kernels_x64.dir/cpu_kernels/GateImplementationsLM.cpp.o -MF pennylane_lightning/core/src/simulators/lightning_qubit/gates/CMakeFiles/lq_gates_register_kernels_x64.dir/cpu_kernels/GateImplementationsLM.cpp.o.d -o pennylane_lightning/core/src/simulators/lightning_qubit/gates/CMakeFiles/lq_gates_register_kernels_x64.dir/cpu_kernels/GateImplementationsLM.cpp.o -c /content/pennylane-lightning/pennylane_lightning/core/src/simulators/lightning_qubit/gates/cpu_kernels/GateImplementationsLM.cpp\n",
            "    [14/25] /usr/bin/c++   -O2 -g -DNDEBUG -std=gnu++20 -fPIC -MD -MT pennylane_lightning/core/src/utils/CMakeFiles/lightning_utils.dir/RuntimeInfo.cpp.o -MF pennylane_lightning/core/src/utils/CMakeFiles/lightning_utils.dir/RuntimeInfo.cpp.o.d -o pennylane_lightning/core/src/utils/CMakeFiles/lightning_utils.dir/RuntimeInfo.cpp.o -c /content/pennylane-lightning/pennylane_lightning/core/src/utils/RuntimeInfo.cpp\n",
            "    [15/25] : && /usr/local/lib/python3.10/dist-packages/cmake/data/bin/cmake -E rm -f pennylane_lightning/core/src/utils/liblightning_utils.a && /usr/bin/ar qc pennylane_lightning/core/src/utils/liblightning_utils.a  pennylane_lightning/core/src/utils/CMakeFiles/lightning_utils.dir/RuntimeInfo.cpp.o && /usr/bin/ranlib pennylane_lightning/core/src/utils/liblightning_utils.a && :\n",
            "    [16/25] : && /usr/local/lib/python3.10/dist-packages/cmake/data/bin/cmake -E rm -f pennylane_lightning/core/src/simulators/lightning_qubit/gates/liblq_gates_register_kernels_avx2.a && /usr/bin/ar qc pennylane_lightning/core/src/simulators/lightning_qubit/gates/liblq_gates_register_kernels_avx2.a  pennylane_lightning/core/src/simulators/lightning_qubit/gates/CMakeFiles/lq_gates_register_kernels_avx2.dir/RegisterKernels_AVX2.cpp.o && /usr/bin/ranlib pennylane_lightning/core/src/simulators/lightning_qubit/gates/liblq_gates_register_kernels_avx2.a && :\n",
            "    [17/25] : && /usr/local/lib/python3.10/dist-packages/cmake/data/bin/cmake -E rm -f pennylane_lightning/core/src/simulators/lightning_qubit/gates/liblq_gates_register_kernels_avx512.a && /usr/bin/ar qc pennylane_lightning/core/src/simulators/lightning_qubit/gates/liblq_gates_register_kernels_avx512.a  pennylane_lightning/core/src/simulators/lightning_qubit/gates/CMakeFiles/lq_gates_register_kernels_avx512.dir/RegisterKernels_AVX512.cpp.o && /usr/bin/ranlib pennylane_lightning/core/src/simulators/lightning_qubit/gates/liblq_gates_register_kernels_avx512.a && :\n",
            "    [18/25] /usr/bin/c++  -I/content/pennylane-lightning/pennylane_lightning/core/src/utils -I/content/pennylane-lightning/pennylane_lightning/core/src/simulators/lightning_qubit/utils -I/content/pennylane-lightning/pennylane_lightning/core/src/simulators/lightning_qubit/gates -I/content/pennylane-lightning/pennylane_lightning/core/src/gates -I/content/pennylane-lightning/pennylane_lightning/core/src/observables -I/content/pennylane-lightning/pennylane_lightning/core/src/simulators/lightning_qubit -I/content/pennylane-lightning/pennylane_lightning/core/src/simulators/base -O2 -g -DNDEBUG -std=gnu++20 -fPIC -fwrapv -fno-plt -pipe -DPL_USE_OMP=1 -mavx -D_ENABLE_PLQUBIT=1 -fopenmp -MD -MT pennylane_lightning/core/src/simulators/lightning_qubit/observables/CMakeFiles/lightning_qubit_observables.dir/ObservablesLQubit.cpp.o -MF pennylane_lightning/core/src/simulators/lightning_qubit/observables/CMakeFiles/lightning_qubit_observables.dir/ObservablesLQubit.cpp.o.d -o pennylane_lightning/core/src/simulators/lightning_qubit/observables/CMakeFiles/lightning_qubit_observables.dir/ObservablesLQubit.cpp.o -c /content/pennylane-lightning/pennylane_lightning/core/src/simulators/lightning_qubit/observables/ObservablesLQubit.cpp\n",
            "    [19/25] /usr/bin/c++  -I/content/pennylane-lightning/pennylane_lightning/core/src/simulators/lightning_qubit/gates -I/content/pennylane-lightning/pennylane_lightning/core/src/gates -I/content/pennylane-lightning/pennylane_lightning/core/src/utils -I/content/pennylane-lightning/pennylane_lightning/core/src/simulators/lightning_qubit/utils -O2 -g -DNDEBUG -std=gnu++20 -fPIC -fopenmp -fwrapv -fno-plt -pipe -DPL_USE_OMP=1 -mavx -D_ENABLE_PLQUBIT=1 -MD -MT pennylane_lightning/core/src/simulators/lightning_qubit/gates/CMakeFiles/lq_gates_register_kernels_x64.dir/RegisterKernels_x64.cpp.o -MF pennylane_lightning/core/src/simulators/lightning_qubit/gates/CMakeFiles/lq_gates_register_kernels_x64.dir/RegisterKernels_x64.cpp.o.d -o pennylane_lightning/core/src/simulators/lightning_qubit/gates/CMakeFiles/lq_gates_register_kernels_x64.dir/RegisterKernels_x64.cpp.o -c /content/pennylane-lightning/pennylane_lightning/core/src/simulators/lightning_qubit/gates/RegisterKernels_x64.cpp\n",
            "    [20/25] : && /usr/local/lib/python3.10/dist-packages/cmake/data/bin/cmake -E rm -f pennylane_lightning/core/src/simulators/lightning_qubit/gates/liblq_gates_register_kernels_x64.a && /usr/bin/ar qc pennylane_lightning/core/src/simulators/lightning_qubit/gates/liblq_gates_register_kernels_x64.a  pennylane_lightning/core/src/simulators/lightning_qubit/gates/CMakeFiles/lq_gates_register_kernels_x64.dir/RegisterKernels_x64.cpp.o pennylane_lightning/core/src/simulators/lightning_qubit/gates/CMakeFiles/lq_gates_register_kernels_x64.dir/cpu_kernels/GateImplementationsLM.cpp.o pennylane_lightning/core/src/simulators/lightning_qubit/gates/CMakeFiles/lq_gates_register_kernels_x64.dir/cpu_kernels/GateImplementationsPI.cpp.o pennylane_lightning/core/src/simulators/lightning_qubit/gates/CMakeFiles/lq_gates_register_kernels_x64.dir/GateIndices.cpp.o && /usr/bin/ranlib pennylane_lightning/core/src/simulators/lightning_qubit/gates/liblq_gates_register_kernels_x64.a && :\n",
            "    [21/25] : && /usr/local/lib/python3.10/dist-packages/cmake/data/bin/cmake -E rm -f pennylane_lightning/core/src/simulators/lightning_qubit/gates/liblq_gates_kernel_map.a && /usr/bin/ar qc pennylane_lightning/core/src/simulators/lightning_qubit/gates/liblq_gates_kernel_map.a  pennylane_lightning/core/src/simulators/lightning_qubit/gates/CMakeFiles/lq_gates_kernel_map.dir/KernelMap_X64.cpp.o pennylane_lightning/core/src/simulators/lightning_qubit/gates/CMakeFiles/lq_gates_kernel_map.dir/AssignKernelMap_AVX2.cpp.o pennylane_lightning/core/src/simulators/lightning_qubit/gates/CMakeFiles/lq_gates_kernel_map.dir/AssignKernelMap_AVX512.cpp.o pennylane_lightning/core/src/simulators/lightning_qubit/gates/CMakeFiles/lq_gates_kernel_map.dir/AssignKernelMap_Default.cpp.o && /usr/bin/ranlib pennylane_lightning/core/src/simulators/lightning_qubit/gates/liblq_gates_kernel_map.a && :\n",
            "    [22/25] : && /usr/local/lib/python3.10/dist-packages/cmake/data/bin/cmake -E rm -f pennylane_lightning/core/src/simulators/lightning_qubit/liblightning_qubit.a && /usr/bin/ar qc pennylane_lightning/core/src/simulators/lightning_qubit/liblightning_qubit.a  pennylane_lightning/core/src/simulators/lightning_qubit/CMakeFiles/lightning_qubit.dir/StateVectorLQubitManaged.cpp.o pennylane_lightning/core/src/simulators/lightning_qubit/CMakeFiles/lightning_qubit.dir/StateVectorLQubitRaw.cpp.o && /usr/bin/ranlib pennylane_lightning/core/src/simulators/lightning_qubit/liblightning_qubit.a && :\n",
            "    [23/25] : && /usr/local/lib/python3.10/dist-packages/cmake/data/bin/cmake -E rm -f pennylane_lightning/core/src/simulators/lightning_qubit/observables/liblightning_qubit_observables.a && /usr/bin/ar qc pennylane_lightning/core/src/simulators/lightning_qubit/observables/liblightning_qubit_observables.a  pennylane_lightning/core/src/simulators/lightning_qubit/observables/CMakeFiles/lightning_qubit_observables.dir/ObservablesLQubit.cpp.o && /usr/bin/ranlib pennylane_lightning/core/src/simulators/lightning_qubit/observables/liblightning_qubit_observables.a && :\n",
            "    [24/25] : && /usr/local/lib/python3.10/dist-packages/cmake/data/bin/cmake -E rm -f pennylane_lightning/core/src/simulators/lightning_qubit/algorithms/liblightning_qubit_algorithms.a && /usr/bin/ar qc pennylane_lightning/core/src/simulators/lightning_qubit/algorithms/liblightning_qubit_algorithms.a  pennylane_lightning/core/src/simulators/lightning_qubit/algorithms/CMakeFiles/lightning_qubit_algorithms.dir/AlgorithmsLQubit.cpp.o && /usr/bin/ranlib pennylane_lightning/core/src/simulators/lightning_qubit/algorithms/liblightning_qubit_algorithms.a && :\n",
            "    [25/25] : && /usr/bin/c++ -fPIC -O2 -g -DNDEBUG   -shared  -o /content/pennylane-lightning/build/lib.linux-x86_64-cpython-310/pennylane_lightning/lightning_qubit_ops.cpython-310-x86_64-linux-gnu.so CMakeFiles/lightning_qubit_ops.dir/pennylane_lightning/core/src/bindings/Bindings.cpp.o  pennylane_lightning/core/src/utils/liblightning_utils.a  pennylane_lightning/core/src/simulators/lightning_qubit/liblightning_qubit.a  pennylane_lightning/core/src/simulators/lightning_qubit/observables/liblightning_qubit_observables.a  pennylane_lightning/core/src/simulators/lightning_qubit/algorithms/liblightning_qubit_algorithms.a  pennylane_lightning/core/src/simulators/lightning_qubit/liblightning_qubit.a  pennylane_lightning/core/src/simulators/lightning_qubit/gates/liblq_gates_kernel_map.a  pennylane_lightning/core/src/simulators/lightning_qubit/gates/liblq_gates_kernel_map.a  pennylane_lightning/core/src/simulators/lightning_qubit/gates/liblq_gates_register_kernels_x64.a  pennylane_lightning/core/src/simulators/lightning_qubit/gates/liblq_gates_register_kernels_avx2.a  pennylane_lightning/core/src/simulators/lightning_qubit/gates/liblq_gates_register_kernels_avx512.a  pennylane_lightning/core/src/utils/liblightning_utils.a  /usr/lib/gcc/x86_64-linux-gnu/11/libgomp.so  /usr/lib/x86_64-linux-gnu/libpthread.a && :\n",
            "\n",
            "    copying build/lib.linux-x86_64-cpython-310/pennylane_lightning/lightning_qubit_ops.cpython-310-x86_64-linux-gnu.so -> pennylane_lightning\n",
            "    Creating /usr/local/lib/python3.10/dist-packages/PennyLane-Lightning.egg-link (link to .)\n",
            "    Adding PennyLane-Lightning 0.38.0.dev26 to easy-install.pth file\n",
            "\n",
            "    Installed /content/pennylane-lightning\n",
            "Successfully installed PennyLane_Lightning-0.38.0.dev26\n",
            "Removed build tracker: '/tmp/pip-build-tracker-l8i8ojet'\n"
          ]
        }
      ]
    },
    {
      "cell_type": "code",
      "source": [
        "!python -m pip install wheel custatevec-cu11"
      ],
      "metadata": {
        "colab": {
          "base_uri": "https://localhost:8080/"
        },
        "id": "H8QVsPvp9pER",
        "outputId": "91be26cf-b9b3-4fb7-b275-3c0614913df9"
      },
      "execution_count": null,
      "outputs": [
        {
          "output_type": "stream",
          "name": "stdout",
          "text": [
            "Requirement already satisfied: wheel in /usr/local/lib/python3.10/dist-packages (0.44.0)\n",
            "Collecting custatevec-cu11\n",
            "  Downloading custatevec_cu11-1.6.0.post1-py3-none-manylinux2014_x86_64.whl.metadata (2.1 kB)\n",
            "Downloading custatevec_cu11-1.6.0.post1-py3-none-manylinux2014_x86_64.whl (38.6 MB)\n",
            "\u001b[2K   \u001b[90m━━━━━━━━━━━━━━━━━━━━━━━━━━━━━━━━━━━━━━━━\u001b[0m \u001b[32m38.6/38.6 MB\u001b[0m \u001b[31m25.4 MB/s\u001b[0m eta \u001b[36m0:00:00\u001b[0m\n",
            "\u001b[?25hInstalling collected packages: custatevec-cu11\n",
            "Successfully installed custatevec-cu11-1.6.0.post1\n"
          ]
        }
      ]
    },
    {
      "cell_type": "code",
      "source": [
        "import os\n",
        "import site\n",
        "os.environ[\"CUQUANTUM_SDK\"] = f'{site.getsitepackages()[0]}/cuquantum/lib'"
      ],
      "metadata": {
        "id": "tA_I1Ak49uJN"
      },
      "execution_count": null,
      "outputs": []
    },
    {
      "cell_type": "code",
      "source": [
        "!PL_BACKEND=\"lightning_gpu\" python -m pip install -e . -vv"
      ],
      "metadata": {
        "colab": {
          "base_uri": "https://localhost:8080/"
        },
        "id": "1eGZg9JK9wQc",
        "outputId": "e9c96b06-7541-4c24-829b-b3b103f831f1"
      },
      "execution_count": null,
      "outputs": [
        {
          "output_type": "stream",
          "name": "stdout",
          "text": [
            "Using pip 24.1.2 from /usr/local/lib/python3.10/dist-packages/pip (python 3.10)\n",
            "Non-user install because site-packages writeable\n",
            "Created temporary directory: /tmp/pip-build-tracker-q81stvy7\n",
            "Initialized build tracking at /tmp/pip-build-tracker-q81stvy7\n",
            "Created build tracker: /tmp/pip-build-tracker-q81stvy7\n",
            "Entered build tracker: /tmp/pip-build-tracker-q81stvy7\n",
            "Created temporary directory: /tmp/pip-install-o7vn37bm\n",
            "Created temporary directory: /tmp/pip-ephem-wheel-cache-xr7g3gk9\n",
            "Obtaining file:///content/pennylane-lightning\n",
            "  Added file:///content/pennylane-lightning to build tracker '/tmp/pip-build-tracker-q81stvy7'\n",
            "  Running setup.py (path:/content/pennylane-lightning/setup.py) egg_info for package from file:///content/pennylane-lightning\n",
            "  Created temporary directory: /tmp/pip-pip-egg-info-0crvz9hq\n",
            "  Running command python setup.py egg_info\n",
            "  /usr/local/lib/python3.10/dist-packages/setuptools/dist.py:300: InformationOnly: Normalizing '0.38.0-dev26' to '0.38.0.dev26'\n",
            "    self.metadata.version = self._normalize_version(self.metadata.version)\n",
            "  running egg_info\n",
            "  creating /tmp/pip-pip-egg-info-0crvz9hq/PennyLane_Lightning_GPU.egg-info\n",
            "  writing /tmp/pip-pip-egg-info-0crvz9hq/PennyLane_Lightning_GPU.egg-info/PKG-INFO\n",
            "  writing dependency_links to /tmp/pip-pip-egg-info-0crvz9hq/PennyLane_Lightning_GPU.egg-info/dependency_links.txt\n",
            "  writing entry points to /tmp/pip-pip-egg-info-0crvz9hq/PennyLane_Lightning_GPU.egg-info/entry_points.txt\n",
            "  writing requirements to /tmp/pip-pip-egg-info-0crvz9hq/PennyLane_Lightning_GPU.egg-info/requires.txt\n",
            "  writing top-level names to /tmp/pip-pip-egg-info-0crvz9hq/PennyLane_Lightning_GPU.egg-info/top_level.txt\n",
            "  writing manifest file '/tmp/pip-pip-egg-info-0crvz9hq/PennyLane_Lightning_GPU.egg-info/SOURCES.txt'\n",
            "  reading manifest file '/tmp/pip-pip-egg-info-0crvz9hq/PennyLane_Lightning_GPU.egg-info/SOURCES.txt'\n",
            "  reading manifest template 'MANIFEST.in'\n",
            "  warning: no files found matching 'pennylane_lightning/lightning_qpu/lightning_gpu.toml'\n",
            "  adding license file 'LICENSE'\n",
            "  writing manifest file '/tmp/pip-pip-egg-info-0crvz9hq/PennyLane_Lightning_GPU.egg-info/SOURCES.txt'\n",
            "  Preparing metadata (setup.py) ... \u001b[?25l\u001b[?25hdone\n",
            "  Source in /content/pennylane-lightning has version 0.38.0.dev26, which satisfies requirement PennyLane_Lightning_GPU==0.38.0.dev26 from file:///content/pennylane-lightning\n",
            "  Removed PennyLane_Lightning_GPU==0.38.0.dev26 from file:///content/pennylane-lightning from build tracker '/tmp/pip-build-tracker-q81stvy7'\n",
            "Requirement already satisfied: pennylane>=0.36 in /usr/local/lib/python3.10/dist-packages (from PennyLane_Lightning_GPU==0.38.0.dev26) (0.37.0)\n",
            "Requirement already satisfied: pennylane_lightning==0.38.0-dev26 in /content/pennylane-lightning (from PennyLane_Lightning_GPU==0.38.0.dev26) (0.38.0.dev26)\n",
            "Requirement already satisfied: numpy<2.0 in /usr/local/lib/python3.10/dist-packages (from pennylane>=0.36->PennyLane_Lightning_GPU==0.38.0.dev26) (1.26.4)\n",
            "Requirement already satisfied: scipy in /usr/local/lib/python3.10/dist-packages (from pennylane>=0.36->PennyLane_Lightning_GPU==0.38.0.dev26) (1.13.1)\n",
            "Requirement already satisfied: networkx in /usr/local/lib/python3.10/dist-packages (from pennylane>=0.36->PennyLane_Lightning_GPU==0.38.0.dev26) (3.3)\n",
            "Requirement already satisfied: rustworkx in /usr/local/lib/python3.10/dist-packages (from pennylane>=0.36->PennyLane_Lightning_GPU==0.38.0.dev26) (0.15.1)\n",
            "Requirement already satisfied: autograd in /usr/local/lib/python3.10/dist-packages (from pennylane>=0.36->PennyLane_Lightning_GPU==0.38.0.dev26) (1.6.2)\n",
            "Requirement already satisfied: toml in /usr/local/lib/python3.10/dist-packages (from pennylane>=0.36->PennyLane_Lightning_GPU==0.38.0.dev26) (0.10.2)\n",
            "Requirement already satisfied: appdirs in /usr/local/lib/python3.10/dist-packages (from pennylane>=0.36->PennyLane_Lightning_GPU==0.38.0.dev26) (1.4.4)\n",
            "Requirement already satisfied: semantic-version>=2.7 in /usr/local/lib/python3.10/dist-packages (from pennylane>=0.36->PennyLane_Lightning_GPU==0.38.0.dev26) (2.10.0)\n",
            "Requirement already satisfied: autoray>=0.6.11 in /usr/local/lib/python3.10/dist-packages (from pennylane>=0.36->PennyLane_Lightning_GPU==0.38.0.dev26) (0.6.12)\n",
            "Requirement already satisfied: cachetools in /usr/local/lib/python3.10/dist-packages (from pennylane>=0.36->PennyLane_Lightning_GPU==0.38.0.dev26) (5.4.0)\n",
            "Requirement already satisfied: requests in /usr/local/lib/python3.10/dist-packages (from pennylane>=0.36->PennyLane_Lightning_GPU==0.38.0.dev26) (2.32.3)\n",
            "Requirement already satisfied: typing-extensions in /usr/local/lib/python3.10/dist-packages (from pennylane>=0.36->PennyLane_Lightning_GPU==0.38.0.dev26) (4.12.2)\n",
            "Requirement already satisfied: packaging in /usr/local/lib/python3.10/dist-packages (from pennylane>=0.36->PennyLane_Lightning_GPU==0.38.0.dev26) (24.1)\n",
            "Requirement already satisfied: future>=0.15.2 in /usr/local/lib/python3.10/dist-packages (from autograd->pennylane>=0.36->PennyLane_Lightning_GPU==0.38.0.dev26) (1.0.0)\n",
            "Requirement already satisfied: charset-normalizer<4,>=2 in /usr/local/lib/python3.10/dist-packages (from requests->pennylane>=0.36->PennyLane_Lightning_GPU==0.38.0.dev26) (3.3.2)\n",
            "Requirement already satisfied: idna<4,>=2.5 in /usr/local/lib/python3.10/dist-packages (from requests->pennylane>=0.36->PennyLane_Lightning_GPU==0.38.0.dev26) (3.7)\n",
            "Requirement already satisfied: urllib3<3,>=1.21.1 in /usr/local/lib/python3.10/dist-packages (from requests->pennylane>=0.36->PennyLane_Lightning_GPU==0.38.0.dev26) (2.0.7)\n",
            "Requirement already satisfied: certifi>=2017.4.17 in /usr/local/lib/python3.10/dist-packages (from requests->pennylane>=0.36->PennyLane_Lightning_GPU==0.38.0.dev26) (2024.7.4)\n",
            "Created temporary directory: /tmp/pip-unpack-venrkddq\n",
            "Installing collected packages: PennyLane_Lightning_GPU\n",
            "  Running setup.py develop for PennyLane_Lightning_GPU\n",
            "    Running command python setup.py develop\n",
            "    /usr/local/lib/python3.10/dist-packages/setuptools/dist.py:300: InformationOnly: Normalizing '0.38.0-dev26' to '0.38.0.dev26'\n",
            "      self.metadata.version = self._normalize_version(self.metadata.version)\n",
            "    running develop\n",
            "    /usr/local/lib/python3.10/dist-packages/setuptools/command/develop.py:42: EasyInstallDeprecationWarning: easy_install command is deprecated.\n",
            "    !!\n",
            "\n",
            "            ********************************************************************************\n",
            "            Please avoid running ``setup.py`` and ``easy_install``.\n",
            "            Instead, use pypa/build, pypa/installer or other\n",
            "            standards-based tools.\n",
            "\n",
            "            See https://github.com/pypa/setuptools/issues/917 for details.\n",
            "            ********************************************************************************\n",
            "\n",
            "    !!\n",
            "      easy_install.initialize_options(self)\n",
            "    /usr/local/lib/python3.10/dist-packages/setuptools/_distutils/cmd.py:66: SetuptoolsDeprecationWarning: setup.py install is deprecated.\n",
            "    !!\n",
            "\n",
            "            ********************************************************************************\n",
            "            Please avoid running ``setup.py`` directly.\n",
            "            Instead, use pypa/build, pypa/installer or other\n",
            "            standards-based tools.\n",
            "\n",
            "            See https://blog.ganssle.io/articles/2021/10/setup-py-deprecated.html for details.\n",
            "            ********************************************************************************\n",
            "\n",
            "    !!\n",
            "      self.initialize_options()\n",
            "    running egg_info\n",
            "    creating PennyLane_Lightning_GPU.egg-info\n",
            "    writing PennyLane_Lightning_GPU.egg-info/PKG-INFO\n",
            "    writing dependency_links to PennyLane_Lightning_GPU.egg-info/dependency_links.txt\n",
            "    writing entry points to PennyLane_Lightning_GPU.egg-info/entry_points.txt\n",
            "    writing requirements to PennyLane_Lightning_GPU.egg-info/requires.txt\n",
            "    writing top-level names to PennyLane_Lightning_GPU.egg-info/top_level.txt\n",
            "    writing manifest file 'PennyLane_Lightning_GPU.egg-info/SOURCES.txt'\n",
            "    reading manifest file 'PennyLane_Lightning_GPU.egg-info/SOURCES.txt'\n",
            "    reading manifest template 'MANIFEST.in'\n",
            "    warning: no files found matching 'pennylane_lightning/lightning_qpu/lightning_gpu.toml'\n",
            "    adding license file 'LICENSE'\n",
            "    writing manifest file 'PennyLane_Lightning_GPU.egg-info/SOURCES.txt'\n",
            "    running build_ext\n",
            "    ░█░░░▀█▀░█▀▀░█░█░▀█▀░█▀█░▀█▀░█▀█░█▀▀░\n",
            "    ░█░░░░█░░█░█░█▀█░░█░░█░█░░█░░█░█░█░█░\n",
            "    ░▀▀▀░▀▀▀░▀▀▀░▀░▀░░▀░░▀░▀░▀▀▀░▀░▀░▀▀▀░\n",
            "\n",
            "    -- The CXX compiler identification is GNU 11.4.0\n",
            "    -- Detecting CXX compiler ABI info\n",
            "    -- Detecting CXX compiler ABI info - done\n",
            "    -- Check for working CXX compiler: /usr/bin/c++ - skipped\n",
            "    -- Detecting CXX compile features\n",
            "    -- Detecting CXX compile features - done\n",
            "    -- pennylane_lightning version 0.38.0-dev26\n",
            "    -- Found OpenMP_CXX: -fopenmp (found version \"4.5\")\n",
            "    -- Found OpenMP: TRUE (found version \"4.5\")\n",
            "    -- PL_BACKEND: lightning_gpu\n",
            "    -- ENABLE_WARNINGS is OFF.\n",
            "    -- ENABLE_OPENMP is ON.\n",
            "    -- Found OpenMP_CXX: -fopenmp (found version \"4.5\")\n",
            "    -- ENABLE AVX for X64 on UNIX compatible system.\n",
            "    -- Found Python: /usr/local/bin/python (found version \"3.10.12\") found components: Interpreter Development Development.Module Development.Embed\n",
            "    -- pybind11 v2.11.1\n",
            "    -- Performing Test HAS_FLTO\n",
            "    -- Performing Test HAS_FLTO - Success\n",
            "    Python site-packages directory: /usr/local/lib/python3.10/dist-packages\n",
            "    -- The C compiler identification is GNU 11.4.0\n",
            "    -- Detecting C compiler ABI info\n",
            "    -- Detecting C compiler ABI info - done\n",
            "    -- Check for working C compiler: /usr/bin/cc - skipped\n",
            "    -- Detecting C compile features\n",
            "    -- Detecting C compile features - done\n",
            "    ░█░░░▀█▀░█▀▀░█░█░▀█▀░█▀█░▀█▀░█▀█░█▀▀░░░░█▀▀░█▀█░█░█\n",
            "    ░█░░░░█░░█░█░█▀█░░█░░█░█░░█░░█░█░█░█░░░░█░█░█▀▀░█░█\n",
            "    ░▀▀▀░▀▀▀░▀▀▀░▀░▀░░▀░░▀░▀░▀▀▀░▀░▀░▀▀▀░▀░░▀▀▀░▀░░░▀▀▀\n",
            "\n",
            "    -- The CUDA compiler identification is NVIDIA 12.2.140\n",
            "    -- Detecting CUDA compiler ABI info\n",
            "    -- Detecting CUDA compiler ABI info - done\n",
            "    -- Check for working CUDA compiler: /usr/local/cuda/bin/nvcc - skipped\n",
            "    -- Detecting CUDA compile features\n",
            "    -- Detecting CUDA compile features - done\n",
            "    -- Found CUDAToolkit: /usr/local/cuda/targets/x86_64-linux/include (found suitable exact version \"12.2.140\")\n",
            "    -- Performing Test CMAKE_HAVE_LIBC_PTHREAD\n",
            "    -- Performing Test CMAKE_HAVE_LIBC_PTHREAD - Success\n",
            "    -- Found Threads: TRUE\n",
            "    -- ENABLE_PYTHON is ON.\n",
            "    -- Configuring done (19.1s)\n",
            "    -- Generating done (0.2s)\n",
            "    CMake Warning:\n",
            "      Manually-specified variables were not used by the project:\n",
            "\n",
            "        PYTHON_EXECUTABLE\n",
            "\n",
            "\n",
            "    -- Build files have been written to: /content/pennylane-lightning/build_lightning_gpu\n",
            "    Change Dir: '/content/pennylane-lightning/build_lightning_gpu'\n",
            "\n",
            "    Run Build Command(s): /usr/local/bin/ninja -v\n",
            "    [1/11] /usr/local/cuda/bin/nvcc -forward-unknown-to-host-compiler  -I/content/pennylane-lightning/pennylane_lightning/core/src/simulators/lightning_gpu -I/content/pennylane-lightning/pennylane_lightning/core/src/simulators/base -I/content/pennylane-lightning/pennylane_lightning/core/src/gates -I/content/pennylane-lightning/pennylane_lightning/core/src/utils/cuda_utils -I/content/pennylane-lightning/pennylane_lightning/core/src/utils -I/content/pennylane-lightning/pennylane_lightning/core/src/simulators/lightning_gpu/utils -I/content/pennylane-lightning/pennylane_lightning/core/src/simulators/lightning_gpu/gates -isystem /usr/local/lib/python3.10/dist-packages/cuquantum/include -isystem /usr/local/cuda/targets/x86_64-linux/include -O2 -g -DNDEBUG -std=c++20 \"--generate-code=arch=compute_52,code=[compute_52,sm_52]\" -Xcompiler=-fPIC -DPL_USE_OMP=1 -mavx -D_ENABLE_PLGPU=1 -MD -MT pennylane_lightning/core/src/simulators/lightning_gpu/CMakeFiles/lightning_gpu.dir/initSV.cu.o -MF pennylane_lightning/core/src/simulators/lightning_gpu/CMakeFiles/lightning_gpu.dir/initSV.cu.o.d -x cu -c /content/pennylane-lightning/pennylane_lightning/core/src/simulators/lightning_gpu/initSV.cu -o pennylane_lightning/core/src/simulators/lightning_gpu/CMakeFiles/lightning_gpu.dir/initSV.cu.o\n",
            "    [2/11] /usr/bin/c++  -I/content/pennylane-lightning/pennylane_lightning/core/src/simulators/lightning_gpu -I/content/pennylane-lightning/pennylane_lightning/core/src/simulators/base -I/content/pennylane-lightning/pennylane_lightning/core/src/gates -I/content/pennylane-lightning/pennylane_lightning/core/src/utils/cuda_utils -I/content/pennylane-lightning/pennylane_lightning/core/src/utils -I/content/pennylane-lightning/pennylane_lightning/core/src/simulators/lightning_gpu/utils -I/content/pennylane-lightning/pennylane_lightning/core/src/simulators/lightning_gpu/gates -isystem /usr/local/lib/python3.10/dist-packages/cuquantum/include -isystem /usr/local/cuda/targets/x86_64-linux/include -O2 -g -DNDEBUG -std=gnu++20 -fPIC -fwrapv -fno-plt -pipe -DPL_USE_OMP=1 -mavx -D_ENABLE_PLGPU=1 -fopenmp -MD -MT pennylane_lightning/core/src/simulators/lightning_gpu/CMakeFiles/lightning_gpu.dir/StateVectorCudaManaged.cpp.o -MF pennylane_lightning/core/src/simulators/lightning_gpu/CMakeFiles/lightning_gpu.dir/StateVectorCudaManaged.cpp.o.d -o pennylane_lightning/core/src/simulators/lightning_gpu/CMakeFiles/lightning_gpu.dir/StateVectorCudaManaged.cpp.o -c /content/pennylane-lightning/pennylane_lightning/core/src/simulators/lightning_gpu/StateVectorCudaManaged.cpp\n",
            "    [3/11] /usr/bin/c++  -I/content/pennylane-lightning/pennylane_lightning/core/src/simulators/lightning_gpu/utils -I/content/pennylane-lightning/pennylane_lightning/core/src/algorithms -I/content/pennylane-lightning/pennylane_lightning/core/src/utils/cuda_utils -I/content/pennylane-lightning/pennylane_lightning/core/src/utils -I/content/pennylane-lightning/pennylane_lightning/core/src/observables -I/content/pennylane-lightning/pennylane_lightning/core/src/simulators/lightning_gpu -I/content/pennylane-lightning/pennylane_lightning/core/src/simulators/base -I/content/pennylane-lightning/pennylane_lightning/core/src/gates -I/content/pennylane-lightning/pennylane_lightning/core/src/simulators/lightning_gpu/gates -I/content/pennylane-lightning/pennylane_lightning/core/src/simulators/lightning_gpu/observables -isystem /usr/local/lib/python3.10/dist-packages/cuquantum/include -isystem /usr/local/cuda/targets/x86_64-linux/include -O2 -g -DNDEBUG -std=c++20 -fPIC -fwrapv -fno-plt -pipe -DPL_USE_OMP=1 -mavx -D_ENABLE_PLGPU=1 -fopenmp -MD -MT pennylane_lightning/core/src/simulators/lightning_gpu/algorithms/CMakeFiles/lightning_gpu_algorithms.dir/AlgorithmsGPU.cpp.o -MF pennylane_lightning/core/src/simulators/lightning_gpu/algorithms/CMakeFiles/lightning_gpu_algorithms.dir/AlgorithmsGPU.cpp.o.d -o pennylane_lightning/core/src/simulators/lightning_gpu/algorithms/CMakeFiles/lightning_gpu_algorithms.dir/AlgorithmsGPU.cpp.o -c /content/pennylane-lightning/pennylane_lightning/core/src/simulators/lightning_gpu/algorithms/AlgorithmsGPU.cpp\n",
            "    [4/11] /usr/bin/c++   -O2 -g -DNDEBUG -std=gnu++20 -fPIC -MD -MT pennylane_lightning/core/src/utils/CMakeFiles/lightning_utils.dir/RuntimeInfo.cpp.o -MF pennylane_lightning/core/src/utils/CMakeFiles/lightning_utils.dir/RuntimeInfo.cpp.o.d -o pennylane_lightning/core/src/utils/CMakeFiles/lightning_utils.dir/RuntimeInfo.cpp.o -c /content/pennylane-lightning/pennylane_lightning/core/src/utils/RuntimeInfo.cpp\n",
            "    [5/11] : && /usr/local/lib/python3.10/dist-packages/cmake/data/bin/cmake -E rm -f pennylane_lightning/core/src/utils/liblightning_utils.a && /usr/bin/ar qc pennylane_lightning/core/src/utils/liblightning_utils.a  pennylane_lightning/core/src/utils/CMakeFiles/lightning_utils.dir/RuntimeInfo.cpp.o && /usr/bin/ranlib pennylane_lightning/core/src/utils/liblightning_utils.a && :\n",
            "    [6/11] : && /usr/local/lib/python3.10/dist-packages/cmake/data/bin/cmake -E rm -f pennylane_lightning/core/src/simulators/lightning_gpu/liblightning_gpu.a && /usr/bin/ar qc pennylane_lightning/core/src/simulators/lightning_gpu/liblightning_gpu.a  pennylane_lightning/core/src/simulators/lightning_gpu/CMakeFiles/lightning_gpu.dir/StateVectorCudaManaged.cpp.o pennylane_lightning/core/src/simulators/lightning_gpu/CMakeFiles/lightning_gpu.dir/initSV.cu.o && /usr/bin/ranlib pennylane_lightning/core/src/simulators/lightning_gpu/liblightning_gpu.a && :\n",
            "    [7/11] /usr/bin/c++  -I/content/pennylane-lightning/pennylane_lightning/core/src/utils/cuda_utils -I/content/pennylane-lightning/pennylane_lightning/core/src/utils -I/content/pennylane-lightning/pennylane_lightning/core/src/gates -I/content/pennylane-lightning/pennylane_lightning/core/src/observables -I/content/pennylane-lightning/pennylane_lightning/core/src/simulators/lightning_gpu/utils -I/content/pennylane-lightning/pennylane_lightning/core/src/simulators/lightning_gpu/gates -I/content/pennylane-lightning/pennylane_lightning/core/src/simulators/lightning_gpu -I/content/pennylane-lightning/pennylane_lightning/core/src/simulators/base -isystem /usr/local/lib/python3.10/dist-packages/cuquantum/include -isystem /usr/local/cuda/targets/x86_64-linux/include -O2 -g -DNDEBUG -std=c++20 -fPIC -fwrapv -fno-plt -pipe -DPL_USE_OMP=1 -mavx -D_ENABLE_PLGPU=1 -fopenmp -MD -MT pennylane_lightning/core/src/simulators/lightning_gpu/observables/CMakeFiles/lightning_gpu_observables.dir/ObservablesGPU.cpp.o -MF pennylane_lightning/core/src/simulators/lightning_gpu/observables/CMakeFiles/lightning_gpu_observables.dir/ObservablesGPU.cpp.o.d -o pennylane_lightning/core/src/simulators/lightning_gpu/observables/CMakeFiles/lightning_gpu_observables.dir/ObservablesGPU.cpp.o -c /content/pennylane-lightning/pennylane_lightning/core/src/simulators/lightning_gpu/observables/ObservablesGPU.cpp\n",
            "    [8/11] : && /usr/local/lib/python3.10/dist-packages/cmake/data/bin/cmake -E rm -f pennylane_lightning/core/src/simulators/lightning_gpu/observables/liblightning_gpu_observables.a && /usr/bin/ar qc pennylane_lightning/core/src/simulators/lightning_gpu/observables/liblightning_gpu_observables.a  pennylane_lightning/core/src/simulators/lightning_gpu/observables/CMakeFiles/lightning_gpu_observables.dir/ObservablesGPU.cpp.o && /usr/bin/ranlib pennylane_lightning/core/src/simulators/lightning_gpu/observables/liblightning_gpu_observables.a && :\n",
            "    [9/11] : && /usr/local/lib/python3.10/dist-packages/cmake/data/bin/cmake -E rm -f pennylane_lightning/core/src/simulators/lightning_gpu/algorithms/liblightning_gpu_algorithms.a && /usr/bin/ar qc pennylane_lightning/core/src/simulators/lightning_gpu/algorithms/liblightning_gpu_algorithms.a  pennylane_lightning/core/src/simulators/lightning_gpu/algorithms/CMakeFiles/lightning_gpu_algorithms.dir/AlgorithmsGPU.cpp.o && /usr/bin/ranlib pennylane_lightning/core/src/simulators/lightning_gpu/algorithms/liblightning_gpu_algorithms.a && :\n",
            "    [10/11] /usr/bin/c++ -DVERSION_INFO=0.38.0-dev26 -Dlightning_gpu_ops_EXPORTS -I/content/pennylane-lightning/pennylane_lightning/core/src/observables -I/content/pennylane-lightning/pennylane_lightning/core/src/utils/cuda_utils -I/content/pennylane-lightning/pennylane_lightning/core/src/utils -I/content/pennylane-lightning/pennylane_lightning/core/src/algorithms -I/content/pennylane-lightning/pennylane_lightning/core/src/simulators/lightning_gpu -I/content/pennylane-lightning/pennylane_lightning/core/src/simulators/base -I/content/pennylane-lightning/pennylane_lightning/core/src/gates -I/content/pennylane-lightning/pennylane_lightning/core/src/simulators/lightning_gpu/utils -I/content/pennylane-lightning/pennylane_lightning/core/src/simulators/lightning_gpu/gates -I/content/pennylane-lightning/pennylane_lightning/core/src/simulators/lightning_gpu/observables -I/content/pennylane-lightning/pennylane_lightning/core/src/simulators/lightning_gpu/bindings -I/content/pennylane-lightning/pennylane_lightning/core/src/bindings -I/content/pennylane-lightning/pennylane_lightning/core/src/simulators/lightning_gpu/measurements -I/content/pennylane-lightning/pennylane_lightning/core/src/measurements -I/content/pennylane-lightning/pennylane_lightning/core/src/simulators/lightning_gpu/algorithms -isystem /usr/include/python3.10 -isystem /content/pennylane-lightning/build_lightning_gpu/_deps/pybind11-src/include -isystem /usr/local/lib/python3.10/dist-packages/cuquantum/include -isystem /usr/local/cuda/targets/x86_64-linux/include -O2 -g -DNDEBUG -std=gnu++20 -fPIC -fvisibility=hidden -fwrapv -fno-plt -pipe -DPL_USE_OMP=1 -mavx -D_ENABLE_PLGPU=1 -fopenmp -MD -MT CMakeFiles/lightning_gpu_ops.dir/pennylane_lightning/core/src/bindings/Bindings.cpp.o -MF CMakeFiles/lightning_gpu_ops.dir/pennylane_lightning/core/src/bindings/Bindings.cpp.o.d -o CMakeFiles/lightning_gpu_ops.dir/pennylane_lightning/core/src/bindings/Bindings.cpp.o -c /content/pennylane-lightning/pennylane_lightning/core/src/bindings/Bindings.cpp\n",
            "    [11/11] : && /usr/bin/c++ -fPIC -O2 -g -DNDEBUG   -shared  -o /content/pennylane-lightning/build/lib.linux-x86_64-cpython-310/pennylane_lightning/lightning_gpu_ops.cpython-310-x86_64-linux-gnu.so CMakeFiles/lightning_gpu_ops.dir/pennylane_lightning/core/src/bindings/Bindings.cpp.o  -Wl,-rpath,\"\\$ORIGIN/../cuquantum/lib:\\$ORIGIN/../nvidia/cuda_runtime/lib:\\$ORIGIN/../nvidia/cublas/lib:\\$ORIGIN/../nvidia/cusparse/lib:\\$ORIGIN:/usr/local/lib/python3.10/dist-packages/cuquantum/lib:/usr/local/cuda-12.2/targets/x86_64-linux/lib\"  pennylane_lightning/core/src/utils/liblightning_utils.a  pennylane_lightning/core/src/simulators/lightning_gpu/liblightning_gpu.a  pennylane_lightning/core/src/simulators/lightning_gpu/observables/liblightning_gpu_observables.a  pennylane_lightning/core/src/simulators/lightning_gpu/algorithms/liblightning_gpu_algorithms.a  pennylane_lightning/core/src/simulators/lightning_gpu/observables/liblightning_gpu_observables.a  pennylane_lightning/core/src/simulators/lightning_gpu/liblightning_gpu.a  pennylane_lightning/core/src/utils/liblightning_utils.a  /usr/lib/gcc/x86_64-linux-gnu/11/libgomp.so  /usr/lib/x86_64-linux-gnu/libpthread.a  /usr/local/lib/python3.10/dist-packages/cuquantum/lib/libcustatevec.so.1  /usr/local/cuda-12.2/targets/x86_64-linux/lib/libcudart.so  /usr/local/cuda-12.2/targets/x86_64-linux/lib/libcublas.so  /usr/local/cuda-12.2/targets/x86_64-linux/lib/libcublasLt.so  /usr/local/cuda-12.2/targets/x86_64-linux/lib/libculibos.a  /usr/local/cuda-12.2/targets/x86_64-linux/lib/libcusparse.so  /usr/local/cuda-12.2/targets/x86_64-linux/lib/libnvJitLink.so  /usr/local/cuda-12.2/targets/x86_64-linux/lib/libcudart.so  -ldl  /usr/lib/x86_64-linux-gnu/librt.a  /usr/local/cuda-12.2/targets/x86_64-linux/lib/libcublas.so  /usr/local/cuda-12.2/targets/x86_64-linux/lib/libcublasLt.so  /usr/local/cuda-12.2/targets/x86_64-linux/lib/libculibos.a  /usr/local/cuda-12.2/targets/x86_64-linux/lib/libcusparse.so  /usr/local/cuda-12.2/targets/x86_64-linux/lib/libnvJitLink.so && :\n",
            "\n",
            "    copying build/lib.linux-x86_64-cpython-310/pennylane_lightning/lightning_gpu_ops.cpython-310-x86_64-linux-gnu.so -> pennylane_lightning\n",
            "    Creating /usr/local/lib/python3.10/dist-packages/PennyLane-Lightning-GPU.egg-link (link to .)\n",
            "    PennyLane-Lightning-GPU 0.38.0.dev26 is already the active version in easy-install.pth\n",
            "\n",
            "    Installed /content/pennylane-lightning\n",
            "Successfully installed PennyLane_Lightning_GPU-0.38.0.dev26\n",
            "Removed build tracker: '/tmp/pip-build-tracker-q81stvy7'\n"
          ]
        }
      ]
    },
    {
      "cell_type": "code",
      "source": [
        "import numpy as np\n",
        "import matplotlib.pyplot as plt\n",
        "\n",
        "import torch\n",
        "from torch.autograd import Function\n",
        "from torchvision import datasets, transforms\n",
        "import torch.optim as optim\n",
        "from torch.optim import lr_scheduler\n",
        "import torch.nn as nn\n",
        "import torch.nn.functional as F\n",
        "\n",
        "import pennylane as qml\n",
        "from pennylane import numpy as np\n",
        "\n",
        "use_cuda = torch.cuda.is_available()\n",
        "device = torch.device(\"cuda\" if use_cuda else \"cpu\")"
      ],
      "metadata": {
        "id": "v50zHSOu-4--"
      },
      "execution_count": null,
      "outputs": []
    },
    {
      "cell_type": "code",
      "source": [
        "n_qubits = 4\n",
        "if use_cuda is True:\n",
        "    dev = qml.device(\"lightning.gpu\", wires=n_qubits)\n",
        "else:\n",
        "    dev = qml.device(\"default.qubit\", wires=n_qubits)\n",
        "\n",
        "@qml.qnode(dev)\n",
        "def circuit(inputs, weights):\n",
        "    qml.AngleEmbedding(inputs, wires=range(n_qubits))\n",
        "    qml.BasicEntanglerLayers(weights, wires=range(n_qubits))\n",
        "    return [qml.expval(qml.PauliZ(wires=i)) for i in range(n_qubits)]\n",
        "\n",
        "print(f\"{dev=}\")\n",
        "\n",
        "input = torch.from_numpy(np.random.uniform(0, np.pi, (4,))).to(device)\n",
        "weights = torch.from_numpy(np.random.uniform(0, np.pi, (4, 4))).to(device)\n",
        "output = circuit(input, weights)\n",
        "print(f\"{output=}\")"
      ],
      "metadata": {
        "colab": {
          "base_uri": "https://localhost:8080/"
        },
        "id": "ag6ZgVCU_go8",
        "outputId": "f9d69718-ec61-48a5-dcb3-124435411277"
      },
      "execution_count": null,
      "outputs": [
        {
          "output_type": "stream",
          "name": "stdout",
          "text": [
            "dev=<default.qubit device (wires=4) at 0x7e3974bf3a00>\n",
            "output=[tensor(0.6539, dtype=torch.float64), tensor(-0.3547, dtype=torch.float64), tensor(-0.5555, dtype=torch.float64), tensor(0.1175, dtype=torch.float64)]\n"
          ]
        }
      ]
    },
    {
      "cell_type": "code",
      "source": [
        "from google.colab import drive\n",
        "drive.mount('/content/drive')"
      ],
      "metadata": {
        "colab": {
          "base_uri": "https://localhost:8080/"
        },
        "id": "KXv-A38Q_kZH",
        "outputId": "28d93b1a-c103-4507-d375-5d6df3bcdf5b"
      },
      "execution_count": null,
      "outputs": [
        {
          "output_type": "stream",
          "name": "stdout",
          "text": [
            "Mounted at /content/drive\n"
          ]
        }
      ]
    },
    {
      "cell_type": "code",
      "source": [
        "import json\n",
        "# Opening JSON file\n",
        "# f = open('/content/drive/MyDrive/al5083/al5083/train/train.json',)\n",
        "f=open('/content/drive/MyDrive/alweld/train/train.json')\n",
        "label_train = json.load(f)"
      ],
      "metadata": {
        "id": "_F3ou9xz_nxh"
      },
      "execution_count": null,
      "outputs": []
    },
    {
      "cell_type": "code",
      "source": [
        "keys_orig = list(label_train.keys())\n",
        "values = list(label_train.values())\n",
        "keys = []\n",
        "for key in keys_orig:\n",
        "  a_string = key\n",
        "  a_string = a_string.replace(\"/\", \" \")\n",
        "  x = a_string.split()\n",
        "  string = x[0]+' '+x[1]\n",
        "  keys.append(string)\n",
        "true_labels_dict = {keys[i]: values[i] for i in range(len(keys))}\n",
        "true_labels_dict"
      ],
      "metadata": {
        "colab": {
          "base_uri": "https://localhost:8080/"
        },
        "id": "QJXkgNz0_2a5",
        "outputId": "eb4d08d9-559f-4422-ec5e-1e9e769dfca7"
      },
      "execution_count": null,
      "outputs": [
        {
          "output_type": "execute_result",
          "data": {
            "text/plain": [
              "{'170906-113317-Al 2mm-part3': 1,\n",
              " '170906-144958-Al 2mm': 1,\n",
              " '170904-141730-Al 2mm-part2': 2,\n",
              " '170904-151845-Al 2mm-part2': 2,\n",
              " '170906-153326-Al 2mm-part2': 2,\n",
              " '170904-141232-Al 2mm-part2': 2,\n",
              " '170913-151508-Al 2mm-part2': 2,\n",
              " '170904-150144-Al 2mm-part1': 2,\n",
              " '170913-143933-Al 2mm-part2': 2,\n",
              " '170913-152931-Al 2mm-part2': 2,\n",
              " '170906-141809-Al 2mm-part2': 2,\n",
              " '170815-134756-Al 2mm': 2,\n",
              " '170904-115959-Al 2mm': 2,\n",
              " '170815-133921-Al 2mm': 2,\n",
              " '170904-112347-Al 2mm': 2,\n",
              " '170904-145718-Al 2mm-part2': 4,\n",
              " '170904-141730-Al 2mm-part3': 4,\n",
              " '170905-110711-Al 2mm-part2': 4,\n",
              " '170904-141232-Al 2mm-part3': 4,\n",
              " '170913-155806-Al 2mm-part2': 4,\n",
              " '170904-152301-Al 2mm-part1': 4,\n",
              " '170904-113012-Al 2mm-part2': 4,\n",
              " '170904-154202-Al 2mm-part2': 4,\n",
              " '170904-155523-Al 2mm': 4,\n",
              " '170913-140725-Al 2mm': 4,\n",
              " '170913-152931-Al 2mm-part1': 0,\n",
              " '170913-151508-Al 2mm-part1': 0,\n",
              " '170913-143933-Al 2mm-part1': 0,\n",
              " '170904-141730-Al 2mm-part1': 0,\n",
              " '170904-145718-Al 2mm-part1': 0,\n",
              " '170913-142501-Al 2mm': 0,\n",
              " '170905-114307-Al 2mm': 0,\n",
              " '170905-115602-Al 2mm': 0,\n",
              " '170913-155806-Al 2mm-part1': 0,\n",
              " '170906-114912-Al 2mm': 0,\n",
              " '170906-141809-Al 2mm-part1': 0,\n",
              " '170906-120346-Al 2mm': 0,\n",
              " '170905-110711-Al 2mm-part1': 5,\n",
              " '170904-113012-Al 2mm-part1': 5,\n",
              " '170906-153326-Al 2mm-part1': 5,\n",
              " '170904-115503-Al 2mm': 5,\n",
              " '170904-141232-Al 2mm-part1': 5,\n",
              " '170904-151845-Al 2mm-part1': 5,\n",
              " '170906-150010-Al 2mm': 3,\n",
              " '170906-151353-Al 2mm': 3,\n",
              " '170906-150801-Al 2mm': 3}"
            ]
          },
          "metadata": {},
          "execution_count": 10
        }
      ]
    },
    {
      "cell_type": "code",
      "source": [
        "import numpy as np\n",
        "import pandas as pd\n",
        "import os\n",
        "from os import walk"
      ],
      "metadata": {
        "id": "KRnIiYpJ_5sq"
      },
      "execution_count": null,
      "outputs": []
    },
    {
      "cell_type": "code",
      "source": [
        "# location_folders = '/content/drive/MyDrive/alweld/train'\n",
        "location_folders = '/content/drive/MyDrive/alweld/train'\n",
        "\n",
        "folders = []\n",
        "for (_, dirnames, _) in walk(location_folders):\n",
        "    folders.extend(dirnames)\n",
        "    break\n",
        "\n",
        "num_files = []\n",
        "for folder in folders:\n",
        "  location_files = location_folders + folder +'/'\n",
        "  files =[]\n",
        "  for (_, _, filenames) in walk(location_files):\n",
        "    files.extend(filenames)\n",
        "    break\n",
        "\n",
        "  num_files.append(len(files))\n",
        "\n",
        "num_files = np.array(num_files)\n",
        "num_files"
      ],
      "metadata": {
        "colab": {
          "base_uri": "https://localhost:8080/"
        },
        "id": "jBAZe4sRAK35",
        "outputId": "e5d07b3a-b4eb-4338-acad-b46783f9440e"
      },
      "execution_count": null,
      "outputs": [
        {
          "output_type": "execute_result",
          "data": {
            "text/plain": [
              "array([0, 0, 0, 0, 0, 0, 0, 0, 0, 0, 0, 0, 0, 0, 0, 0, 0, 0, 0, 0, 0, 0,\n",
              "       0, 0, 0, 0, 0, 0, 0, 0, 0, 0, 0, 0, 0, 0, 0, 0, 0, 0, 0, 0, 0, 0,\n",
              "       0, 0])"
            ]
          },
          "metadata": {},
          "execution_count": 12
        }
      ]
    },
    {
      "cell_type": "code",
      "source": [
        "label = [true_labels_dict[folder] for folder in folders]\n",
        "train_data = pd.DataFrame({'folders':folders,\n",
        "                           'number_of_files':num_files,\n",
        "                           'Labels':label })\n",
        "train_data_detail =train_data.sort_values(by=['Labels'])"
      ],
      "metadata": {
        "id": "F4eokudxAMp8"
      },
      "execution_count": null,
      "outputs": []
    },
    {
      "cell_type": "code",
      "source": [
        "filename = 'data_detail.csv'\n",
        "train_data_detail.to_csv(filename, index=False)"
      ],
      "metadata": {
        "id": "70VwLcBXAPbb"
      },
      "execution_count": null,
      "outputs": []
    },
    {
      "cell_type": "code",
      "source": [
        "import os\n",
        "from os import walk\n",
        "\n",
        "# location_folders = '/content/drive/My Drive/Dataset/al5083/al5083/train/'\n",
        "location_folders = '/content/drive/MyDrive/alweld/train'\n",
        "\n",
        "folders = []\n",
        "for (_, dirnames, _) in walk(location_folders):\n",
        "    folders.extend(dirnames)\n",
        "    break\n",
        "# folders\n",
        "for folder in folders:\n",
        "  location_files = location_folders + folder +'/'\n",
        "  files =[]\n",
        "  for (_, _, filenames) in walk(location_files):\n",
        "    files.extend(filenames)\n",
        "    break\n",
        "  # print(len(files))\n",
        "\n",
        "#   \"\"\"\n",
        "#   Now we need to reduce the skewness of the data\n",
        "#   Min is 55 and max goes to 2400\n",
        "#   \"\"\"\n",
        "  if true_labels_dict[folder] == 0:\n",
        "    for i,file in enumerate(files):\n",
        "      if (i+1)%8 == 1:\n",
        "        # print('Skipped successfully')\n",
        "        None\n",
        "      else:\n",
        "        # path = os.path.join(location_files, file)\n",
        "        path = location_files + file\n",
        "        os.remove(path)\n",
        "        print(\"%s has been removed successfully\" %file)\n",
        "  elif true_labels_dict[folder] == 1:\n",
        "    for i,file in enumerate(files):\n",
        "      if (i+1)%2 == 1:\n",
        "        None\n",
        "      else:\n",
        "        # path = os.path.join(location_files, file)\n",
        "        path = location_files + file\n",
        "        os.remove(path)\n",
        "        print(\"%s has been removed successfully\" %file)\n",
        "  elif true_labels_dict[folder] == 2:\n",
        "    for i,file in enumerate(files):\n",
        "      if (i+1)%7 == 1:\n",
        "        None\n",
        "      else:\n",
        "        # path = os.path.join(location_files, file)\n",
        "        path = location_files + file\n",
        "        os.remove(path)\n",
        "        print(\"%s has been removed successfully\" %file)\n",
        "  elif true_labels_dict[folder] == 3:\n",
        "    for i,file in enumerate(files):\n",
        "      if (i+1)%4 == 1:\n",
        "        None\n",
        "      else:\n",
        "        # path = os.path.join(location_files, file)\n",
        "        path = location_files + file\n",
        "        os.remove(path)\n",
        "        print(\"%s has been removed successfully\" %file)\n",
        "  elif true_labels_dict[folder] == 4:\n",
        "    for i,file in enumerate(files):\n",
        "      if (i+1)%3 == 1:\n",
        "        None\n",
        "      else:\n",
        "        # path = os.path.join(location_files, file)\n",
        "        path = location_files + file\n",
        "        os.remove(path)\n",
        "        print(\"%s has been removed successfully\" %file)\n",
        "  elif true_labels_dict[folder] == 5:\n",
        "    for i,file in enumerate(files):\n",
        "      if (i+1)%3 == 1:\n",
        "        None\n",
        "      else:\n",
        "        # path = os.path.join(location_files, file)\n",
        "        path = location_files + file\n",
        "        os.remove(path)\n",
        "        print(\"%s has been removed successfully\" %file)"
      ],
      "metadata": {
        "id": "D6GMrxTJARqm"
      },
      "execution_count": null,
      "outputs": []
    },
    {
      "cell_type": "code",
      "source": [
        "if len(files) <= 150:\n",
        "    pass\n",
        "elif len(files) > 150 and len(files) <= 400:\n",
        "    for i,file in enumerate(files):\n",
        "      if (i+1)%5 == 1:\n",
        "        None\n",
        "      else:\n",
        "        # path = os.path.join(location_files, file)\n",
        "        path = location_files + file\n",
        "        os.remove(path)  # Indentation fixed here\n",
        "        print(\"%s has been removed successfully\" %file)\n",
        "\n",
        "    #elif len(files) > 400 and len(files) <= 1000:\n",
        "elif len(files) > 1000:  # Indentation fixed here\n",
        "    for i,file in enumerate(files):\n",
        "        path = os.path.join(directory, file)  # 'directory' variable needs to be defined\n",
        "        os.remove(path)\n",
        "        print(\"%s has been removed successfully\" %file)\n",
        "elif len(files) > 400:\n",
        "    for i,file in enumerate(files):\n",
        "        if (i+1)%8 == 1:\n",
        "          None\n",
        "        else:\n",
        "          # path = os.path.join(location_files, file)\n",
        "          path = location_files + file\n",
        "          os.remove(path)\n",
        "          print(\"%s has been removed successfully\" %file)\n",
        "\n",
        "    #path = os.path.join(location, file)  # This line seems unnecessary and might cause errors, consider removing it"
      ],
      "metadata": {
        "id": "hkNxFV6QAUlp"
      },
      "execution_count": null,
      "outputs": []
    },
    {
      "cell_type": "code",
      "source": [
        "import numpy as np\n",
        "import pandas as pd\n",
        "import torch\n",
        "import torch.nn as nn\n",
        "from torch.nn import functional as F\n",
        "from torch.nn.parameter import Parameter\n",
        "import torch.optim as optim\n",
        "\n",
        "from torch.utils.data import Dataset, DataLoader, random_split\n",
        "from torchvision import transforms, utils, datasets\n",
        "import matplotlib.pyplot as plt\n",
        "\n",
        "\n",
        "torch.set_printoptions(linewidth=120)\n",
        "torch.set_grad_enabled(True)"
      ],
      "metadata": {
        "colab": {
          "base_uri": "https://localhost:8080/"
        },
        "id": "UZRp0MrtAXJB",
        "outputId": "fceeed4c-a3a3-4b45-be85-4e7863c665c2"
      },
      "execution_count": null,
      "outputs": [
        {
          "output_type": "execute_result",
          "data": {
            "text/plain": [
              "<torch.autograd.grad_mode.set_grad_enabled at 0x7e396c8cba00>"
            ]
          },
          "metadata": {},
          "execution_count": 17
        }
      ]
    },
    {
      "cell_type": "code",
      "source": [
        "mean = 0.2069\n",
        "std = 0.1471\n",
        "\n",
        "# data_dir = '/content/drive/My Drive/al5083/al5083/train'\n",
        "data_dir = '/content/drive/MyDrive/alweld/train'\n",
        "transform = transforms.Compose([\n",
        "     transforms.CenterCrop((800,800)),\n",
        "     transforms.ToTensor(),\n",
        "     transforms.Normalize(mean, std)\n",
        "     ])\n",
        "\n",
        "train_dataset = datasets.ImageFolder(root =data_dir,transform = transform)\n",
        "\n",
        "original_labels_dict = train_dataset.class_to_idx"
      ],
      "metadata": {
        "id": "MKr9kWsLAZq2"
      },
      "execution_count": null,
      "outputs": []
    },
    {
      "cell_type": "code",
      "source": [
        "import json\n",
        "# Opening JSON file\n",
        "# f = open('/content/drive/My Drive/al5083/al5083/train/train.json',)\n",
        "f = open('/content/drive/MyDrive/alweld/train/train.json',)\n",
        "\n",
        "label_train = json.load(f)\n",
        "keys_orig = list(label_train.keys())\n",
        "values = list(label_train.values())\n",
        "keys = []\n",
        "for key in keys_orig:\n",
        "  a_string = key\n",
        "  a_string = a_string.replace(\"/\", \" \")\n",
        "  x = a_string.split()\n",
        "  string = x[0]+' '+x[1]\n",
        "  keys.append(string)\n",
        "true_labels_dict = {keys[i]: values[i] for i in range(len(keys))}\n",
        "true_labels_dict"
      ],
      "metadata": {
        "colab": {
          "base_uri": "https://localhost:8080/"
        },
        "id": "_xJisDUKAdPN",
        "outputId": "af36c813-8ca2-4743-f2a9-1746b913b77e"
      },
      "execution_count": null,
      "outputs": [
        {
          "output_type": "execute_result",
          "data": {
            "text/plain": [
              "{'170906-113317-Al 2mm-part3': 1,\n",
              " '170906-144958-Al 2mm': 1,\n",
              " '170904-141730-Al 2mm-part2': 2,\n",
              " '170904-151845-Al 2mm-part2': 2,\n",
              " '170906-153326-Al 2mm-part2': 2,\n",
              " '170904-141232-Al 2mm-part2': 2,\n",
              " '170913-151508-Al 2mm-part2': 2,\n",
              " '170904-150144-Al 2mm-part1': 2,\n",
              " '170913-143933-Al 2mm-part2': 2,\n",
              " '170913-152931-Al 2mm-part2': 2,\n",
              " '170906-141809-Al 2mm-part2': 2,\n",
              " '170815-134756-Al 2mm': 2,\n",
              " '170904-115959-Al 2mm': 2,\n",
              " '170815-133921-Al 2mm': 2,\n",
              " '170904-112347-Al 2mm': 2,\n",
              " '170904-145718-Al 2mm-part2': 4,\n",
              " '170904-141730-Al 2mm-part3': 4,\n",
              " '170905-110711-Al 2mm-part2': 4,\n",
              " '170904-141232-Al 2mm-part3': 4,\n",
              " '170913-155806-Al 2mm-part2': 4,\n",
              " '170904-152301-Al 2mm-part1': 4,\n",
              " '170904-113012-Al 2mm-part2': 4,\n",
              " '170904-154202-Al 2mm-part2': 4,\n",
              " '170904-155523-Al 2mm': 4,\n",
              " '170913-140725-Al 2mm': 4,\n",
              " '170913-152931-Al 2mm-part1': 0,\n",
              " '170913-151508-Al 2mm-part1': 0,\n",
              " '170913-143933-Al 2mm-part1': 0,\n",
              " '170904-141730-Al 2mm-part1': 0,\n",
              " '170904-145718-Al 2mm-part1': 0,\n",
              " '170913-142501-Al 2mm': 0,\n",
              " '170905-114307-Al 2mm': 0,\n",
              " '170905-115602-Al 2mm': 0,\n",
              " '170913-155806-Al 2mm-part1': 0,\n",
              " '170906-114912-Al 2mm': 0,\n",
              " '170906-141809-Al 2mm-part1': 0,\n",
              " '170906-120346-Al 2mm': 0,\n",
              " '170905-110711-Al 2mm-part1': 5,\n",
              " '170904-113012-Al 2mm-part1': 5,\n",
              " '170906-153326-Al 2mm-part1': 5,\n",
              " '170904-115503-Al 2mm': 5,\n",
              " '170904-141232-Al 2mm-part1': 5,\n",
              " '170904-151845-Al 2mm-part1': 5,\n",
              " '170906-150010-Al 2mm': 3,\n",
              " '170906-151353-Al 2mm': 3,\n",
              " '170906-150801-Al 2mm': 3}"
            ]
          },
          "metadata": {},
          "execution_count": 19
        }
      ]
    },
    {
      "cell_type": "code",
      "source": [
        "label_map_dict = {}\n",
        "\n",
        "for key,value in original_labels_dict.items():\n",
        "  label_map_dict.update({value:true_labels_dict[key]})\n",
        "label_map_dict"
      ],
      "metadata": {
        "colab": {
          "base_uri": "https://localhost:8080/"
        },
        "id": "lVaatF1YAfmU",
        "outputId": "573be0eb-5a7e-4bff-c791-35bfeac6d585"
      },
      "execution_count": null,
      "outputs": [
        {
          "output_type": "execute_result",
          "data": {
            "text/plain": [
              "{0: 2,\n",
              " 1: 2,\n",
              " 2: 2,\n",
              " 3: 5,\n",
              " 4: 4,\n",
              " 5: 5,\n",
              " 6: 2,\n",
              " 7: 5,\n",
              " 8: 2,\n",
              " 9: 4,\n",
              " 10: 0,\n",
              " 11: 2,\n",
              " 12: 4,\n",
              " 13: 0,\n",
              " 14: 4,\n",
              " 15: 2,\n",
              " 16: 5,\n",
              " 17: 2,\n",
              " 18: 4,\n",
              " 19: 4,\n",
              " 20: 4,\n",
              " 21: 5,\n",
              " 22: 4,\n",
              " 23: 0,\n",
              " 24: 0,\n",
              " 25: 1,\n",
              " 26: 0,\n",
              " 27: 0,\n",
              " 28: 0,\n",
              " 29: 2,\n",
              " 30: 1,\n",
              " 31: 3,\n",
              " 32: 3,\n",
              " 33: 3,\n",
              " 34: 5,\n",
              " 35: 2,\n",
              " 36: 4,\n",
              " 37: 0,\n",
              " 38: 0,\n",
              " 39: 2,\n",
              " 40: 0,\n",
              " 41: 2,\n",
              " 42: 0,\n",
              " 43: 2,\n",
              " 44: 0,\n",
              " 45: 4}"
            ]
          },
          "metadata": {},
          "execution_count": 20
        }
      ]
    },
    {
      "cell_type": "code",
      "source": [
        "true_labels_dict2 = {}\n",
        "for key,value in true_labels_dict.items():\n",
        "  if value ==0:\n",
        "    val = 0\n",
        "  else:\n",
        "    val = 1\n",
        "  dict2 = {key:val}\n",
        "  true_labels_dict2.update(dict2)\n",
        "true_labels_dict2"
      ],
      "metadata": {
        "colab": {
          "base_uri": "https://localhost:8080/"
        },
        "id": "R1jJerALAvTo",
        "outputId": "ebacd990-086d-4f5f-c138-c65322e56bcd"
      },
      "execution_count": null,
      "outputs": [
        {
          "output_type": "execute_result",
          "data": {
            "text/plain": [
              "{'170906-113317-Al 2mm-part3': 1,\n",
              " '170906-144958-Al 2mm': 1,\n",
              " '170904-141730-Al 2mm-part2': 1,\n",
              " '170904-151845-Al 2mm-part2': 1,\n",
              " '170906-153326-Al 2mm-part2': 1,\n",
              " '170904-141232-Al 2mm-part2': 1,\n",
              " '170913-151508-Al 2mm-part2': 1,\n",
              " '170904-150144-Al 2mm-part1': 1,\n",
              " '170913-143933-Al 2mm-part2': 1,\n",
              " '170913-152931-Al 2mm-part2': 1,\n",
              " '170906-141809-Al 2mm-part2': 1,\n",
              " '170815-134756-Al 2mm': 1,\n",
              " '170904-115959-Al 2mm': 1,\n",
              " '170815-133921-Al 2mm': 1,\n",
              " '170904-112347-Al 2mm': 1,\n",
              " '170904-145718-Al 2mm-part2': 1,\n",
              " '170904-141730-Al 2mm-part3': 1,\n",
              " '170905-110711-Al 2mm-part2': 1,\n",
              " '170904-141232-Al 2mm-part3': 1,\n",
              " '170913-155806-Al 2mm-part2': 1,\n",
              " '170904-152301-Al 2mm-part1': 1,\n",
              " '170904-113012-Al 2mm-part2': 1,\n",
              " '170904-154202-Al 2mm-part2': 1,\n",
              " '170904-155523-Al 2mm': 1,\n",
              " '170913-140725-Al 2mm': 1,\n",
              " '170913-152931-Al 2mm-part1': 0,\n",
              " '170913-151508-Al 2mm-part1': 0,\n",
              " '170913-143933-Al 2mm-part1': 0,\n",
              " '170904-141730-Al 2mm-part1': 0,\n",
              " '170904-145718-Al 2mm-part1': 0,\n",
              " '170913-142501-Al 2mm': 0,\n",
              " '170905-114307-Al 2mm': 0,\n",
              " '170905-115602-Al 2mm': 0,\n",
              " '170913-155806-Al 2mm-part1': 0,\n",
              " '170906-114912-Al 2mm': 0,\n",
              " '170906-141809-Al 2mm-part1': 0,\n",
              " '170906-120346-Al 2mm': 0,\n",
              " '170905-110711-Al 2mm-part1': 1,\n",
              " '170904-113012-Al 2mm-part1': 1,\n",
              " '170906-153326-Al 2mm-part1': 1,\n",
              " '170904-115503-Al 2mm': 1,\n",
              " '170904-141232-Al 2mm-part1': 1,\n",
              " '170904-151845-Al 2mm-part1': 1,\n",
              " '170906-150010-Al 2mm': 1,\n",
              " '170906-151353-Al 2mm': 1,\n",
              " '170906-150801-Al 2mm': 1}"
            ]
          },
          "metadata": {},
          "execution_count": 21
        }
      ]
    },
    {
      "cell_type": "code",
      "source": [
        "true_label_map_dict = {}\n",
        "\n",
        "for key,value in original_labels_dict.items():\n",
        "  true_label_map_dict.update({value:true_labels_dict2[key]})\n",
        "true_label_map_dict"
      ],
      "metadata": {
        "colab": {
          "base_uri": "https://localhost:8080/"
        },
        "id": "wpx-Q5OoAzd2",
        "outputId": "c28aff0e-a575-4e65-e4c7-6fa82566c362"
      },
      "execution_count": null,
      "outputs": [
        {
          "output_type": "execute_result",
          "data": {
            "text/plain": [
              "{0: 1,\n",
              " 1: 1,\n",
              " 2: 1,\n",
              " 3: 1,\n",
              " 4: 1,\n",
              " 5: 1,\n",
              " 6: 1,\n",
              " 7: 1,\n",
              " 8: 1,\n",
              " 9: 1,\n",
              " 10: 0,\n",
              " 11: 1,\n",
              " 12: 1,\n",
              " 13: 0,\n",
              " 14: 1,\n",
              " 15: 1,\n",
              " 16: 1,\n",
              " 17: 1,\n",
              " 18: 1,\n",
              " 19: 1,\n",
              " 20: 1,\n",
              " 21: 1,\n",
              " 22: 1,\n",
              " 23: 0,\n",
              " 24: 0,\n",
              " 25: 1,\n",
              " 26: 0,\n",
              " 27: 0,\n",
              " 28: 0,\n",
              " 29: 1,\n",
              " 30: 1,\n",
              " 31: 1,\n",
              " 32: 1,\n",
              " 33: 1,\n",
              " 34: 1,\n",
              " 35: 1,\n",
              " 36: 1,\n",
              " 37: 0,\n",
              " 38: 0,\n",
              " 39: 1,\n",
              " 40: 0,\n",
              " 41: 1,\n",
              " 42: 0,\n",
              " 43: 1,\n",
              " 44: 0,\n",
              " 45: 1}"
            ]
          },
          "metadata": {},
          "execution_count": 22
        }
      ]
    },
    {
      "cell_type": "code",
      "source": [
        "#Setting of the main hyper-parameters of the model\n",
        "batch_size = 200\n",
        "#n_train = batch_size * 125    # Size of the train dataset\n",
        "#n_test = batch_size * 25     # Size of the test dataset\n",
        "n_channels = 4\n",
        "initial_lr = 0.003          # Define your initial learning rate\n",
        "num_epochs = 40"
      ],
      "metadata": {
        "id": "1xheUYgsA2_5"
      },
      "execution_count": null,
      "outputs": []
    },
    {
      "cell_type": "code",
      "source": [
        "def quanv(image, weights):\n",
        "    \"\"\"Convolves the input image with many applications of the same quantum circuit.\"\"\"\n",
        "    # PyTorch models generally require a 4D input tensor with the\n",
        "    # dimensions - (batch size, channels, height, width)\n",
        "    # input image shape is (batch_size, 1, 14, 14)\n",
        "    # output shape should be (batch_size, 4, 7, 7)\n",
        "    batch_size = image.shape[0]\n",
        "    out = np.zeros((batch_size, 4, 7, 7))\n",
        "    l_image = image.detach().cpu().numpy()\n",
        "    l_weights = weights.detach().cpu().numpy()\n",
        "\n",
        "    for i in range(batch_size):\n",
        "        # Loop over the coordinates of the top-left pixel of 2X2 squares\n",
        "        for j in range(0, 14, 2):\n",
        "            for k in range(0, 14, 2):\n",
        "                # Process a squared 2x2 region of the image with a quantum circuit\n",
        "                q_results = circuit(\n",
        "                    [\n",
        "                        l_image[i, 0, j, k] * np.pi,\n",
        "                        l_image[i, 0, j, k + 1] * np.pi,\n",
        "                        l_image[i, 0, j + 1, k] * np.pi,\n",
        "                        l_image[i, 0, j + 1, k + 1] * np.pi\n",
        "                    ],\n",
        "                    l_weights\n",
        "                )\n",
        "                # Assign expectation values to different channels of the output pixel (j/2, k/2)\n",
        "                for c in range(n_channels):\n",
        "                    out[i, c, j // 2, k // 2] = q_results[c]\n",
        "    return out"
      ],
      "metadata": {
        "id": "edzoOdgHA6Hz"
      },
      "execution_count": null,
      "outputs": []
    },
    {
      "cell_type": "code",
      "source": [
        "\n",
        "\n",
        "# Custom nn.Module class for handling the quantum convolution\n",
        "class QuantConv(nn.Module):\n",
        "\n",
        "    # The number of layers in the BasicEntanglerLayers instance in\n",
        "    # the quantum convolver\n",
        "    LAYERS = 4\n",
        "\n",
        "    def __init__(self):\n",
        "        super(QuantConv, self).__init__()\n",
        "        # Initialise and register weights\n",
        "        # weights have shape (LAYERS, n_qubits) where LAYERS is the\n",
        "        # number of layers in the BasicEntanglerLayers\n",
        "        self.weights = nn.Parameter(\n",
        "            torch.from_numpy(np.random.uniform(\n",
        "                0, np.pi, (QuantConv.LAYERS, n_qubits)))).to(device)\n",
        "\n",
        "    def forward(self, input):\n",
        "        expectation_z = quanv(input, self.weights)\n",
        "        x = torch.tensor(expectation_z).to(device)\n",
        "        return x\n",
        "\n",
        "\n",
        "\n",
        "class QuantModel(nn.Module):\n",
        "    def __init__(self):\n",
        "        super(QuantModel, self).__init__()\n",
        "        self.qconv = QuantConv()\n",
        "        self.fc1 = nn.Linear(4 * 7 * 7, 2)\n",
        "        self.double()\n",
        "\n",
        "    def forward(self, x):\n",
        "        # Propagate the input through the CNN layers\n",
        "        x = self.qconv(x)\n",
        "        # Flatten the output from the convolutional layer\n",
        "        x = torch.flatten(x, start_dim=1)\n",
        "        x = F.relu(self.fc1(x))\n",
        "        return x\n",
        "\n",
        "def get_num_correct(pred, label):\n",
        "    return pred.argmax(dim=1).eq(label).sum().item()"
      ],
      "metadata": {
        "id": "TBy_5W0CA9Zk"
      },
      "execution_count": null,
      "outputs": []
    },
    {
      "cell_type": "code",
      "source": [
        "#train_loader = DataLoader(train_dataset, batch_size=200, shuffle=True)\n",
        "#optimizer = optim.Adam(QuantConv.parameters(), lr=5e-4, weight_decay = 1e-3)\n",
        "\n",
        "#print(len(train_dataset))\n",
        "#print(len(train_loader))\n",
        "\n",
        "# Create an instance of the QuantModel\n",
        "model = QuantModel()\n",
        "\n",
        "# Pass the model's parameters to the optimizer\n",
        "train_loader = DataLoader(train_dataset, batch_size=200, shuffle=True)\n",
        "optimizer = optim.Adam(model.parameters(), lr=5e-4, weight_decay=1e-3)\n",
        "\n",
        "print(len(train_dataset))\n",
        "print(len(train_loader))"
      ],
      "metadata": {
        "colab": {
          "base_uri": "https://localhost:8080/"
        },
        "id": "Mfw_QTdcBBSD",
        "outputId": "5c0f2217-ea6e-40b4-dab6-b9d68e1dec15"
      },
      "execution_count": null,
      "outputs": [
        {
          "output_type": "stream",
          "name": "stdout",
          "text": [
            "5370\n",
            "27\n"
          ]
        }
      ]
    },
    {
      "cell_type": "code",
      "source": [
        "model.to(device)"
      ],
      "metadata": {
        "colab": {
          "base_uri": "https://localhost:8080/"
        },
        "id": "U8fuqV4mBFpf",
        "outputId": "41f04f31-770c-491e-e003-df7b9a71742f"
      },
      "execution_count": null,
      "outputs": [
        {
          "output_type": "execute_result",
          "data": {
            "text/plain": [
              "QuantModel(\n",
              "  (qconv): QuantConv()\n",
              "  (fc1): Linear(in_features=196, out_features=2, bias=True)\n",
              ")"
            ]
          },
          "metadata": {},
          "execution_count": 27
        }
      ]
    },
    {
      "cell_type": "code",
      "source": [
        "%%time\n",
        "# tic()\n",
        "epoch = 0\n",
        "acc = 0\n",
        "\n",
        "\n",
        "model = QuantModel()\n",
        "model.to(device)\n",
        "\n",
        "\n",
        "while epoch<10 and acc<90:\n",
        "# for epoch in range(20): #\n",
        "    total_loss = 0\n",
        "    total_correct =0\n",
        "    i=1\n",
        "    total_length = 0\n",
        "    for batch in train_loader:\n",
        "        image, label_original = batch\n",
        "        label = [true_label_map_dict[lab.item()] for lab in label_original]\n",
        "        label = torch.tensor(label)\n",
        "        # if i<10:\n",
        "\n",
        "\n",
        "        pred = model(image.to(device))\n",
        "        loss = F.cross_entropy(pred, label.to(device))\n",
        "#         loss = F.mse_loss(pred, label.to(device))\n",
        "\n",
        "        optimizer.zero_grad()\n",
        "        loss.backward()\n",
        "        optimizer.step()\n",
        "\n",
        "        total_loss += loss.item()\n",
        "        total_correct += get_num_correct(pred,label.to(device))\n",
        "        total_length += len(label)\n",
        "        acc = 100*total_correct/total_length\n",
        "        print('Batch No.', i,'/',len(train_loader), ' Batch Accuracy :',  acc)\n",
        "        i=i+1\n",
        "\n",
        "    acc = total_correct*100/len(train_dataset)\n",
        "    #-------------------------------------------------\n",
        "    print('epoch: ', epoch+1, ', Total_correct: ', total_correct,', Loss: : ', total_loss, ' Accuracy: ', total_correct*100/len(train_dataset))\n",
        "    epoch+=1\n",
        "# print(toc())\n",
        "# torch.set_grad_enabled(False)"
      ],
      "metadata": {
        "colab": {
          "base_uri": "https://localhost:8080/",
          "height": 512
        },
        "id": "9r9iLap-BMac",
        "outputId": "72013caa-3a60-4925-a442-7c6ba77100f2"
      },
      "execution_count": null,
      "outputs": [
        {
          "output_type": "stream",
          "name": "stdout",
          "text": [
            "Batch No. 1 / 27  Batch Accuracy : 30.5\n",
            "Batch No. 2 / 27  Batch Accuracy : 28.25\n",
            "Batch No. 3 / 27  Batch Accuracy : 29.333333333333332\n",
            "Batch No. 4 / 27  Batch Accuracy : 30.0\n",
            "Batch No. 5 / 27  Batch Accuracy : 30.2\n",
            "Batch No. 6 / 27  Batch Accuracy : 30.416666666666668\n",
            "Batch No. 7 / 27  Batch Accuracy : 30.785714285714285\n"
          ]
        },
        {
          "output_type": "error",
          "ename": "KeyboardInterrupt",
          "evalue": "",
          "traceback": [
            "\u001b[0;31m---------------------------------------------------------------------------\u001b[0m",
            "\u001b[0;31mKeyboardInterrupt\u001b[0m                         Traceback (most recent call last)",
            "\u001b[0;32m<timed exec>\u001b[0m in \u001b[0;36m<module>\u001b[0;34m\u001b[0m\n",
            "\u001b[0;32m/usr/local/lib/python3.10/dist-packages/torch/utils/data/dataloader.py\u001b[0m in \u001b[0;36m__next__\u001b[0;34m(self)\u001b[0m\n\u001b[1;32m    629\u001b[0m                 \u001b[0;31m# TODO(https://github.com/pytorch/pytorch/issues/76750)\u001b[0m\u001b[0;34m\u001b[0m\u001b[0;34m\u001b[0m\u001b[0m\n\u001b[1;32m    630\u001b[0m                 \u001b[0mself\u001b[0m\u001b[0;34m.\u001b[0m\u001b[0m_reset\u001b[0m\u001b[0;34m(\u001b[0m\u001b[0;34m)\u001b[0m  \u001b[0;31m# type: ignore[call-arg]\u001b[0m\u001b[0;34m\u001b[0m\u001b[0;34m\u001b[0m\u001b[0m\n\u001b[0;32m--> 631\u001b[0;31m             \u001b[0mdata\u001b[0m \u001b[0;34m=\u001b[0m \u001b[0mself\u001b[0m\u001b[0;34m.\u001b[0m\u001b[0m_next_data\u001b[0m\u001b[0;34m(\u001b[0m\u001b[0;34m)\u001b[0m\u001b[0;34m\u001b[0m\u001b[0;34m\u001b[0m\u001b[0m\n\u001b[0m\u001b[1;32m    632\u001b[0m             \u001b[0mself\u001b[0m\u001b[0;34m.\u001b[0m\u001b[0m_num_yielded\u001b[0m \u001b[0;34m+=\u001b[0m \u001b[0;36m1\u001b[0m\u001b[0;34m\u001b[0m\u001b[0;34m\u001b[0m\u001b[0m\n\u001b[1;32m    633\u001b[0m             \u001b[0;32mif\u001b[0m \u001b[0mself\u001b[0m\u001b[0;34m.\u001b[0m\u001b[0m_dataset_kind\u001b[0m \u001b[0;34m==\u001b[0m \u001b[0m_DatasetKind\u001b[0m\u001b[0;34m.\u001b[0m\u001b[0mIterable\u001b[0m \u001b[0;32mand\u001b[0m\u001b[0;31m \u001b[0m\u001b[0;31m\\\u001b[0m\u001b[0;34m\u001b[0m\u001b[0;34m\u001b[0m\u001b[0m\n",
            "\u001b[0;32m/usr/local/lib/python3.10/dist-packages/torch/utils/data/dataloader.py\u001b[0m in \u001b[0;36m_next_data\u001b[0;34m(self)\u001b[0m\n\u001b[1;32m    673\u001b[0m     \u001b[0;32mdef\u001b[0m \u001b[0m_next_data\u001b[0m\u001b[0;34m(\u001b[0m\u001b[0mself\u001b[0m\u001b[0;34m)\u001b[0m\u001b[0;34m:\u001b[0m\u001b[0;34m\u001b[0m\u001b[0;34m\u001b[0m\u001b[0m\n\u001b[1;32m    674\u001b[0m         \u001b[0mindex\u001b[0m \u001b[0;34m=\u001b[0m \u001b[0mself\u001b[0m\u001b[0;34m.\u001b[0m\u001b[0m_next_index\u001b[0m\u001b[0;34m(\u001b[0m\u001b[0;34m)\u001b[0m  \u001b[0;31m# may raise StopIteration\u001b[0m\u001b[0;34m\u001b[0m\u001b[0;34m\u001b[0m\u001b[0m\n\u001b[0;32m--> 675\u001b[0;31m         \u001b[0mdata\u001b[0m \u001b[0;34m=\u001b[0m \u001b[0mself\u001b[0m\u001b[0;34m.\u001b[0m\u001b[0m_dataset_fetcher\u001b[0m\u001b[0;34m.\u001b[0m\u001b[0mfetch\u001b[0m\u001b[0;34m(\u001b[0m\u001b[0mindex\u001b[0m\u001b[0;34m)\u001b[0m  \u001b[0;31m# may raise StopIteration\u001b[0m\u001b[0;34m\u001b[0m\u001b[0;34m\u001b[0m\u001b[0m\n\u001b[0m\u001b[1;32m    676\u001b[0m         \u001b[0;32mif\u001b[0m \u001b[0mself\u001b[0m\u001b[0;34m.\u001b[0m\u001b[0m_pin_memory\u001b[0m\u001b[0;34m:\u001b[0m\u001b[0;34m\u001b[0m\u001b[0;34m\u001b[0m\u001b[0m\n\u001b[1;32m    677\u001b[0m             \u001b[0mdata\u001b[0m \u001b[0;34m=\u001b[0m \u001b[0m_utils\u001b[0m\u001b[0;34m.\u001b[0m\u001b[0mpin_memory\u001b[0m\u001b[0;34m.\u001b[0m\u001b[0mpin_memory\u001b[0m\u001b[0;34m(\u001b[0m\u001b[0mdata\u001b[0m\u001b[0;34m,\u001b[0m \u001b[0mself\u001b[0m\u001b[0;34m.\u001b[0m\u001b[0m_pin_memory_device\u001b[0m\u001b[0;34m)\u001b[0m\u001b[0;34m\u001b[0m\u001b[0;34m\u001b[0m\u001b[0m\n",
            "\u001b[0;32m/usr/local/lib/python3.10/dist-packages/torch/utils/data/_utils/fetch.py\u001b[0m in \u001b[0;36mfetch\u001b[0;34m(self, possibly_batched_index)\u001b[0m\n\u001b[1;32m     49\u001b[0m                 \u001b[0mdata\u001b[0m \u001b[0;34m=\u001b[0m \u001b[0mself\u001b[0m\u001b[0;34m.\u001b[0m\u001b[0mdataset\u001b[0m\u001b[0;34m.\u001b[0m\u001b[0m__getitems__\u001b[0m\u001b[0;34m(\u001b[0m\u001b[0mpossibly_batched_index\u001b[0m\u001b[0;34m)\u001b[0m\u001b[0;34m\u001b[0m\u001b[0;34m\u001b[0m\u001b[0m\n\u001b[1;32m     50\u001b[0m             \u001b[0;32melse\u001b[0m\u001b[0;34m:\u001b[0m\u001b[0;34m\u001b[0m\u001b[0;34m\u001b[0m\u001b[0m\n\u001b[0;32m---> 51\u001b[0;31m                 \u001b[0mdata\u001b[0m \u001b[0;34m=\u001b[0m \u001b[0;34m[\u001b[0m\u001b[0mself\u001b[0m\u001b[0;34m.\u001b[0m\u001b[0mdataset\u001b[0m\u001b[0;34m[\u001b[0m\u001b[0midx\u001b[0m\u001b[0;34m]\u001b[0m \u001b[0;32mfor\u001b[0m \u001b[0midx\u001b[0m \u001b[0;32min\u001b[0m \u001b[0mpossibly_batched_index\u001b[0m\u001b[0;34m]\u001b[0m\u001b[0;34m\u001b[0m\u001b[0;34m\u001b[0m\u001b[0m\n\u001b[0m\u001b[1;32m     52\u001b[0m         \u001b[0;32melse\u001b[0m\u001b[0;34m:\u001b[0m\u001b[0;34m\u001b[0m\u001b[0;34m\u001b[0m\u001b[0m\n\u001b[1;32m     53\u001b[0m             \u001b[0mdata\u001b[0m \u001b[0;34m=\u001b[0m \u001b[0mself\u001b[0m\u001b[0;34m.\u001b[0m\u001b[0mdataset\u001b[0m\u001b[0;34m[\u001b[0m\u001b[0mpossibly_batched_index\u001b[0m\u001b[0;34m]\u001b[0m\u001b[0;34m\u001b[0m\u001b[0;34m\u001b[0m\u001b[0m\n",
            "\u001b[0;32m/usr/local/lib/python3.10/dist-packages/torch/utils/data/_utils/fetch.py\u001b[0m in \u001b[0;36m<listcomp>\u001b[0;34m(.0)\u001b[0m\n\u001b[1;32m     49\u001b[0m                 \u001b[0mdata\u001b[0m \u001b[0;34m=\u001b[0m \u001b[0mself\u001b[0m\u001b[0;34m.\u001b[0m\u001b[0mdataset\u001b[0m\u001b[0;34m.\u001b[0m\u001b[0m__getitems__\u001b[0m\u001b[0;34m(\u001b[0m\u001b[0mpossibly_batched_index\u001b[0m\u001b[0;34m)\u001b[0m\u001b[0;34m\u001b[0m\u001b[0;34m\u001b[0m\u001b[0m\n\u001b[1;32m     50\u001b[0m             \u001b[0;32melse\u001b[0m\u001b[0;34m:\u001b[0m\u001b[0;34m\u001b[0m\u001b[0;34m\u001b[0m\u001b[0m\n\u001b[0;32m---> 51\u001b[0;31m                 \u001b[0mdata\u001b[0m \u001b[0;34m=\u001b[0m \u001b[0;34m[\u001b[0m\u001b[0mself\u001b[0m\u001b[0;34m.\u001b[0m\u001b[0mdataset\u001b[0m\u001b[0;34m[\u001b[0m\u001b[0midx\u001b[0m\u001b[0;34m]\u001b[0m \u001b[0;32mfor\u001b[0m \u001b[0midx\u001b[0m \u001b[0;32min\u001b[0m \u001b[0mpossibly_batched_index\u001b[0m\u001b[0;34m]\u001b[0m\u001b[0;34m\u001b[0m\u001b[0;34m\u001b[0m\u001b[0m\n\u001b[0m\u001b[1;32m     52\u001b[0m         \u001b[0;32melse\u001b[0m\u001b[0;34m:\u001b[0m\u001b[0;34m\u001b[0m\u001b[0;34m\u001b[0m\u001b[0m\n\u001b[1;32m     53\u001b[0m             \u001b[0mdata\u001b[0m \u001b[0;34m=\u001b[0m \u001b[0mself\u001b[0m\u001b[0;34m.\u001b[0m\u001b[0mdataset\u001b[0m\u001b[0;34m[\u001b[0m\u001b[0mpossibly_batched_index\u001b[0m\u001b[0;34m]\u001b[0m\u001b[0;34m\u001b[0m\u001b[0;34m\u001b[0m\u001b[0m\n",
            "\u001b[0;32m/usr/local/lib/python3.10/dist-packages/torchvision/datasets/folder.py\u001b[0m in \u001b[0;36m__getitem__\u001b[0;34m(self, index)\u001b[0m\n\u001b[1;32m    243\u001b[0m         \"\"\"\n\u001b[1;32m    244\u001b[0m         \u001b[0mpath\u001b[0m\u001b[0;34m,\u001b[0m \u001b[0mtarget\u001b[0m \u001b[0;34m=\u001b[0m \u001b[0mself\u001b[0m\u001b[0;34m.\u001b[0m\u001b[0msamples\u001b[0m\u001b[0;34m[\u001b[0m\u001b[0mindex\u001b[0m\u001b[0;34m]\u001b[0m\u001b[0;34m\u001b[0m\u001b[0;34m\u001b[0m\u001b[0m\n\u001b[0;32m--> 245\u001b[0;31m         \u001b[0msample\u001b[0m \u001b[0;34m=\u001b[0m \u001b[0mself\u001b[0m\u001b[0;34m.\u001b[0m\u001b[0mloader\u001b[0m\u001b[0;34m(\u001b[0m\u001b[0mpath\u001b[0m\u001b[0;34m)\u001b[0m\u001b[0;34m\u001b[0m\u001b[0;34m\u001b[0m\u001b[0m\n\u001b[0m\u001b[1;32m    246\u001b[0m         \u001b[0;32mif\u001b[0m \u001b[0mself\u001b[0m\u001b[0;34m.\u001b[0m\u001b[0mtransform\u001b[0m \u001b[0;32mis\u001b[0m \u001b[0;32mnot\u001b[0m \u001b[0;32mNone\u001b[0m\u001b[0;34m:\u001b[0m\u001b[0;34m\u001b[0m\u001b[0;34m\u001b[0m\u001b[0m\n\u001b[1;32m    247\u001b[0m             \u001b[0msample\u001b[0m \u001b[0;34m=\u001b[0m \u001b[0mself\u001b[0m\u001b[0;34m.\u001b[0m\u001b[0mtransform\u001b[0m\u001b[0;34m(\u001b[0m\u001b[0msample\u001b[0m\u001b[0;34m)\u001b[0m\u001b[0;34m\u001b[0m\u001b[0;34m\u001b[0m\u001b[0m\n",
            "\u001b[0;32m/usr/local/lib/python3.10/dist-packages/torchvision/datasets/folder.py\u001b[0m in \u001b[0;36mdefault_loader\u001b[0;34m(path)\u001b[0m\n\u001b[1;32m    282\u001b[0m         \u001b[0;32mreturn\u001b[0m \u001b[0maccimage_loader\u001b[0m\u001b[0;34m(\u001b[0m\u001b[0mpath\u001b[0m\u001b[0;34m)\u001b[0m\u001b[0;34m\u001b[0m\u001b[0;34m\u001b[0m\u001b[0m\n\u001b[1;32m    283\u001b[0m     \u001b[0;32melse\u001b[0m\u001b[0;34m:\u001b[0m\u001b[0;34m\u001b[0m\u001b[0;34m\u001b[0m\u001b[0m\n\u001b[0;32m--> 284\u001b[0;31m         \u001b[0;32mreturn\u001b[0m \u001b[0mpil_loader\u001b[0m\u001b[0;34m(\u001b[0m\u001b[0mpath\u001b[0m\u001b[0;34m)\u001b[0m\u001b[0;34m\u001b[0m\u001b[0;34m\u001b[0m\u001b[0m\n\u001b[0m\u001b[1;32m    285\u001b[0m \u001b[0;34m\u001b[0m\u001b[0m\n\u001b[1;32m    286\u001b[0m \u001b[0;34m\u001b[0m\u001b[0m\n",
            "\u001b[0;32m/usr/local/lib/python3.10/dist-packages/torchvision/datasets/folder.py\u001b[0m in \u001b[0;36mpil_loader\u001b[0;34m(path)\u001b[0m\n\u001b[1;32m    261\u001b[0m     \u001b[0;31m# open path as file to avoid ResourceWarning (https://github.com/python-pillow/Pillow/issues/835)\u001b[0m\u001b[0;34m\u001b[0m\u001b[0;34m\u001b[0m\u001b[0m\n\u001b[1;32m    262\u001b[0m     \u001b[0;32mwith\u001b[0m \u001b[0mopen\u001b[0m\u001b[0;34m(\u001b[0m\u001b[0mpath\u001b[0m\u001b[0;34m,\u001b[0m \u001b[0;34m\"rb\"\u001b[0m\u001b[0;34m)\u001b[0m \u001b[0;32mas\u001b[0m \u001b[0mf\u001b[0m\u001b[0;34m:\u001b[0m\u001b[0;34m\u001b[0m\u001b[0;34m\u001b[0m\u001b[0m\n\u001b[0;32m--> 263\u001b[0;31m         \u001b[0mimg\u001b[0m \u001b[0;34m=\u001b[0m \u001b[0mImage\u001b[0m\u001b[0;34m.\u001b[0m\u001b[0mopen\u001b[0m\u001b[0;34m(\u001b[0m\u001b[0mf\u001b[0m\u001b[0;34m)\u001b[0m\u001b[0;34m\u001b[0m\u001b[0;34m\u001b[0m\u001b[0m\n\u001b[0m\u001b[1;32m    264\u001b[0m         \u001b[0;32mreturn\u001b[0m \u001b[0mimg\u001b[0m\u001b[0;34m.\u001b[0m\u001b[0mconvert\u001b[0m\u001b[0;34m(\u001b[0m\u001b[0;34m\"RGB\"\u001b[0m\u001b[0;34m)\u001b[0m\u001b[0;34m\u001b[0m\u001b[0;34m\u001b[0m\u001b[0m\n\u001b[1;32m    265\u001b[0m \u001b[0;34m\u001b[0m\u001b[0m\n",
            "\u001b[0;32m/usr/local/lib/python3.10/dist-packages/PIL/Image.py\u001b[0m in \u001b[0;36mopen\u001b[0;34m(fp, mode, formats)\u001b[0m\n\u001b[1;32m   3234\u001b[0m         \u001b[0mexclusive_fp\u001b[0m \u001b[0;34m=\u001b[0m \u001b[0;32mTrue\u001b[0m\u001b[0;34m\u001b[0m\u001b[0;34m\u001b[0m\u001b[0m\n\u001b[1;32m   3235\u001b[0m \u001b[0;34m\u001b[0m\u001b[0m\n\u001b[0;32m-> 3236\u001b[0;31m     \u001b[0mprefix\u001b[0m \u001b[0;34m=\u001b[0m \u001b[0mfp\u001b[0m\u001b[0;34m.\u001b[0m\u001b[0mread\u001b[0m\u001b[0;34m(\u001b[0m\u001b[0;36m16\u001b[0m\u001b[0;34m)\u001b[0m\u001b[0;34m\u001b[0m\u001b[0;34m\u001b[0m\u001b[0m\n\u001b[0m\u001b[1;32m   3237\u001b[0m \u001b[0;34m\u001b[0m\u001b[0m\n\u001b[1;32m   3238\u001b[0m     \u001b[0mpreinit\u001b[0m\u001b[0;34m(\u001b[0m\u001b[0;34m)\u001b[0m\u001b[0;34m\u001b[0m\u001b[0;34m\u001b[0m\u001b[0m\n",
            "\u001b[0;31mKeyboardInterrupt\u001b[0m: "
          ]
        }
      ]
    },
    {
      "cell_type": "code",
      "source": [
        "PATH_model = \"/content/drive/My Drive/modelv5.pt\"\n",
        "torch.save(model.state_dict(), PATH_model)"
      ],
      "metadata": {
        "id": "2yvnQakQBQWW"
      },
      "execution_count": null,
      "outputs": []
    },
    {
      "cell_type": "code",
      "source": [
        "#test the model\n",
        "\n",
        "test_data_dir = '/content/drive/MyDrive/alweld/test'\n",
        "\n",
        "transform_test = transforms.Compose([\n",
        "     transforms.CenterCrop((800,800)),\n",
        "     transforms.ToTensor(),\n",
        "     ])\n",
        "\n",
        "test_dataset = datasets.ImageFolder(root =test_data_dir,transform = transform_test)\n",
        "test_dataset"
      ],
      "metadata": {
        "colab": {
          "base_uri": "https://localhost:8080/"
        },
        "id": "cty3aeaaDrQ6",
        "outputId": "f968bac4-9b46-48bb-d9ba-bb8b425e7aee"
      },
      "execution_count": null,
      "outputs": [
        {
          "output_type": "execute_result",
          "data": {
            "text/plain": [
              "Dataset ImageFolder\n",
              "    Number of datapoints: 6386\n",
              "    Root location: /content/drive/MyDrive/alweld/test\n",
              "    StandardTransform\n",
              "Transform: Compose(\n",
              "               CenterCrop(size=(800, 800))\n",
              "               ToTensor()\n",
              "           )"
            ]
          },
          "metadata": {},
          "execution_count": 31
        }
      ]
    },
    {
      "cell_type": "code",
      "source": [
        "import json\n",
        "# Opening JSON file\n",
        "f = open('/content/drive/MyDrive/alweld/test/test.json',)\n",
        "\n",
        "label_test = json.load(f)"
      ],
      "metadata": {
        "id": "fR3mACHPD0Yk"
      },
      "execution_count": null,
      "outputs": []
    },
    {
      "cell_type": "code",
      "source": [
        "keys_orig = list(label_test.keys())\n",
        "values = list(label_test.values())\n",
        "keys = []\n",
        "for key in keys_orig:\n",
        "  a_string = key\n",
        "  a_string = a_string.replace(\"/\", \" \")\n",
        "  x = a_string.split()\n",
        "  string = x[0]+' '+x[1]\n",
        "  keys.append(string)\n",
        "true_test_labels_dict = {keys[i]: values[i] for i in range(len(keys))}\n",
        "true_test_labels_dict"
      ],
      "metadata": {
        "colab": {
          "base_uri": "https://localhost:8080/"
        },
        "id": "NwS_c_RMEULk",
        "outputId": "39ca2601-9926-4714-fe5b-302a09f3b702"
      },
      "execution_count": null,
      "outputs": [
        {
          "output_type": "execute_result",
          "data": {
            "text/plain": [
              "{'170906-143512-Al 2mm-part2': 1,\n",
              " '170904-155610-Al 2mm': 2,\n",
              " '170906-143512-Al 2mm-part1': 2,\n",
              " '170904-154202-Al 2mm-part1': 2,\n",
              " '170904-150144-Al 2mm-part2': 4,\n",
              " '170906-155007-Al 2mm-part2': 4,\n",
              " '170913-154448-Al 2mm': 0,\n",
              " '170906-113317-Al 2mm-part1': 0,\n",
              " '170905-112213-Al 2mm': 0,\n",
              " '170906-104925-Al 2mm': 0,\n",
              " '170904-152301-Al 2mm-part2': 5,\n",
              " '170906-153326-Al 2mm-part3': 3,\n",
              " '170906-151724-Al 2mm-part1': 3,\n",
              " '170906-155007-Al 2mm-part1': 3}"
            ]
          },
          "metadata": {},
          "execution_count": 34
        }
      ]
    },
    {
      "cell_type": "code",
      "source": [
        "true_labels_dict3 = {}\n",
        "for key,value in true_test_labels_dict.items():\n",
        "  if value ==0:\n",
        "    val = 0\n",
        "  else:\n",
        "    val = 1\n",
        "  dict2 = {key:val}\n",
        "  true_labels_dict3.update(dict2)\n",
        "true_labels_dict3"
      ],
      "metadata": {
        "colab": {
          "base_uri": "https://localhost:8080/"
        },
        "id": "af_ujl5AD4Sp",
        "outputId": "bbb64754-2d40-4dc5-9e8b-787a80b669b2"
      },
      "execution_count": null,
      "outputs": [
        {
          "output_type": "execute_result",
          "data": {
            "text/plain": [
              "{'170906-143512-Al 2mm-part2': 1,\n",
              " '170904-155610-Al 2mm': 1,\n",
              " '170906-143512-Al 2mm-part1': 1,\n",
              " '170904-154202-Al 2mm-part1': 1,\n",
              " '170904-150144-Al 2mm-part2': 1,\n",
              " '170906-155007-Al 2mm-part2': 1,\n",
              " '170913-154448-Al 2mm': 0,\n",
              " '170906-113317-Al 2mm-part1': 0,\n",
              " '170905-112213-Al 2mm': 0,\n",
              " '170906-104925-Al 2mm': 0,\n",
              " '170904-152301-Al 2mm-part2': 1,\n",
              " '170906-153326-Al 2mm-part3': 1,\n",
              " '170906-151724-Al 2mm-part1': 1,\n",
              " '170906-155007-Al 2mm-part1': 1}"
            ]
          },
          "metadata": {},
          "execution_count": 35
        }
      ]
    },
    {
      "cell_type": "code",
      "source": [
        "original_test_labels_dict = test_dataset.class_to_idx\n",
        "original_test_labels_dict"
      ],
      "metadata": {
        "colab": {
          "base_uri": "https://localhost:8080/"
        },
        "id": "xjEKjGO7EOTB",
        "outputId": "280b2b28-9e23-4300-d6bd-31fac458e373"
      },
      "execution_count": null,
      "outputs": [
        {
          "output_type": "execute_result",
          "data": {
            "text/plain": [
              "{'170904-150144-Al 2mm-part2': 0,\n",
              " '170904-152301-Al 2mm-part2': 1,\n",
              " '170904-154202-Al 2mm-part1': 2,\n",
              " '170904-155610-Al 2mm': 3,\n",
              " '170905-112213-Al 2mm': 4,\n",
              " '170906-104925-Al 2mm': 5,\n",
              " '170906-113317-Al 2mm-part1': 6,\n",
              " '170906-143512-Al 2mm-part1': 7,\n",
              " '170906-143512-Al 2mm-part2': 8,\n",
              " '170906-151724-Al 2mm-part1': 9,\n",
              " '170906-153326-Al 2mm-part3': 10,\n",
              " '170906-155007-Al 2mm-part1': 11,\n",
              " '170906-155007-Al 2mm-part2': 12,\n",
              " '170913-154448-Al 2mm': 13}"
            ]
          },
          "metadata": {},
          "execution_count": 36
        }
      ]
    },
    {
      "cell_type": "code",
      "source": [
        "test_label_map_dict = {}\n",
        "\n",
        "for key,value in original_test_labels_dict.items():\n",
        "  test_label_map_dict.update({value:true_labels_dict3[key]})\n",
        "test_label_map_dict"
      ],
      "metadata": {
        "colab": {
          "base_uri": "https://localhost:8080/"
        },
        "id": "avvHBNlsEbwQ",
        "outputId": "55dfe55c-2bc2-49fe-c06f-4d67d8f1db9d"
      },
      "execution_count": null,
      "outputs": [
        {
          "output_type": "execute_result",
          "data": {
            "text/plain": [
              "{0: 1,\n",
              " 1: 1,\n",
              " 2: 1,\n",
              " 3: 1,\n",
              " 4: 0,\n",
              " 5: 0,\n",
              " 6: 0,\n",
              " 7: 1,\n",
              " 8: 1,\n",
              " 9: 1,\n",
              " 10: 1,\n",
              " 11: 1,\n",
              " 12: 1,\n",
              " 13: 0}"
            ]
          },
          "metadata": {},
          "execution_count": 37
        }
      ]
    },
    {
      "cell_type": "code",
      "source": [
        "torch.cuda.empty_cache()\n",
        "\n",
        "torch.set_grad_enabled(False)"
      ],
      "metadata": {
        "colab": {
          "base_uri": "https://localhost:8080/"
        },
        "id": "qFx_8AbtEfXG",
        "outputId": "a8e7dea5-31ec-44ba-a086-7bae68a34c11"
      },
      "execution_count": null,
      "outputs": [
        {
          "output_type": "execute_result",
          "data": {
            "text/plain": [
              "<torch.autograd.grad_mode.set_grad_enabled at 0x7d24d7732170>"
            ]
          },
          "metadata": {},
          "execution_count": 38
        }
      ]
    },
    {
      "cell_type": "code",
      "source": [
        "total_correct=0\n",
        "correct_predictions = []\n",
        "i=0\n",
        "total = 0\n",
        "test_loader = DataLoader(test_dataset, batch_size=200)\n",
        "for batch in test_loader:\n",
        "  image, label_original = batch\n",
        "  label = [test_label_map_dict[lab.item()] for lab in label_original]\n",
        "  label = torch.tensor(label)\n",
        "\n",
        "\n",
        "\n",
        "  pred = model(image.to(device))\n",
        "\n",
        "  total_correct += get_num_correct(pred,label.to(device))\n",
        "  correct_predictions.append(total_correct)\n",
        "\n",
        "  total += len(label)\n",
        "  acc = 100*total_correct/(total)\n",
        "  print('Batch No: ',i+1,', Test Batch Accuracy : ', acc)\n",
        "  i=i+1\n",
        "print(total_correct/len(test_dataset))"
      ],
      "metadata": {
        "colab": {
          "base_uri": "https://localhost:8080/"
        },
        "id": "dLzgP7giEi_t",
        "outputId": "64215b07-5a02-46ac-c3ef-132ec42a21ef"
      },
      "execution_count": null,
      "outputs": [
        {
          "output_type": "stream",
          "name": "stdout",
          "text": [
            "Batch No:  1 , Test Batch Accuracy :  100.0\n",
            "Batch No:  2 , Test Batch Accuracy :  100.0\n",
            "Batch No:  3 , Test Batch Accuracy :  100.0\n",
            "Batch No:  4 , Test Batch Accuracy :  100.0\n",
            "Batch No:  5 , Test Batch Accuracy :  100.0\n",
            "Batch No:  6 , Test Batch Accuracy :  100.0\n",
            "Batch No:  7 , Test Batch Accuracy :  96.5\n",
            "Batch No:  8 , Test Batch Accuracy :  84.4375\n",
            "Batch No:  9 , Test Batch Accuracy :  75.05555555555556\n",
            "Batch No:  10 , Test Batch Accuracy :  67.55\n",
            "Batch No:  11 , Test Batch Accuracy :  61.40909090909091\n",
            "Batch No:  12 , Test Batch Accuracy :  56.291666666666664\n",
            "Batch No:  13 , Test Batch Accuracy :  51.96153846153846\n",
            "Batch No:  14 , Test Batch Accuracy :  48.25\n",
            "Batch No:  15 , Test Batch Accuracy :  45.03333333333333\n",
            "Batch No:  16 , Test Batch Accuracy :  44.9375\n",
            "Batch No:  17 , Test Batch Accuracy :  48.1764705882353\n",
            "Batch No:  18 , Test Batch Accuracy :  51.05555555555556\n",
            "Batch No:  19 , Test Batch Accuracy :  53.63157894736842\n",
            "Batch No:  20 , Test Batch Accuracy :  55.95\n",
            "Batch No:  21 , Test Batch Accuracy :  58.04761904761905\n",
            "Batch No:  22 , Test Batch Accuracy :  59.95454545454545\n",
            "Batch No:  23 , Test Batch Accuracy :  61.69565217391305\n",
            "Batch No:  24 , Test Batch Accuracy :  63.291666666666664\n",
            "Batch No:  25 , Test Batch Accuracy :  64.76\n",
            "Batch No:  26 , Test Batch Accuracy :  66.11538461538461\n",
            "Batch No:  27 , Test Batch Accuracy :  67.37037037037037\n",
            "Batch No:  28 , Test Batch Accuracy :  68.53571428571429\n",
            "Batch No:  29 , Test Batch Accuracy :  69.62068965517241\n",
            "Batch No:  30 , Test Batch Accuracy :  69.95\n",
            "Batch No:  31 , Test Batch Accuracy :  67.69354838709677\n",
            "Batch No:  32 , Test Batch Accuracy :  65.72189163795804\n",
            "0.6572189163795803\n"
          ]
        }
      ]
    },
    {
      "cell_type": "code",
      "source": [],
      "metadata": {
        "id": "mnn4B2B5EmNy"
      },
      "execution_count": null,
      "outputs": []
    }
  ]
}