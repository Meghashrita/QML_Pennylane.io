{
  "cells": [
    {
      "cell_type": "code",
      "execution_count": null,
      "metadata": {
        "colab": {
          "base_uri": "https://localhost:8080/"
        },
        "id": "nN2nOJqe9UfZ",
        "outputId": "f20eba0d-78ad-4c33-a832-c44ac7f6767b"
      },
      "outputs": [
        {
          "output_type": "stream",
          "name": "stdout",
          "text": [
            "Mounted at /content/drive\n"
          ]
        }
      ],
      "source": [
        "from google.colab import drive\n",
        "drive.mount('/content/drive')"
      ]
    },
    {
      "cell_type": "code",
      "execution_count": null,
      "metadata": {
        "id": "Qfd_FKJA9kiX"
      },
      "outputs": [],
      "source": [
        "import json\n",
        "# Opening JSON file\n",
        "f = open('/content/drive/MyDrive/al5083/al5083/train/train.json',)\n",
        "\n",
        "label_train = json.load(f)"
      ]
    },
    {
      "cell_type": "code",
      "execution_count": null,
      "metadata": {
        "colab": {
          "base_uri": "https://localhost:8080/"
        },
        "id": "SJ1Qt4av9ku-",
        "outputId": "83e0eac9-26c5-49b8-d7ac-e5fdc6820c46"
      },
      "outputs": [
        {
          "output_type": "execute_result",
          "data": {
            "text/plain": [
              "{'170906-113317-Al 2mm-part3': 1,\n",
              " '170906-144958-Al 2mm': 1,\n",
              " '170904-141730-Al 2mm-part2': 2,\n",
              " '170904-151845-Al 2mm-part2': 2,\n",
              " '170906-153326-Al 2mm-part2': 2,\n",
              " '170904-141232-Al 2mm-part2': 2,\n",
              " '170913-151508-Al 2mm-part2': 2,\n",
              " '170904-150144-Al 2mm-part1': 2,\n",
              " '170913-143933-Al 2mm-part2': 2,\n",
              " '170913-152931-Al 2mm-part2': 2,\n",
              " '170906-141809-Al 2mm-part2': 2,\n",
              " '170815-134756-Al 2mm': 2,\n",
              " '170904-115959-Al 2mm': 2,\n",
              " '170815-133921-Al 2mm': 2,\n",
              " '170904-112347-Al 2mm': 2,\n",
              " '170904-145718-Al 2mm-part2': 4,\n",
              " '170904-141730-Al 2mm-part3': 4,\n",
              " '170905-110711-Al 2mm-part2': 4,\n",
              " '170904-141232-Al 2mm-part3': 4,\n",
              " '170913-155806-Al 2mm-part2': 4,\n",
              " '170904-152301-Al 2mm-part1': 4,\n",
              " '170904-113012-Al 2mm-part2': 4,\n",
              " '170904-154202-Al 2mm-part2': 4,\n",
              " '170904-155523-Al 2mm': 4,\n",
              " '170913-140725-Al 2mm': 4,\n",
              " '170913-152931-Al 2mm-part1': 0,\n",
              " '170913-151508-Al 2mm-part1': 0,\n",
              " '170913-143933-Al 2mm-part1': 0,\n",
              " '170904-141730-Al 2mm-part1': 0,\n",
              " '170904-145718-Al 2mm-part1': 0,\n",
              " '170913-142501-Al 2mm': 0,\n",
              " '170905-114307-Al 2mm': 0,\n",
              " '170905-115602-Al 2mm': 0,\n",
              " '170913-155806-Al 2mm-part1': 0,\n",
              " '170906-114912-Al 2mm': 0,\n",
              " '170906-141809-Al 2mm-part1': 0,\n",
              " '170906-120346-Al 2mm': 0,\n",
              " '170905-110711-Al 2mm-part1': 5,\n",
              " '170904-113012-Al 2mm-part1': 5,\n",
              " '170906-153326-Al 2mm-part1': 5,\n",
              " '170904-115503-Al 2mm': 5,\n",
              " '170904-141232-Al 2mm-part1': 5,\n",
              " '170904-151845-Al 2mm-part1': 5,\n",
              " '170906-150010-Al 2mm': 3,\n",
              " '170906-151353-Al 2mm': 3,\n",
              " '170906-150801-Al 2mm': 3}"
            ]
          },
          "metadata": {},
          "execution_count": 3
        }
      ],
      "source": [
        "keys_orig = list(label_train.keys())\n",
        "values = list(label_train.values())\n",
        "keys = []\n",
        "for key in keys_orig:\n",
        "  a_string = key\n",
        "  a_string = a_string.replace(\"/\", \" \")\n",
        "  x = a_string.split()\n",
        "  string = x[0]+' '+x[1]\n",
        "  keys.append(string)\n",
        "true_labels_dict = {keys[i]: values[i] for i in range(len(keys))}\n",
        "true_labels_dict"
      ]
    },
    {
      "cell_type": "code",
      "execution_count": null,
      "metadata": {
        "id": "JWBv57Bl9kxo"
      },
      "outputs": [],
      "source": [
        "import numpy as np\n",
        "import pandas as pd\n",
        "import os\n",
        "from os import walk"
      ]
    },
    {
      "cell_type": "code",
      "execution_count": null,
      "metadata": {
        "colab": {
          "base_uri": "https://localhost:8080/"
        },
        "id": "lev2zaea930S",
        "outputId": "c277e6ed-b64b-4a87-90c1-d6864e6ae857"
      },
      "outputs": [
        {
          "output_type": "execute_result",
          "data": {
            "text/plain": [
              "array([189,  77, 135, 155, 352, 113, 125,  48,   4,  38,  26, 288,  78,\n",
              "        17,  10,  37,  29,   4, 146, 151,  38, 106,  28,  80, 123, 115,\n",
              "        71, 152, 130,  57,  97, 158, 289,  77, 790, 316,   7,  48, 336,\n",
              "        26,  47, 117,  12,  27,  45,  56])"
            ]
          },
          "metadata": {},
          "execution_count": 5
        }
      ],
      "source": [
        "location_folders = '/content/drive/My Drive/al5083/al5083/train/'\n",
        "folders = []\n",
        "for (_, dirnames, _) in walk(location_folders):\n",
        "    folders.extend(dirnames)\n",
        "    break\n",
        "\n",
        "num_files = []\n",
        "for folder in folders:\n",
        "  location_files = location_folders + folder +'/'\n",
        "  files =[]\n",
        "  for (_, _, filenames) in walk(location_files):\n",
        "    files.extend(filenames)\n",
        "    break\n",
        "\n",
        "  num_files.append(len(files))\n",
        "\n",
        "num_files = np.array(num_files)\n",
        "num_files"
      ]
    },
    {
      "cell_type": "code",
      "execution_count": null,
      "metadata": {
        "id": "4bPhqLtL932r"
      },
      "outputs": [],
      "source": [
        "label = [true_labels_dict[folder] for folder in folders]\n",
        "train_data = pd.DataFrame({'folders':folders,\n",
        "                           'number_of_files':num_files,\n",
        "                           'Labels':label })\n",
        "train_data_detail =train_data.sort_values(by=['Labels'])"
      ]
    },
    {
      "cell_type": "code",
      "execution_count": null,
      "metadata": {
        "id": "tUOAO6ij934_"
      },
      "outputs": [],
      "source": [
        "filename = 'data_detail.csv'\n",
        "train_data_detail.to_csv(filename, index=False)"
      ]
    },
    {
      "cell_type": "code",
      "execution_count": null,
      "metadata": {
        "id": "lNvfwQpI939t"
      },
      "outputs": [],
      "source": [
        "import os\n",
        "from os import walk\n",
        "\n",
        "location_folders = '/content/drive/My Drive/Dataset/al5083/al5083/train/'\n",
        "folders = []\n",
        "for (_, dirnames, _) in walk(location_folders):\n",
        "    folders.extend(dirnames)\n",
        "    break\n",
        "# folders\n",
        "for folder in folders:\n",
        "  location_files = location_folders + folder +'/'\n",
        "  files =[]\n",
        "  for (_, _, filenames) in walk(location_files):\n",
        "    files.extend(filenames)\n",
        "    break\n",
        "  # print(len(files))\n",
        "\n",
        "#   \"\"\"\n",
        "#   Now we need to reduce the skewness of the data\n",
        "#   Min is 55 and max goes to 2400\n",
        "#   \"\"\"\n",
        "  if true_labels_dict[folder] == 0:\n",
        "    for i,file in enumerate(files):\n",
        "      if (i+1)%8 == 1:\n",
        "        # print('Skipped successfully')\n",
        "        None\n",
        "      else:\n",
        "        # path = os.path.join(location_files, file)\n",
        "        path = location_files + file\n",
        "        os.remove(path)\n",
        "        print(\"%s has been removed successfully\" %file)\n",
        "  elif true_labels_dict[folder] == 1:\n",
        "    for i,file in enumerate(files):\n",
        "      if (i+1)%2 == 1:\n",
        "        None\n",
        "      else:\n",
        "        # path = os.path.join(location_files, file)\n",
        "        path = location_files + file\n",
        "        os.remove(path)\n",
        "        print(\"%s has been removed successfully\" %file)\n",
        "  elif true_labels_dict[folder] == 2:\n",
        "    for i,file in enumerate(files):\n",
        "      if (i+1)%7 == 1:\n",
        "        None\n",
        "      else:\n",
        "        # path = os.path.join(location_files, file)\n",
        "        path = location_files + file\n",
        "        os.remove(path)\n",
        "        print(\"%s has been removed successfully\" %file)\n",
        "  elif true_labels_dict[folder] == 3:\n",
        "    for i,file in enumerate(files):\n",
        "      if (i+1)%4 == 1:\n",
        "        None\n",
        "      else:\n",
        "        # path = os.path.join(location_files, file)\n",
        "        path = location_files + file\n",
        "        os.remove(path)\n",
        "        print(\"%s has been removed successfully\" %file)\n",
        "  elif true_labels_dict[folder] == 4:\n",
        "    for i,file in enumerate(files):\n",
        "      if (i+1)%3 == 1:\n",
        "        None\n",
        "      else:\n",
        "        # path = os.path.join(location_files, file)\n",
        "        path = location_files + file\n",
        "        os.remove(path)\n",
        "        print(\"%s has been removed successfully\" %file)\n",
        "  elif true_labels_dict[folder] == 5:\n",
        "    for i,file in enumerate(files):\n",
        "      if (i+1)%3 == 1:\n",
        "        None\n",
        "      else:\n",
        "        # path = os.path.join(location_files, file)\n",
        "        path = location_files + file\n",
        "        os.remove(path)\n",
        "        print(\"%s has been removed successfully\" %file)"
      ]
    },
    {
      "cell_type": "code",
      "execution_count": null,
      "metadata": {
        "id": "bHaawzfl-wM8"
      },
      "outputs": [],
      "source": [
        "if len(files) <= 150:\n",
        "    pass\n",
        "elif len(files) > 150 and len(files) <= 400:\n",
        "    for i,file in enumerate(files):\n",
        "      if (i+1)%5 == 1:\n",
        "        None\n",
        "      else:\n",
        "        # path = os.path.join(location_files, file)\n",
        "        path = location_files + file\n",
        "        os.remove(path)  # Indentation fixed here\n",
        "        print(\"%s has been removed successfully\" %file)\n",
        "\n",
        "    #elif len(files) > 400 and len(files) <= 1000:\n",
        "elif len(files) > 1000:  # Indentation fixed here\n",
        "    for i,file in enumerate(files):\n",
        "        path = os.path.join(directory, file)  # 'directory' variable needs to be defined\n",
        "        os.remove(path)\n",
        "        print(\"%s has been removed successfully\" %file)\n",
        "elif len(files) > 400:\n",
        "    for i,file in enumerate(files):\n",
        "        if (i+1)%8 == 1:\n",
        "          None\n",
        "        else:\n",
        "          # path = os.path.join(location_files, file)\n",
        "          path = location_files + file\n",
        "          os.remove(path)\n",
        "          print(\"%s has been removed successfully\" %file)\n",
        "\n",
        "    #path = os.path.join(location, file)  # This line seems unnecessary and might cause errors, consider removing it"
      ]
    },
    {
      "cell_type": "code",
      "execution_count": null,
      "metadata": {
        "colab": {
          "base_uri": "https://localhost:8080/"
        },
        "id": "o0HLYyd394BX",
        "outputId": "298bb195-4fe8-4d24-90b5-767b09831e04"
      },
      "outputs": [
        {
          "output_type": "execute_result",
          "data": {
            "text/plain": [
              "<torch.autograd.grad_mode.set_grad_enabled at 0x7a91ece414b0>"
            ]
          },
          "metadata": {},
          "execution_count": 10
        }
      ],
      "source": [
        "import numpy as np\n",
        "import pandas as pd\n",
        "import torch\n",
        "import torch.nn as nn\n",
        "from torch.nn import functional as F\n",
        "from torch.nn.parameter import Parameter\n",
        "import torch.optim as optim\n",
        "\n",
        "from torch.utils.data import Dataset, DataLoader, random_split\n",
        "from torchvision import transforms, utils, datasets\n",
        "import matplotlib.pyplot as plt\n",
        "\n",
        "\n",
        "torch.set_printoptions(linewidth=120)\n",
        "torch.set_grad_enabled(True)"
      ]
    },
    {
      "cell_type": "code",
      "execution_count": null,
      "metadata": {
        "id": "K7AdY8OW9k0f"
      },
      "outputs": [],
      "source": [
        "mean = 0.2069\n",
        "std = 0.1471\n",
        "\n",
        "data_dir = '/content/drive/My Drive/al5083/al5083/train'\n",
        "transform = transforms.Compose([\n",
        "     transforms.CenterCrop((800,800)),\n",
        "     transforms.ToTensor(),\n",
        "     transforms.Normalize(mean, std)\n",
        "     ])\n",
        "\n",
        "train_dataset = datasets.ImageFolder(root =data_dir,transform = transform)\n",
        "\n",
        "original_labels_dict = train_dataset.class_to_idx"
      ]
    },
    {
      "cell_type": "code",
      "execution_count": null,
      "metadata": {
        "colab": {
          "base_uri": "https://localhost:8080/"
        },
        "id": "JlUBoF0_9k32",
        "outputId": "46eafdf0-4d27-42a8-b64e-c9a0bab76820"
      },
      "outputs": [
        {
          "output_type": "execute_result",
          "data": {
            "text/plain": [
              "{'170906-113317-Al 2mm-part3': 1,\n",
              " '170906-144958-Al 2mm': 1,\n",
              " '170904-141730-Al 2mm-part2': 2,\n",
              " '170904-151845-Al 2mm-part2': 2,\n",
              " '170906-153326-Al 2mm-part2': 2,\n",
              " '170904-141232-Al 2mm-part2': 2,\n",
              " '170913-151508-Al 2mm-part2': 2,\n",
              " '170904-150144-Al 2mm-part1': 2,\n",
              " '170913-143933-Al 2mm-part2': 2,\n",
              " '170913-152931-Al 2mm-part2': 2,\n",
              " '170906-141809-Al 2mm-part2': 2,\n",
              " '170815-134756-Al 2mm': 2,\n",
              " '170904-115959-Al 2mm': 2,\n",
              " '170815-133921-Al 2mm': 2,\n",
              " '170904-112347-Al 2mm': 2,\n",
              " '170904-145718-Al 2mm-part2': 4,\n",
              " '170904-141730-Al 2mm-part3': 4,\n",
              " '170905-110711-Al 2mm-part2': 4,\n",
              " '170904-141232-Al 2mm-part3': 4,\n",
              " '170913-155806-Al 2mm-part2': 4,\n",
              " '170904-152301-Al 2mm-part1': 4,\n",
              " '170904-113012-Al 2mm-part2': 4,\n",
              " '170904-154202-Al 2mm-part2': 4,\n",
              " '170904-155523-Al 2mm': 4,\n",
              " '170913-140725-Al 2mm': 4,\n",
              " '170913-152931-Al 2mm-part1': 0,\n",
              " '170913-151508-Al 2mm-part1': 0,\n",
              " '170913-143933-Al 2mm-part1': 0,\n",
              " '170904-141730-Al 2mm-part1': 0,\n",
              " '170904-145718-Al 2mm-part1': 0,\n",
              " '170913-142501-Al 2mm': 0,\n",
              " '170905-114307-Al 2mm': 0,\n",
              " '170905-115602-Al 2mm': 0,\n",
              " '170913-155806-Al 2mm-part1': 0,\n",
              " '170906-114912-Al 2mm': 0,\n",
              " '170906-141809-Al 2mm-part1': 0,\n",
              " '170906-120346-Al 2mm': 0,\n",
              " '170905-110711-Al 2mm-part1': 5,\n",
              " '170904-113012-Al 2mm-part1': 5,\n",
              " '170906-153326-Al 2mm-part1': 5,\n",
              " '170904-115503-Al 2mm': 5,\n",
              " '170904-141232-Al 2mm-part1': 5,\n",
              " '170904-151845-Al 2mm-part1': 5,\n",
              " '170906-150010-Al 2mm': 3,\n",
              " '170906-151353-Al 2mm': 3,\n",
              " '170906-150801-Al 2mm': 3}"
            ]
          },
          "metadata": {},
          "execution_count": 16
        }
      ],
      "source": [
        "import json\n",
        "# Opening JSON file\n",
        "f = open('/content/drive/My Drive/al5083/al5083/train/train.json',)\n",
        "\n",
        "label_train = json.load(f)\n",
        "keys_orig = list(label_train.keys())\n",
        "values = list(label_train.values())\n",
        "keys = []\n",
        "for key in keys_orig:\n",
        "  a_string = key\n",
        "  a_string = a_string.replace(\"/\", \" \")\n",
        "  x = a_string.split()\n",
        "  string = x[0]+' '+x[1]\n",
        "  keys.append(string)\n",
        "true_labels_dict = {keys[i]: values[i] for i in range(len(keys))}\n",
        "true_labels_dict"
      ]
    },
    {
      "cell_type": "code",
      "source": [
        "true_train_labels_dict = {}\n",
        "for key,value in true_labels_dict.items():\n",
        "  if value ==0:\n",
        "    val = 0\n",
        "  else:\n",
        "    val = 1\n",
        "  dict2 = {key:val}\n",
        "  true_train_labels_dict.update(dict2)\n",
        "true_train_labels_dict"
      ],
      "metadata": {
        "colab": {
          "base_uri": "https://localhost:8080/"
        },
        "id": "8uGVd80bw0sa",
        "outputId": "1102969b-0dbb-4bbc-f606-8b802c0b24d6"
      },
      "execution_count": null,
      "outputs": [
        {
          "output_type": "execute_result",
          "data": {
            "text/plain": [
              "{'170906-113317-Al 2mm-part3': 1,\n",
              " '170906-144958-Al 2mm': 1,\n",
              " '170904-141730-Al 2mm-part2': 1,\n",
              " '170904-151845-Al 2mm-part2': 1,\n",
              " '170906-153326-Al 2mm-part2': 1,\n",
              " '170904-141232-Al 2mm-part2': 1,\n",
              " '170913-151508-Al 2mm-part2': 1,\n",
              " '170904-150144-Al 2mm-part1': 1,\n",
              " '170913-143933-Al 2mm-part2': 1,\n",
              " '170913-152931-Al 2mm-part2': 1,\n",
              " '170906-141809-Al 2mm-part2': 1,\n",
              " '170815-134756-Al 2mm': 1,\n",
              " '170904-115959-Al 2mm': 1,\n",
              " '170815-133921-Al 2mm': 1,\n",
              " '170904-112347-Al 2mm': 1,\n",
              " '170904-145718-Al 2mm-part2': 1,\n",
              " '170904-141730-Al 2mm-part3': 1,\n",
              " '170905-110711-Al 2mm-part2': 1,\n",
              " '170904-141232-Al 2mm-part3': 1,\n",
              " '170913-155806-Al 2mm-part2': 1,\n",
              " '170904-152301-Al 2mm-part1': 1,\n",
              " '170904-113012-Al 2mm-part2': 1,\n",
              " '170904-154202-Al 2mm-part2': 1,\n",
              " '170904-155523-Al 2mm': 1,\n",
              " '170913-140725-Al 2mm': 1,\n",
              " '170913-152931-Al 2mm-part1': 0,\n",
              " '170913-151508-Al 2mm-part1': 0,\n",
              " '170913-143933-Al 2mm-part1': 0,\n",
              " '170904-141730-Al 2mm-part1': 0,\n",
              " '170904-145718-Al 2mm-part1': 0,\n",
              " '170913-142501-Al 2mm': 0,\n",
              " '170905-114307-Al 2mm': 0,\n",
              " '170905-115602-Al 2mm': 0,\n",
              " '170913-155806-Al 2mm-part1': 0,\n",
              " '170906-114912-Al 2mm': 0,\n",
              " '170906-141809-Al 2mm-part1': 0,\n",
              " '170906-120346-Al 2mm': 0,\n",
              " '170905-110711-Al 2mm-part1': 1,\n",
              " '170904-113012-Al 2mm-part1': 1,\n",
              " '170906-153326-Al 2mm-part1': 1,\n",
              " '170904-115503-Al 2mm': 1,\n",
              " '170904-141232-Al 2mm-part1': 1,\n",
              " '170904-151845-Al 2mm-part1': 1,\n",
              " '170906-150010-Al 2mm': 1,\n",
              " '170906-151353-Al 2mm': 1,\n",
              " '170906-150801-Al 2mm': 1}"
            ]
          },
          "metadata": {},
          "execution_count": 17
        }
      ]
    },
    {
      "cell_type": "code",
      "execution_count": null,
      "metadata": {
        "id": "h8PVxQrlB2Hn"
      },
      "outputs": [],
      "source": [
        "class Network(nn.Module):\n",
        "    def __init__(self):\n",
        "        super().__init__()\n",
        "\n",
        "        self.features = nn.Sequential(\n",
        "            nn.MaxPool2d(kernel_size=2),\n",
        "            nn.Conv2d(3, 8, kernel_size=5, stride=2),\n",
        "            nn.BatchNorm2d(8),\n",
        "            nn.ReLU(inplace=True),\n",
        "            nn.Dropout(p = 0.1),\n",
        "\n",
        "            nn.MaxPool2d(kernel_size=2),\n",
        "            nn.Conv2d(8, 16, kernel_size=5, stride=2),\n",
        "            nn.BatchNorm2d(16),\n",
        "            nn.ReLU(inplace=True),\n",
        "            nn.Dropout(p = 0.2),\n",
        "\n",
        "            nn.MaxPool2d(kernel_size=2),\n",
        "            nn.Conv2d(16, 16, kernel_size=5),\n",
        "            nn.BatchNorm2d(16),\n",
        "            nn.ReLU(inplace=True),\n",
        "            nn.Dropout(p = 0.2),\n",
        "\n",
        "            nn.MaxPool2d(kernel_size=2),\n",
        "            nn.Conv2d(16,8, kernel_size=3),\n",
        "            nn.BatchNorm2d(8),\n",
        "            nn.ReLU(inplace=True),\n",
        "        )\n",
        "\n",
        "        self.classifier = nn.Sequential(\n",
        "            nn.Dropout(p = 0.2),\n",
        "            nn.Linear(102400//200, 256),\n",
        "            # nn.BatchNorm1d(256),\n",
        "            nn.ReLU(inplace=True),\n",
        "\n",
        "            nn.Dropout(p = 0.2),\n",
        "            nn.Linear(256, 128),\n",
        "            # nn.BatchNorm1d(128),\n",
        "            nn.ReLU(inplace=True),\n",
        "\n",
        "            nn.Dropout(p = 0.1),\n",
        "            nn.Linear(128, 6),\n",
        "#             nn.BatchNorm1d(512), not in this model\n",
        "            nn.Softmax(dim=1)\n",
        "        )\n",
        "\n",
        "\n",
        "\n",
        "    def forward(self, x):\n",
        "        x = self.features(x)\n",
        "        x = x.reshape(-1, 102400//200)\n",
        "        x = self.classifier(x)\n",
        "\n",
        "        return x\n",
        "\n",
        "def get_num_correct(pred, label):\n",
        "    return pred.argmax(dim=1).eq(label).sum().item()"
      ]
    },
    {
      "cell_type": "code",
      "execution_count": null,
      "metadata": {
        "colab": {
          "base_uri": "https://localhost:8080/"
        },
        "id": "EjyHH9VuB2LR",
        "outputId": "d0003b2c-0798-40c0-d39e-90b28f7822d9"
      },
      "outputs": [
        {
          "output_type": "stream",
          "name": "stdout",
          "text": [
            "cuda:0\n",
            "Running on the CPU\n"
          ]
        }
      ],
      "source": [
        "net = Network()\n",
        "# net\n",
        "\n",
        "torch.cuda.is_available()\n",
        "\n",
        "True\n",
        "\n",
        "device = torch.device(\"cuda:0\")\n",
        "print(device)\n",
        "if torch.cuda.is_available():\n",
        "    device = torch.device(\"cuda:0\")  # you can continue going on here, like cuda:1 cuda:2....etc.\n",
        "    print(\"Running on the GPU\")\n",
        "else:\n",
        "    device = torch.device(\"cpu\")\n",
        "    print(\"Running on the CPU\")"
      ]
    },
    {
      "cell_type": "code",
      "execution_count": null,
      "metadata": {
        "colab": {
          "base_uri": "https://localhost:8080/"
        },
        "id": "nk2X76OsB2yG",
        "outputId": "e06ac76e-cfe3-483e-da92-b5ded5e3aa4b"
      },
      "outputs": [
        {
          "output_type": "execute_result",
          "data": {
            "text/plain": [
              "Network(\n",
              "  (features): Sequential(\n",
              "    (0): MaxPool2d(kernel_size=2, stride=2, padding=0, dilation=1, ceil_mode=False)\n",
              "    (1): Conv2d(3, 8, kernel_size=(5, 5), stride=(2, 2))\n",
              "    (2): BatchNorm2d(8, eps=1e-05, momentum=0.1, affine=True, track_running_stats=True)\n",
              "    (3): ReLU(inplace=True)\n",
              "    (4): Dropout(p=0.1, inplace=False)\n",
              "    (5): MaxPool2d(kernel_size=2, stride=2, padding=0, dilation=1, ceil_mode=False)\n",
              "    (6): Conv2d(8, 16, kernel_size=(5, 5), stride=(2, 2))\n",
              "    (7): BatchNorm2d(16, eps=1e-05, momentum=0.1, affine=True, track_running_stats=True)\n",
              "    (8): ReLU(inplace=True)\n",
              "    (9): Dropout(p=0.2, inplace=False)\n",
              "    (10): MaxPool2d(kernel_size=2, stride=2, padding=0, dilation=1, ceil_mode=False)\n",
              "    (11): Conv2d(16, 16, kernel_size=(5, 5), stride=(1, 1))\n",
              "    (12): BatchNorm2d(16, eps=1e-05, momentum=0.1, affine=True, track_running_stats=True)\n",
              "    (13): ReLU(inplace=True)\n",
              "    (14): Dropout(p=0.2, inplace=False)\n",
              "    (15): MaxPool2d(kernel_size=2, stride=2, padding=0, dilation=1, ceil_mode=False)\n",
              "    (16): Conv2d(16, 8, kernel_size=(3, 3), stride=(1, 1))\n",
              "    (17): BatchNorm2d(8, eps=1e-05, momentum=0.1, affine=True, track_running_stats=True)\n",
              "    (18): ReLU(inplace=True)\n",
              "  )\n",
              "  (classifier): Sequential(\n",
              "    (0): Dropout(p=0.2, inplace=False)\n",
              "    (1): Linear(in_features=512, out_features=256, bias=True)\n",
              "    (2): ReLU(inplace=True)\n",
              "    (3): Dropout(p=0.2, inplace=False)\n",
              "    (4): Linear(in_features=256, out_features=128, bias=True)\n",
              "    (5): ReLU(inplace=True)\n",
              "    (6): Dropout(p=0.1, inplace=False)\n",
              "    (7): Linear(in_features=128, out_features=6, bias=True)\n",
              "    (8): Softmax(dim=1)\n",
              "  )\n",
              ")"
            ]
          },
          "metadata": {},
          "execution_count": 20
        }
      ],
      "source": [
        "net = Network()\n",
        "net.to(device)"
      ]
    },
    {
      "cell_type": "code",
      "execution_count": null,
      "metadata": {
        "colab": {
          "base_uri": "https://localhost:8080/"
        },
        "id": "4WP5k_8eB21h",
        "outputId": "a4005e19-8fae-4f07-b873-f8d6d827034f"
      },
      "outputs": [
        {
          "output_type": "execute_result",
          "data": {
            "text/plain": [
              "{0: 1,\n",
              " 1: 1,\n",
              " 2: 1,\n",
              " 3: 1,\n",
              " 4: 1,\n",
              " 5: 1,\n",
              " 6: 1,\n",
              " 7: 1,\n",
              " 8: 1,\n",
              " 9: 1,\n",
              " 10: 0,\n",
              " 11: 1,\n",
              " 12: 1,\n",
              " 13: 0,\n",
              " 14: 1,\n",
              " 15: 1,\n",
              " 16: 1,\n",
              " 17: 1,\n",
              " 18: 1,\n",
              " 19: 1,\n",
              " 20: 1,\n",
              " 21: 1,\n",
              " 22: 1,\n",
              " 23: 0,\n",
              " 24: 0,\n",
              " 25: 1,\n",
              " 26: 0,\n",
              " 27: 0,\n",
              " 28: 0,\n",
              " 29: 1,\n",
              " 30: 1,\n",
              " 31: 1,\n",
              " 32: 1,\n",
              " 33: 1,\n",
              " 34: 1,\n",
              " 35: 1,\n",
              " 36: 1,\n",
              " 37: 0,\n",
              " 38: 0,\n",
              " 39: 1,\n",
              " 40: 0,\n",
              " 41: 1,\n",
              " 42: 0,\n",
              " 43: 1,\n",
              " 44: 0,\n",
              " 45: 1}"
            ]
          },
          "metadata": {},
          "execution_count": 21
        }
      ],
      "source": [
        "label_map_dict = {}\n",
        "\n",
        "for key,value in original_labels_dict.items():\n",
        "  label_map_dict.update({value:true_train_labels_dict[key]})\n",
        "label_map_dict"
      ]
    },
    {
      "cell_type": "code",
      "execution_count": null,
      "metadata": {
        "colab": {
          "base_uri": "https://localhost:8080/"
        },
        "id": "TmfhCN9VCJoX",
        "outputId": "fc2d8066-997d-4a45-d69c-0cf50ec0f4dd"
      },
      "outputs": [
        {
          "output_type": "stream",
          "name": "stdout",
          "text": [
            "5370\n",
            "27\n"
          ]
        }
      ],
      "source": [
        "train_loader = DataLoader(train_dataset, batch_size=200, shuffle=True)\n",
        "optimizer = optim.Adam(net.parameters(), lr=5e-4, weight_decay = 1e-3)\n",
        "\n",
        "print(len(train_dataset))\n",
        "print(len(train_loader))"
      ]
    },
    {
      "cell_type": "code",
      "execution_count": null,
      "metadata": {
        "colab": {
          "base_uri": "https://localhost:8080/",
          "height": 1000
        },
        "id": "zPKp5imxCJq4",
        "outputId": "c3888845-271f-4f66-a1f7-d25b005d7bc0"
      },
      "outputs": [
        {
          "output_type": "stream",
          "name": "stdout",
          "text": [
            "Batch No. 1 / 27  Batch Accuracy : 0.0\n",
            "Batch No. 2 / 27  Batch Accuracy : 14.0\n",
            "Batch No. 3 / 27  Batch Accuracy : 35.333333333333336\n",
            "Batch No. 4 / 27  Batch Accuracy : 46.0\n",
            "Batch No. 5 / 27  Batch Accuracy : 52.9\n",
            "Batch No. 6 / 27  Batch Accuracy : 57.083333333333336\n",
            "Batch No. 7 / 27  Batch Accuracy : 60.714285714285715\n",
            "Batch No. 8 / 27  Batch Accuracy : 63.0625\n",
            "Batch No. 9 / 27  Batch Accuracy : 64.5\n",
            "Batch No. 10 / 27  Batch Accuracy : 65.8\n",
            "Batch No. 11 / 27  Batch Accuracy : 66.86363636363636\n",
            "Batch No. 12 / 27  Batch Accuracy : 67.875\n",
            "Batch No. 13 / 27  Batch Accuracy : 68.46153846153847\n",
            "Batch No. 14 / 27  Batch Accuracy : 69.39285714285714\n",
            "Batch No. 15 / 27  Batch Accuracy : 70.06666666666666\n",
            "Batch No. 16 / 27  Batch Accuracy : 70.8125\n",
            "Batch No. 17 / 27  Batch Accuracy : 71.41176470588235\n",
            "Batch No. 18 / 27  Batch Accuracy : 72.08333333333333\n",
            "Batch No. 19 / 27  Batch Accuracy : 72.39473684210526\n",
            "Batch No. 20 / 27  Batch Accuracy : 72.65\n",
            "Batch No. 21 / 27  Batch Accuracy : 73.07142857142857\n",
            "Batch No. 22 / 27  Batch Accuracy : 73.5\n",
            "Batch No. 23 / 27  Batch Accuracy : 73.91304347826087\n",
            "Batch No. 24 / 27  Batch Accuracy : 74.29166666666667\n",
            "Batch No. 25 / 27  Batch Accuracy : 74.4\n",
            "Batch No. 26 / 27  Batch Accuracy : 74.38461538461539\n",
            "Batch No. 27 / 27  Batch Accuracy : 74.63687150837988\n",
            "epoch:  1 , Total_correct:  4008 , Loss: :  37.64579367637634  Accuracy:  74.63687150837988\n",
            "Batch No. 1 / 27  Batch Accuracy : 79.5\n",
            "Batch No. 2 / 27  Batch Accuracy : 78.5\n",
            "Batch No. 3 / 27  Batch Accuracy : 79.83333333333333\n",
            "Batch No. 4 / 27  Batch Accuracy : 78.5\n",
            "Batch No. 5 / 27  Batch Accuracy : 78.5\n",
            "Batch No. 6 / 27  Batch Accuracy : 77.75\n",
            "Batch No. 7 / 27  Batch Accuracy : 78.57142857142857\n",
            "Batch No. 8 / 27  Batch Accuracy : 78.625\n",
            "Batch No. 9 / 27  Batch Accuracy : 78.94444444444444\n",
            "Batch No. 10 / 27  Batch Accuracy : 79.2\n",
            "Batch No. 11 / 27  Batch Accuracy : 79.31818181818181\n",
            "Batch No. 12 / 27  Batch Accuracy : 79.375\n",
            "Batch No. 13 / 27  Batch Accuracy : 79.61538461538461\n",
            "Batch No. 14 / 27  Batch Accuracy : 79.75\n",
            "Batch No. 15 / 27  Batch Accuracy : 79.86666666666666\n",
            "Batch No. 16 / 27  Batch Accuracy : 80.1875\n",
            "Batch No. 17 / 27  Batch Accuracy : 80.1470588235294\n",
            "Batch No. 18 / 27  Batch Accuracy : 80.05555555555556\n",
            "Batch No. 19 / 27  Batch Accuracy : 80.02631578947368\n"
          ]
        },
        {
          "output_type": "error",
          "ename": "KeyboardInterrupt",
          "evalue": "",
          "traceback": [
            "\u001b[0;31m---------------------------------------------------------------------------\u001b[0m",
            "\u001b[0;31mKeyboardInterrupt\u001b[0m                         Traceback (most recent call last)",
            "\u001b[0;32m<timed exec>\u001b[0m in \u001b[0;36m<module>\u001b[0;34m\u001b[0m\n",
            "\u001b[0;32m/usr/local/lib/python3.10/dist-packages/torch/utils/data/dataloader.py\u001b[0m in \u001b[0;36m__next__\u001b[0;34m(self)\u001b[0m\n\u001b[1;32m    629\u001b[0m                 \u001b[0;31m# TODO(https://github.com/pytorch/pytorch/issues/76750)\u001b[0m\u001b[0;34m\u001b[0m\u001b[0;34m\u001b[0m\u001b[0m\n\u001b[1;32m    630\u001b[0m                 \u001b[0mself\u001b[0m\u001b[0;34m.\u001b[0m\u001b[0m_reset\u001b[0m\u001b[0;34m(\u001b[0m\u001b[0;34m)\u001b[0m  \u001b[0;31m# type: ignore[call-arg]\u001b[0m\u001b[0;34m\u001b[0m\u001b[0;34m\u001b[0m\u001b[0m\n\u001b[0;32m--> 631\u001b[0;31m             \u001b[0mdata\u001b[0m \u001b[0;34m=\u001b[0m \u001b[0mself\u001b[0m\u001b[0;34m.\u001b[0m\u001b[0m_next_data\u001b[0m\u001b[0;34m(\u001b[0m\u001b[0;34m)\u001b[0m\u001b[0;34m\u001b[0m\u001b[0;34m\u001b[0m\u001b[0m\n\u001b[0m\u001b[1;32m    632\u001b[0m             \u001b[0mself\u001b[0m\u001b[0;34m.\u001b[0m\u001b[0m_num_yielded\u001b[0m \u001b[0;34m+=\u001b[0m \u001b[0;36m1\u001b[0m\u001b[0;34m\u001b[0m\u001b[0;34m\u001b[0m\u001b[0m\n\u001b[1;32m    633\u001b[0m             \u001b[0;32mif\u001b[0m \u001b[0mself\u001b[0m\u001b[0;34m.\u001b[0m\u001b[0m_dataset_kind\u001b[0m \u001b[0;34m==\u001b[0m \u001b[0m_DatasetKind\u001b[0m\u001b[0;34m.\u001b[0m\u001b[0mIterable\u001b[0m \u001b[0;32mand\u001b[0m\u001b[0;31m \u001b[0m\u001b[0;31m\\\u001b[0m\u001b[0;34m\u001b[0m\u001b[0;34m\u001b[0m\u001b[0m\n",
            "\u001b[0;32m/usr/local/lib/python3.10/dist-packages/torch/utils/data/dataloader.py\u001b[0m in \u001b[0;36m_next_data\u001b[0;34m(self)\u001b[0m\n\u001b[1;32m    673\u001b[0m     \u001b[0;32mdef\u001b[0m \u001b[0m_next_data\u001b[0m\u001b[0;34m(\u001b[0m\u001b[0mself\u001b[0m\u001b[0;34m)\u001b[0m\u001b[0;34m:\u001b[0m\u001b[0;34m\u001b[0m\u001b[0;34m\u001b[0m\u001b[0m\n\u001b[1;32m    674\u001b[0m         \u001b[0mindex\u001b[0m \u001b[0;34m=\u001b[0m \u001b[0mself\u001b[0m\u001b[0;34m.\u001b[0m\u001b[0m_next_index\u001b[0m\u001b[0;34m(\u001b[0m\u001b[0;34m)\u001b[0m  \u001b[0;31m# may raise StopIteration\u001b[0m\u001b[0;34m\u001b[0m\u001b[0;34m\u001b[0m\u001b[0m\n\u001b[0;32m--> 675\u001b[0;31m         \u001b[0mdata\u001b[0m \u001b[0;34m=\u001b[0m \u001b[0mself\u001b[0m\u001b[0;34m.\u001b[0m\u001b[0m_dataset_fetcher\u001b[0m\u001b[0;34m.\u001b[0m\u001b[0mfetch\u001b[0m\u001b[0;34m(\u001b[0m\u001b[0mindex\u001b[0m\u001b[0;34m)\u001b[0m  \u001b[0;31m# may raise StopIteration\u001b[0m\u001b[0;34m\u001b[0m\u001b[0;34m\u001b[0m\u001b[0m\n\u001b[0m\u001b[1;32m    676\u001b[0m         \u001b[0;32mif\u001b[0m \u001b[0mself\u001b[0m\u001b[0;34m.\u001b[0m\u001b[0m_pin_memory\u001b[0m\u001b[0;34m:\u001b[0m\u001b[0;34m\u001b[0m\u001b[0;34m\u001b[0m\u001b[0m\n\u001b[1;32m    677\u001b[0m             \u001b[0mdata\u001b[0m \u001b[0;34m=\u001b[0m \u001b[0m_utils\u001b[0m\u001b[0;34m.\u001b[0m\u001b[0mpin_memory\u001b[0m\u001b[0;34m.\u001b[0m\u001b[0mpin_memory\u001b[0m\u001b[0;34m(\u001b[0m\u001b[0mdata\u001b[0m\u001b[0;34m,\u001b[0m \u001b[0mself\u001b[0m\u001b[0;34m.\u001b[0m\u001b[0m_pin_memory_device\u001b[0m\u001b[0;34m)\u001b[0m\u001b[0;34m\u001b[0m\u001b[0;34m\u001b[0m\u001b[0m\n",
            "\u001b[0;32m/usr/local/lib/python3.10/dist-packages/torch/utils/data/_utils/fetch.py\u001b[0m in \u001b[0;36mfetch\u001b[0;34m(self, possibly_batched_index)\u001b[0m\n\u001b[1;32m     49\u001b[0m                 \u001b[0mdata\u001b[0m \u001b[0;34m=\u001b[0m \u001b[0mself\u001b[0m\u001b[0;34m.\u001b[0m\u001b[0mdataset\u001b[0m\u001b[0;34m.\u001b[0m\u001b[0m__getitems__\u001b[0m\u001b[0;34m(\u001b[0m\u001b[0mpossibly_batched_index\u001b[0m\u001b[0;34m)\u001b[0m\u001b[0;34m\u001b[0m\u001b[0;34m\u001b[0m\u001b[0m\n\u001b[1;32m     50\u001b[0m             \u001b[0;32melse\u001b[0m\u001b[0;34m:\u001b[0m\u001b[0;34m\u001b[0m\u001b[0;34m\u001b[0m\u001b[0m\n\u001b[0;32m---> 51\u001b[0;31m                 \u001b[0mdata\u001b[0m \u001b[0;34m=\u001b[0m \u001b[0;34m[\u001b[0m\u001b[0mself\u001b[0m\u001b[0;34m.\u001b[0m\u001b[0mdataset\u001b[0m\u001b[0;34m[\u001b[0m\u001b[0midx\u001b[0m\u001b[0;34m]\u001b[0m \u001b[0;32mfor\u001b[0m \u001b[0midx\u001b[0m \u001b[0;32min\u001b[0m \u001b[0mpossibly_batched_index\u001b[0m\u001b[0;34m]\u001b[0m\u001b[0;34m\u001b[0m\u001b[0;34m\u001b[0m\u001b[0m\n\u001b[0m\u001b[1;32m     52\u001b[0m         \u001b[0;32melse\u001b[0m\u001b[0;34m:\u001b[0m\u001b[0;34m\u001b[0m\u001b[0;34m\u001b[0m\u001b[0m\n\u001b[1;32m     53\u001b[0m             \u001b[0mdata\u001b[0m \u001b[0;34m=\u001b[0m \u001b[0mself\u001b[0m\u001b[0;34m.\u001b[0m\u001b[0mdataset\u001b[0m\u001b[0;34m[\u001b[0m\u001b[0mpossibly_batched_index\u001b[0m\u001b[0;34m]\u001b[0m\u001b[0;34m\u001b[0m\u001b[0;34m\u001b[0m\u001b[0m\n",
            "\u001b[0;32m/usr/local/lib/python3.10/dist-packages/torch/utils/data/_utils/fetch.py\u001b[0m in \u001b[0;36m<listcomp>\u001b[0;34m(.0)\u001b[0m\n\u001b[1;32m     49\u001b[0m                 \u001b[0mdata\u001b[0m \u001b[0;34m=\u001b[0m \u001b[0mself\u001b[0m\u001b[0;34m.\u001b[0m\u001b[0mdataset\u001b[0m\u001b[0;34m.\u001b[0m\u001b[0m__getitems__\u001b[0m\u001b[0;34m(\u001b[0m\u001b[0mpossibly_batched_index\u001b[0m\u001b[0;34m)\u001b[0m\u001b[0;34m\u001b[0m\u001b[0;34m\u001b[0m\u001b[0m\n\u001b[1;32m     50\u001b[0m             \u001b[0;32melse\u001b[0m\u001b[0;34m:\u001b[0m\u001b[0;34m\u001b[0m\u001b[0;34m\u001b[0m\u001b[0m\n\u001b[0;32m---> 51\u001b[0;31m                 \u001b[0mdata\u001b[0m \u001b[0;34m=\u001b[0m \u001b[0;34m[\u001b[0m\u001b[0mself\u001b[0m\u001b[0;34m.\u001b[0m\u001b[0mdataset\u001b[0m\u001b[0;34m[\u001b[0m\u001b[0midx\u001b[0m\u001b[0;34m]\u001b[0m \u001b[0;32mfor\u001b[0m \u001b[0midx\u001b[0m \u001b[0;32min\u001b[0m \u001b[0mpossibly_batched_index\u001b[0m\u001b[0;34m]\u001b[0m\u001b[0;34m\u001b[0m\u001b[0;34m\u001b[0m\u001b[0m\n\u001b[0m\u001b[1;32m     52\u001b[0m         \u001b[0;32melse\u001b[0m\u001b[0;34m:\u001b[0m\u001b[0;34m\u001b[0m\u001b[0;34m\u001b[0m\u001b[0m\n\u001b[1;32m     53\u001b[0m             \u001b[0mdata\u001b[0m \u001b[0;34m=\u001b[0m \u001b[0mself\u001b[0m\u001b[0;34m.\u001b[0m\u001b[0mdataset\u001b[0m\u001b[0;34m[\u001b[0m\u001b[0mpossibly_batched_index\u001b[0m\u001b[0;34m]\u001b[0m\u001b[0;34m\u001b[0m\u001b[0;34m\u001b[0m\u001b[0m\n",
            "\u001b[0;32m/usr/local/lib/python3.10/dist-packages/torchvision/datasets/folder.py\u001b[0m in \u001b[0;36m__getitem__\u001b[0;34m(self, index)\u001b[0m\n\u001b[1;32m    245\u001b[0m         \u001b[0msample\u001b[0m \u001b[0;34m=\u001b[0m \u001b[0mself\u001b[0m\u001b[0;34m.\u001b[0m\u001b[0mloader\u001b[0m\u001b[0;34m(\u001b[0m\u001b[0mpath\u001b[0m\u001b[0;34m)\u001b[0m\u001b[0;34m\u001b[0m\u001b[0;34m\u001b[0m\u001b[0m\n\u001b[1;32m    246\u001b[0m         \u001b[0;32mif\u001b[0m \u001b[0mself\u001b[0m\u001b[0;34m.\u001b[0m\u001b[0mtransform\u001b[0m \u001b[0;32mis\u001b[0m \u001b[0;32mnot\u001b[0m \u001b[0;32mNone\u001b[0m\u001b[0;34m:\u001b[0m\u001b[0;34m\u001b[0m\u001b[0;34m\u001b[0m\u001b[0m\n\u001b[0;32m--> 247\u001b[0;31m             \u001b[0msample\u001b[0m \u001b[0;34m=\u001b[0m \u001b[0mself\u001b[0m\u001b[0;34m.\u001b[0m\u001b[0mtransform\u001b[0m\u001b[0;34m(\u001b[0m\u001b[0msample\u001b[0m\u001b[0;34m)\u001b[0m\u001b[0;34m\u001b[0m\u001b[0;34m\u001b[0m\u001b[0m\n\u001b[0m\u001b[1;32m    248\u001b[0m         \u001b[0;32mif\u001b[0m \u001b[0mself\u001b[0m\u001b[0;34m.\u001b[0m\u001b[0mtarget_transform\u001b[0m \u001b[0;32mis\u001b[0m \u001b[0;32mnot\u001b[0m \u001b[0;32mNone\u001b[0m\u001b[0;34m:\u001b[0m\u001b[0;34m\u001b[0m\u001b[0;34m\u001b[0m\u001b[0m\n\u001b[1;32m    249\u001b[0m             \u001b[0mtarget\u001b[0m \u001b[0;34m=\u001b[0m \u001b[0mself\u001b[0m\u001b[0;34m.\u001b[0m\u001b[0mtarget_transform\u001b[0m\u001b[0;34m(\u001b[0m\u001b[0mtarget\u001b[0m\u001b[0;34m)\u001b[0m\u001b[0;34m\u001b[0m\u001b[0;34m\u001b[0m\u001b[0m\n",
            "\u001b[0;32m/usr/local/lib/python3.10/dist-packages/torchvision/transforms/transforms.py\u001b[0m in \u001b[0;36m__call__\u001b[0;34m(self, img)\u001b[0m\n\u001b[1;32m     93\u001b[0m     \u001b[0;32mdef\u001b[0m \u001b[0m__call__\u001b[0m\u001b[0;34m(\u001b[0m\u001b[0mself\u001b[0m\u001b[0;34m,\u001b[0m \u001b[0mimg\u001b[0m\u001b[0;34m)\u001b[0m\u001b[0;34m:\u001b[0m\u001b[0;34m\u001b[0m\u001b[0;34m\u001b[0m\u001b[0m\n\u001b[1;32m     94\u001b[0m         \u001b[0;32mfor\u001b[0m \u001b[0mt\u001b[0m \u001b[0;32min\u001b[0m \u001b[0mself\u001b[0m\u001b[0;34m.\u001b[0m\u001b[0mtransforms\u001b[0m\u001b[0;34m:\u001b[0m\u001b[0;34m\u001b[0m\u001b[0;34m\u001b[0m\u001b[0m\n\u001b[0;32m---> 95\u001b[0;31m             \u001b[0mimg\u001b[0m \u001b[0;34m=\u001b[0m \u001b[0mt\u001b[0m\u001b[0;34m(\u001b[0m\u001b[0mimg\u001b[0m\u001b[0;34m)\u001b[0m\u001b[0;34m\u001b[0m\u001b[0;34m\u001b[0m\u001b[0m\n\u001b[0m\u001b[1;32m     96\u001b[0m         \u001b[0;32mreturn\u001b[0m \u001b[0mimg\u001b[0m\u001b[0;34m\u001b[0m\u001b[0;34m\u001b[0m\u001b[0m\n\u001b[1;32m     97\u001b[0m \u001b[0;34m\u001b[0m\u001b[0m\n",
            "\u001b[0;32m/usr/local/lib/python3.10/dist-packages/torch/nn/modules/module.py\u001b[0m in \u001b[0;36m_wrapped_call_impl\u001b[0;34m(self, *args, **kwargs)\u001b[0m\n\u001b[1;32m   1530\u001b[0m             \u001b[0;32mreturn\u001b[0m \u001b[0mself\u001b[0m\u001b[0;34m.\u001b[0m\u001b[0m_compiled_call_impl\u001b[0m\u001b[0;34m(\u001b[0m\u001b[0;34m*\u001b[0m\u001b[0margs\u001b[0m\u001b[0;34m,\u001b[0m \u001b[0;34m**\u001b[0m\u001b[0mkwargs\u001b[0m\u001b[0;34m)\u001b[0m  \u001b[0;31m# type: ignore[misc]\u001b[0m\u001b[0;34m\u001b[0m\u001b[0;34m\u001b[0m\u001b[0m\n\u001b[1;32m   1531\u001b[0m         \u001b[0;32melse\u001b[0m\u001b[0;34m:\u001b[0m\u001b[0;34m\u001b[0m\u001b[0;34m\u001b[0m\u001b[0m\n\u001b[0;32m-> 1532\u001b[0;31m             \u001b[0;32mreturn\u001b[0m \u001b[0mself\u001b[0m\u001b[0;34m.\u001b[0m\u001b[0m_call_impl\u001b[0m\u001b[0;34m(\u001b[0m\u001b[0;34m*\u001b[0m\u001b[0margs\u001b[0m\u001b[0;34m,\u001b[0m \u001b[0;34m**\u001b[0m\u001b[0mkwargs\u001b[0m\u001b[0;34m)\u001b[0m\u001b[0;34m\u001b[0m\u001b[0;34m\u001b[0m\u001b[0m\n\u001b[0m\u001b[1;32m   1533\u001b[0m \u001b[0;34m\u001b[0m\u001b[0m\n\u001b[1;32m   1534\u001b[0m     \u001b[0;32mdef\u001b[0m \u001b[0m_call_impl\u001b[0m\u001b[0;34m(\u001b[0m\u001b[0mself\u001b[0m\u001b[0;34m,\u001b[0m \u001b[0;34m*\u001b[0m\u001b[0margs\u001b[0m\u001b[0;34m,\u001b[0m \u001b[0;34m**\u001b[0m\u001b[0mkwargs\u001b[0m\u001b[0;34m)\u001b[0m\u001b[0;34m:\u001b[0m\u001b[0;34m\u001b[0m\u001b[0;34m\u001b[0m\u001b[0m\n",
            "\u001b[0;32m/usr/local/lib/python3.10/dist-packages/torch/nn/modules/module.py\u001b[0m in \u001b[0;36m_call_impl\u001b[0;34m(self, *args, **kwargs)\u001b[0m\n\u001b[1;32m   1539\u001b[0m                 \u001b[0;32mor\u001b[0m \u001b[0m_global_backward_pre_hooks\u001b[0m \u001b[0;32mor\u001b[0m \u001b[0m_global_backward_hooks\u001b[0m\u001b[0;34m\u001b[0m\u001b[0;34m\u001b[0m\u001b[0m\n\u001b[1;32m   1540\u001b[0m                 or _global_forward_hooks or _global_forward_pre_hooks):\n\u001b[0;32m-> 1541\u001b[0;31m             \u001b[0;32mreturn\u001b[0m \u001b[0mforward_call\u001b[0m\u001b[0;34m(\u001b[0m\u001b[0;34m*\u001b[0m\u001b[0margs\u001b[0m\u001b[0;34m,\u001b[0m \u001b[0;34m**\u001b[0m\u001b[0mkwargs\u001b[0m\u001b[0;34m)\u001b[0m\u001b[0;34m\u001b[0m\u001b[0;34m\u001b[0m\u001b[0m\n\u001b[0m\u001b[1;32m   1542\u001b[0m \u001b[0;34m\u001b[0m\u001b[0m\n\u001b[1;32m   1543\u001b[0m         \u001b[0;32mtry\u001b[0m\u001b[0;34m:\u001b[0m\u001b[0;34m\u001b[0m\u001b[0;34m\u001b[0m\u001b[0m\n",
            "\u001b[0;32m/usr/local/lib/python3.10/dist-packages/torchvision/transforms/transforms.py\u001b[0m in \u001b[0;36mforward\u001b[0;34m(self, tensor)\u001b[0m\n\u001b[1;32m    275\u001b[0m             \u001b[0mTensor\u001b[0m\u001b[0;34m:\u001b[0m \u001b[0mNormalized\u001b[0m \u001b[0mTensor\u001b[0m \u001b[0mimage\u001b[0m\u001b[0;34m.\u001b[0m\u001b[0;34m\u001b[0m\u001b[0;34m\u001b[0m\u001b[0m\n\u001b[1;32m    276\u001b[0m         \"\"\"\n\u001b[0;32m--> 277\u001b[0;31m         \u001b[0;32mreturn\u001b[0m \u001b[0mF\u001b[0m\u001b[0;34m.\u001b[0m\u001b[0mnormalize\u001b[0m\u001b[0;34m(\u001b[0m\u001b[0mtensor\u001b[0m\u001b[0;34m,\u001b[0m \u001b[0mself\u001b[0m\u001b[0;34m.\u001b[0m\u001b[0mmean\u001b[0m\u001b[0;34m,\u001b[0m \u001b[0mself\u001b[0m\u001b[0;34m.\u001b[0m\u001b[0mstd\u001b[0m\u001b[0;34m,\u001b[0m \u001b[0mself\u001b[0m\u001b[0;34m.\u001b[0m\u001b[0minplace\u001b[0m\u001b[0;34m)\u001b[0m\u001b[0;34m\u001b[0m\u001b[0;34m\u001b[0m\u001b[0m\n\u001b[0m\u001b[1;32m    278\u001b[0m \u001b[0;34m\u001b[0m\u001b[0m\n\u001b[1;32m    279\u001b[0m     \u001b[0;32mdef\u001b[0m \u001b[0m__repr__\u001b[0m\u001b[0;34m(\u001b[0m\u001b[0mself\u001b[0m\u001b[0;34m)\u001b[0m \u001b[0;34m->\u001b[0m \u001b[0mstr\u001b[0m\u001b[0;34m:\u001b[0m\u001b[0;34m\u001b[0m\u001b[0;34m\u001b[0m\u001b[0m\n",
            "\u001b[0;32m/usr/local/lib/python3.10/dist-packages/torchvision/transforms/functional.py\u001b[0m in \u001b[0;36mnormalize\u001b[0;34m(tensor, mean, std, inplace)\u001b[0m\n\u001b[1;32m    348\u001b[0m         \u001b[0;32mraise\u001b[0m \u001b[0mTypeError\u001b[0m\u001b[0;34m(\u001b[0m\u001b[0;34mf\"img should be Tensor Image. Got {type(tensor)}\"\u001b[0m\u001b[0;34m)\u001b[0m\u001b[0;34m\u001b[0m\u001b[0;34m\u001b[0m\u001b[0m\n\u001b[1;32m    349\u001b[0m \u001b[0;34m\u001b[0m\u001b[0m\n\u001b[0;32m--> 350\u001b[0;31m     \u001b[0;32mreturn\u001b[0m \u001b[0mF_t\u001b[0m\u001b[0;34m.\u001b[0m\u001b[0mnormalize\u001b[0m\u001b[0;34m(\u001b[0m\u001b[0mtensor\u001b[0m\u001b[0;34m,\u001b[0m \u001b[0mmean\u001b[0m\u001b[0;34m=\u001b[0m\u001b[0mmean\u001b[0m\u001b[0;34m,\u001b[0m \u001b[0mstd\u001b[0m\u001b[0;34m=\u001b[0m\u001b[0mstd\u001b[0m\u001b[0;34m,\u001b[0m \u001b[0minplace\u001b[0m\u001b[0;34m=\u001b[0m\u001b[0minplace\u001b[0m\u001b[0;34m)\u001b[0m\u001b[0;34m\u001b[0m\u001b[0;34m\u001b[0m\u001b[0m\n\u001b[0m\u001b[1;32m    351\u001b[0m \u001b[0;34m\u001b[0m\u001b[0m\n\u001b[1;32m    352\u001b[0m \u001b[0;34m\u001b[0m\u001b[0m\n",
            "\u001b[0;32m/usr/local/lib/python3.10/dist-packages/torchvision/transforms/_functional_tensor.py\u001b[0m in \u001b[0;36mnormalize\u001b[0;34m(tensor, mean, std, inplace)\u001b[0m\n\u001b[1;32m    924\u001b[0m     \u001b[0;32mif\u001b[0m \u001b[0mstd\u001b[0m\u001b[0;34m.\u001b[0m\u001b[0mndim\u001b[0m \u001b[0;34m==\u001b[0m \u001b[0;36m1\u001b[0m\u001b[0;34m:\u001b[0m\u001b[0;34m\u001b[0m\u001b[0;34m\u001b[0m\u001b[0m\n\u001b[1;32m    925\u001b[0m         \u001b[0mstd\u001b[0m \u001b[0;34m=\u001b[0m \u001b[0mstd\u001b[0m\u001b[0;34m.\u001b[0m\u001b[0mview\u001b[0m\u001b[0;34m(\u001b[0m\u001b[0;34m-\u001b[0m\u001b[0;36m1\u001b[0m\u001b[0;34m,\u001b[0m \u001b[0;36m1\u001b[0m\u001b[0;34m,\u001b[0m \u001b[0;36m1\u001b[0m\u001b[0;34m)\u001b[0m\u001b[0;34m\u001b[0m\u001b[0;34m\u001b[0m\u001b[0m\n\u001b[0;32m--> 926\u001b[0;31m     \u001b[0;32mreturn\u001b[0m \u001b[0mtensor\u001b[0m\u001b[0;34m.\u001b[0m\u001b[0msub_\u001b[0m\u001b[0;34m(\u001b[0m\u001b[0mmean\u001b[0m\u001b[0;34m)\u001b[0m\u001b[0;34m.\u001b[0m\u001b[0mdiv_\u001b[0m\u001b[0;34m(\u001b[0m\u001b[0mstd\u001b[0m\u001b[0;34m)\u001b[0m\u001b[0;34m\u001b[0m\u001b[0;34m\u001b[0m\u001b[0m\n\u001b[0m\u001b[1;32m    927\u001b[0m \u001b[0;34m\u001b[0m\u001b[0m\n\u001b[1;32m    928\u001b[0m \u001b[0;34m\u001b[0m\u001b[0m\n",
            "\u001b[0;31mKeyboardInterrupt\u001b[0m: "
          ]
        }
      ],
      "source": [
        "%%time\n",
        "# tic()\n",
        "epoch = 0\n",
        "acc = 0\n",
        "while epoch<10 and acc<90:\n",
        "# for epoch in range(20): #\n",
        "    total_loss = 0\n",
        "    total_correct =0\n",
        "    i=1\n",
        "    total_length = 0\n",
        "    for batch in train_loader:\n",
        "        image, label_original = batch\n",
        "        label = [label_map_dict[lab.item()] for lab in label_original]\n",
        "        label = torch.tensor(label)\n",
        "        # if i<10:\n",
        "\n",
        "\n",
        "        pred = net(image.to(device))\n",
        "        loss = F.cross_entropy(pred, label.to(device))\n",
        "#         loss = F.mse_loss(pred, label.to(device))\n",
        "\n",
        "        optimizer.zero_grad()\n",
        "        loss.backward()\n",
        "        optimizer.step()\n",
        "\n",
        "        total_loss += loss.item()\n",
        "        total_correct += get_num_correct(pred,label.to(device))\n",
        "        total_length += len(label)\n",
        "        acc = 100*total_correct/total_length\n",
        "        print('Batch No.', i,'/',len(train_loader), ' Batch Accuracy :',  acc)\n",
        "        i=i+1\n",
        "\n",
        "    acc = total_correct*100/len(train_dataset)\n",
        "    #-------------------------------------------------\n",
        "    print('epoch: ', epoch+1, ', Total_correct: ', total_correct,', Loss: : ', total_loss, ' Accuracy: ', total_correct*100/len(train_dataset))\n",
        "    epoch+=1\n",
        "# print(toc())\n",
        "# torch.set_grad_enabled(False)"
      ]
    },
    {
      "cell_type": "code",
      "execution_count": null,
      "metadata": {
        "id": "UDNOeockCJtC"
      },
      "outputs": [],
      "source": [
        "PATH_model = \"/content/drive/My Drive/model_classical_train_bin.pt\"\n",
        "torch.save(net.state_dict(), PATH_model)"
      ]
    },
    {
      "cell_type": "code",
      "execution_count": null,
      "metadata": {
        "colab": {
          "base_uri": "https://localhost:8080/"
        },
        "id": "B1M1NQq9CJvj",
        "outputId": "a2df324d-66fd-496f-d9c3-806d3b41d210"
      },
      "outputs": [
        {
          "output_type": "execute_result",
          "data": {
            "text/plain": [
              "Dataset ImageFolder\n",
              "    Number of datapoints: 6386\n",
              "    Root location: /content/drive/My Drive/al5083/al5083/test\n",
              "    StandardTransform\n",
              "Transform: Compose(\n",
              "               CenterCrop(size=(800, 800))\n",
              "               ToTensor()\n",
              "           )"
            ]
          },
          "metadata": {},
          "execution_count": 26
        }
      ],
      "source": [
        "#test the model\n",
        "\n",
        "test_data_dir = '/content/drive/My Drive/al5083/al5083/test'\n",
        "\n",
        "transform_test = transforms.Compose([\n",
        "     transforms.CenterCrop((800,800)),\n",
        "     transforms.ToTensor(),\n",
        "     ])\n",
        "\n",
        "test_dataset = datasets.ImageFolder(root =test_data_dir,transform = transform_test)\n",
        "test_dataset"
      ]
    },
    {
      "cell_type": "code",
      "execution_count": null,
      "metadata": {
        "id": "_rf4NDZsCJzG"
      },
      "outputs": [],
      "source": [
        "import json\n",
        "# Opening JSON file\n",
        "f = open('/content/drive/My Drive/al5083/al5083/test/test.json',)\n",
        "\n",
        "label_test = json.load(f)"
      ]
    },
    {
      "cell_type": "code",
      "execution_count": null,
      "metadata": {
        "colab": {
          "base_uri": "https://localhost:8080/"
        },
        "id": "-YznRGCqB27-",
        "outputId": "c79f064f-c9c7-46d5-df55-51b23de442a2"
      },
      "outputs": [
        {
          "output_type": "execute_result",
          "data": {
            "text/plain": [
              "{'170906-143512-Al 2mm-part2': 1,\n",
              " '170904-155610-Al 2mm': 2,\n",
              " '170906-143512-Al 2mm-part1': 2,\n",
              " '170904-154202-Al 2mm-part1': 2,\n",
              " '170904-150144-Al 2mm-part2': 4,\n",
              " '170906-155007-Al 2mm-part2': 4,\n",
              " '170913-154448-Al 2mm': 0,\n",
              " '170906-113317-Al 2mm-part1': 0,\n",
              " '170905-112213-Al 2mm': 0,\n",
              " '170906-104925-Al 2mm': 0,\n",
              " '170904-152301-Al 2mm-part2': 5,\n",
              " '170906-153326-Al 2mm-part3': 3,\n",
              " '170906-151724-Al 2mm-part1': 3,\n",
              " '170906-155007-Al 2mm-part1': 3}"
            ]
          },
          "metadata": {},
          "execution_count": 28
        }
      ],
      "source": [
        "keys_orig = list(label_test.keys())\n",
        "values = list(label_test.values())\n",
        "keys = []\n",
        "for key in keys_orig:\n",
        "  a_string = key\n",
        "  a_string = a_string.replace(\"/\", \" \")\n",
        "  x = a_string.split()\n",
        "  string = x[0]+' '+x[1]\n",
        "  keys.append(string)\n",
        "true_test_labels_dict = {keys[i]: values[i] for i in range(len(keys))}\n",
        "true_test_labels_dict"
      ]
    },
    {
      "cell_type": "code",
      "execution_count": null,
      "metadata": {
        "colab": {
          "base_uri": "https://localhost:8080/"
        },
        "id": "pE0mGd1QJzRb",
        "outputId": "83f374ca-0e7e-4142-b564-6fe97a8eb983"
      },
      "outputs": [
        {
          "output_type": "execute_result",
          "data": {
            "text/plain": [
              "{'170904-150144-Al 2mm-part2': 0,\n",
              " '170904-152301-Al 2mm-part2': 1,\n",
              " '170904-154202-Al 2mm-part1': 2,\n",
              " '170904-155610-Al 2mm': 3,\n",
              " '170905-112213-Al 2mm': 4,\n",
              " '170906-104925-Al 2mm': 5,\n",
              " '170906-113317-Al 2mm-part1': 6,\n",
              " '170906-143512-Al 2mm-part1': 7,\n",
              " '170906-143512-Al 2mm-part2': 8,\n",
              " '170906-151724-Al 2mm-part1': 9,\n",
              " '170906-153326-Al 2mm-part3': 10,\n",
              " '170906-155007-Al 2mm-part1': 11,\n",
              " '170906-155007-Al 2mm-part2': 12,\n",
              " '170913-154448-Al 2mm': 13}"
            ]
          },
          "metadata": {},
          "execution_count": 29
        }
      ],
      "source": [
        "original_test_labels_dict = test_dataset.class_to_idx\n",
        "original_test_labels_dict"
      ]
    },
    {
      "cell_type": "code",
      "source": [
        "true_train_labels_dict2 = {}\n",
        "for key,value in true_test_labels_dict.items():\n",
        "  if value ==0:\n",
        "    val = 0\n",
        "  else:\n",
        "    val = 1\n",
        "  dict2 = {key:val}\n",
        "  true_train_labels_dict2.update(dict2)\n",
        "true_train_labels_dict2"
      ],
      "metadata": {
        "colab": {
          "base_uri": "https://localhost:8080/"
        },
        "id": "RljjseGKyIbN",
        "outputId": "870d2596-ebff-4d0a-e885-a1db543730bb"
      },
      "execution_count": null,
      "outputs": [
        {
          "output_type": "execute_result",
          "data": {
            "text/plain": [
              "{'170906-143512-Al 2mm-part2': 1,\n",
              " '170904-155610-Al 2mm': 1,\n",
              " '170906-143512-Al 2mm-part1': 1,\n",
              " '170904-154202-Al 2mm-part1': 1,\n",
              " '170904-150144-Al 2mm-part2': 1,\n",
              " '170906-155007-Al 2mm-part2': 1,\n",
              " '170913-154448-Al 2mm': 0,\n",
              " '170906-113317-Al 2mm-part1': 0,\n",
              " '170905-112213-Al 2mm': 0,\n",
              " '170906-104925-Al 2mm': 0,\n",
              " '170904-152301-Al 2mm-part2': 1,\n",
              " '170906-153326-Al 2mm-part3': 1,\n",
              " '170906-151724-Al 2mm-part1': 1,\n",
              " '170906-155007-Al 2mm-part1': 1}"
            ]
          },
          "metadata": {},
          "execution_count": 30
        }
      ]
    },
    {
      "cell_type": "code",
      "execution_count": null,
      "metadata": {
        "colab": {
          "base_uri": "https://localhost:8080/"
        },
        "id": "VfKDTJVeJzT9",
        "outputId": "ea6b333c-a7d3-47ba-edd2-aecb4ccb6225"
      },
      "outputs": [
        {
          "output_type": "execute_result",
          "data": {
            "text/plain": [
              "{0: 1,\n",
              " 1: 1,\n",
              " 2: 1,\n",
              " 3: 1,\n",
              " 4: 0,\n",
              " 5: 0,\n",
              " 6: 0,\n",
              " 7: 1,\n",
              " 8: 1,\n",
              " 9: 1,\n",
              " 10: 1,\n",
              " 11: 1,\n",
              " 12: 1,\n",
              " 13: 0}"
            ]
          },
          "metadata": {},
          "execution_count": 31
        }
      ],
      "source": [
        "test_label_map_dict = {}\n",
        "\n",
        "for key,value in original_test_labels_dict.items():\n",
        "  test_label_map_dict.update({value:true_train_labels_dict2[key]})\n",
        "test_label_map_dict"
      ]
    },
    {
      "cell_type": "code",
      "source": [],
      "metadata": {
        "id": "2DgdEDy2xdjF"
      },
      "execution_count": null,
      "outputs": []
    },
    {
      "cell_type": "code",
      "execution_count": null,
      "metadata": {
        "colab": {
          "base_uri": "https://localhost:8080/"
        },
        "id": "bOrP711_J2Wh",
        "outputId": "cc687abe-868e-419e-bd5f-f2cc972d8641"
      },
      "outputs": [
        {
          "output_type": "execute_result",
          "data": {
            "text/plain": [
              "<torch.autograd.grad_mode.set_grad_enabled at 0x7a913bfd7dc0>"
            ]
          },
          "metadata": {},
          "execution_count": 32
        }
      ],
      "source": [
        "torch.cuda.empty_cache()\n",
        "\n",
        "torch.set_grad_enabled(False)"
      ]
    },
    {
      "cell_type": "code",
      "execution_count": null,
      "metadata": {
        "colab": {
          "base_uri": "https://localhost:8080/"
        },
        "id": "56wfoFOdJ2Y5",
        "outputId": "4a719f27-af16-4444-fec6-814d8fe74194"
      },
      "outputs": [
        {
          "output_type": "stream",
          "name": "stdout",
          "text": [
            "Batch No:  1 , Test Batch Accuracy :  100.0\n",
            "Batch No:  2 , Test Batch Accuracy :  100.0\n",
            "Batch No:  3 , Test Batch Accuracy :  100.0\n",
            "Batch No:  4 , Test Batch Accuracy :  100.0\n",
            "Batch No:  5 , Test Batch Accuracy :  100.0\n",
            "Batch No:  6 , Test Batch Accuracy :  100.0\n",
            "Batch No:  7 , Test Batch Accuracy :  96.5\n",
            "Batch No:  8 , Test Batch Accuracy :  84.4375\n",
            "Batch No:  9 , Test Batch Accuracy :  75.05555555555556\n",
            "Batch No:  10 , Test Batch Accuracy :  67.55\n",
            "Batch No:  11 , Test Batch Accuracy :  61.40909090909091\n",
            "Batch No:  12 , Test Batch Accuracy :  56.291666666666664\n",
            "Batch No:  13 , Test Batch Accuracy :  51.96153846153846\n",
            "Batch No:  14 , Test Batch Accuracy :  48.25\n",
            "Batch No:  15 , Test Batch Accuracy :  45.03333333333333\n",
            "Batch No:  16 , Test Batch Accuracy :  44.9375\n",
            "Batch No:  17 , Test Batch Accuracy :  48.1764705882353\n",
            "Batch No:  18 , Test Batch Accuracy :  51.05555555555556\n",
            "Batch No:  19 , Test Batch Accuracy :  53.63157894736842\n",
            "Batch No:  20 , Test Batch Accuracy :  55.95\n",
            "Batch No:  21 , Test Batch Accuracy :  58.04761904761905\n",
            "Batch No:  22 , Test Batch Accuracy :  59.95454545454545\n",
            "Batch No:  23 , Test Batch Accuracy :  61.69565217391305\n",
            "Batch No:  24 , Test Batch Accuracy :  63.291666666666664\n",
            "Batch No:  25 , Test Batch Accuracy :  64.76\n",
            "Batch No:  26 , Test Batch Accuracy :  66.11538461538461\n",
            "Batch No:  27 , Test Batch Accuracy :  67.37037037037037\n",
            "Batch No:  28 , Test Batch Accuracy :  68.53571428571429\n",
            "Batch No:  29 , Test Batch Accuracy :  69.62068965517241\n",
            "Batch No:  30 , Test Batch Accuracy :  69.95\n",
            "Batch No:  31 , Test Batch Accuracy :  67.69354838709677\n",
            "Batch No:  32 , Test Batch Accuracy :  65.72189163795804\n",
            "0.6572189163795803\n"
          ]
        }
      ],
      "source": [
        "total_correct=0\n",
        "correct_predictions = []\n",
        "i=0\n",
        "total = 0\n",
        "test_loader = DataLoader(test_dataset, batch_size=200)\n",
        "for batch in test_loader:\n",
        "  image, label_original = batch\n",
        "  label = [test_label_map_dict[lab.item()] for lab in label_original]\n",
        "  label = torch.tensor(label)\n",
        "\n",
        "\n",
        "\n",
        "  pred = net(image.to(device))\n",
        "\n",
        "  total_correct += get_num_correct(pred,label.to(device))\n",
        "  correct_predictions.append(total_correct)\n",
        "\n",
        "  total += len(label)\n",
        "  acc = 100*total_correct/(total)\n",
        "  print('Batch No: ',i+1,', Test Batch Accuracy : ', acc)\n",
        "  i=i+1\n",
        "print(total_correct/len(test_dataset))"
      ]
    },
    {
      "cell_type": "code",
      "execution_count": null,
      "metadata": {
        "id": "Y1m5uTUVJ2bT",
        "colab": {
          "base_uri": "https://localhost:8080/",
          "height": 492
        },
        "outputId": "bf21b6e9-a828-44cd-9c66-bd79dc68bcf0"
      },
      "outputs": [
        {
          "output_type": "display_data",
          "data": {
            "text/plain": [
              "<Figure size 640x480 with 1 Axes>"
            ],
            "image/png": "[encoded data removed]"
          },
          "metadata": {}
        }
      ],
      "source": [
        "import matplotlib.pyplot as plt\n",
        "\n",
        "x_axis = range(1, len(correct_predictions) + 1)\n",
        "y_axis = [100 * correct / total for correct in correct_predictions]\n",
        "\n",
        "plt.plot(x_axis, y_axis)\n",
        "plt.xlabel('Batch Number')\n",
        "plt.ylabel('Test Accuracy (%)')\n",
        "plt.title('Test Accuracy vs. Batch Number')\n",
        "plt.show()"
      ]
    },
    {
      "cell_type": "code",
      "execution_count": null,
      "metadata": {
        "id": "f9lg2IKjJzXb"
      },
      "outputs": [],
      "source": []
    }
  ],
  "metadata": {
    "colab": {
      "provenance": []
    },
    "kernelspec": {
      "display_name": "Python 3",
      "name": "python3"
    },
    "language_info": {
      "name": "python"
    }
  },
  "nbformat": 4,
  "nbformat_minor": 0
}